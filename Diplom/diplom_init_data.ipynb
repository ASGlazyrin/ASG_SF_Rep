{
 "cells": [
  {
   "cell_type": "code",
   "execution_count": 1,
   "metadata": {},
   "outputs": [],
   "source": [
    "import json\n",
    "import pandas as pd"
   ]
  },
  {
   "cell_type": "code",
   "execution_count": 2,
   "metadata": {},
   "outputs": [
    {
     "name": "stdout",
     "output_type": "stream",
     "text": [
      "<class 'pandas.core.frame.DataFrame'>\n",
      "RangeIndex: 752072 entries, 0 to 752071\n",
      "Data columns (total 40 columns):\n",
      " #   Column              Non-Null Count   Dtype  \n",
      "---  ------              --------------   -----  \n",
      " 0   addOkved            752072 non-null  object \n",
      " 1   address             752072 non-null  object \n",
      " 2   chiefs              752072 non-null  object \n",
      " 3   dateLiquid          406460 non-null  object \n",
      " 4   dateOgrn            752072 non-null  object \n",
      " 5   dateReg             321581 non-null  object \n",
      " 6   email               11086 non-null   object \n",
      " 7   fullName            752072 non-null  object \n",
      " 8   inn                 749468 non-null  object \n",
      " 9   kpp                 748411 non-null  object \n",
      " 10  mainOkved           752072 non-null  object \n",
      " 11  ogrn                752072 non-null  object \n",
      " 12  opf                 752072 non-null  object \n",
      " 13  predecessors        752072 non-null  object \n",
      " 14  shortName           602778 non-null  object \n",
      " 15  statusInfo          752072 non-null  object \n",
      " 16  successors          752072 non-null  object \n",
      " 17  egrulStatus         752072 non-null  object \n",
      " 18  statusDetail        752072 non-null  object \n",
      " 19  foundersConfig      271348 non-null  object \n",
      " 20  regionCode          752072 non-null  object \n",
      " 21  regionName          752047 non-null  object \n",
      " 22  originDate          752072 non-null  object \n",
      " 23  minjustForm         466577 non-null  object \n",
      " 24  minjustStatus       466577 non-null  object \n",
      " 25  minjustRegNum       466577 non-null  object \n",
      " 26  okpo                345378 non-null  object \n",
      " 27  hasRegionalSupport  0 non-null       object \n",
      " 28  website             5287 non-null    object \n",
      " 29  website_punycode    5287 non-null    object \n",
      " 30  okato               752072 non-null  object \n",
      " 31  okfs                752072 non-null  object \n",
      " 32  okogu               752072 non-null  object \n",
      " 33  oktmo               752072 non-null  object \n",
      " 34  socialMedia         752072 non-null  object \n",
      " 35  opfType             752072 non-null  object \n",
      " 36  reports             752072 non-null  object \n",
      " 37  incomeTotal         752072 non-null  float64\n",
      " 38  incomeDetail        752072 non-null  object \n",
      " 39  incomeRank          752072 non-null  object \n",
      "dtypes: float64(1), object(39)\n",
      "memory usage: 229.5+ MB\n"
     ]
    }
   ],
   "source": [
    "data_list = []\n",
    "\n",
    "# Прочитать каждый файл JSON и добавить его данные в список\n",
    "for i in range(1, 17):\n",
    "    filename = f\"data/ngo_dump_{i:02d}.json\"  # Имя файла в формате \"ngo_dump_01.json\" до \"ngo_dump_15.json\"\n",
    "    with open(filename, 'r', encoding='utf-8') as f:\n",
    "        lines = f.readlines()\n",
    "    # Преобразовать каждую строку в объект JSON\n",
    "    for line in lines:\n",
    "        data = json.loads(line)\n",
    "        data_list.append(data)\n",
    "\n",
    "# Преобразовать список объектов JSON в DataFrame\n",
    "df_full = pd.DataFrame(data_list)\n",
    "df_full.info()"
   ]
  },
  {
   "cell_type": "code",
   "execution_count": 3,
   "metadata": {},
   "outputs": [],
   "source": [
    "# Сохранение DataFrame в файл CSV\n",
    "df_full.to_csv('data/init_data.csv', index=False)"
   ]
  }
 ],
 "metadata": {
  "kernelspec": {
   "display_name": "Python 3",
   "language": "python",
   "name": "python3"
  },
  "language_info": {
   "codemirror_mode": {
    "name": "ipython",
    "version": 3
   },
   "file_extension": ".py",
   "mimetype": "text/x-python",
   "name": "python",
   "nbconvert_exporter": "python",
   "pygments_lexer": "ipython3",
   "version": "3.9.10"
  }
 },
 "nbformat": 4,
 "nbformat_minor": 2
}
