{
 "cells": [
  {
   "cell_type": "markdown",
   "metadata": {},
   "source": [
    "# <center> **ДИПЛОМНАЯ РАБОТА**\n",
    "# <center> **на тему:** \n",
    "# <center> <U>**Бриф «Лаборатории исследований гражданского общества».**\n",
    "# <center> **Государственные деньги у НКО**</U>"
   ]
  },
  {
   "cell_type": "markdown",
   "metadata": {},
   "source": [
    "# *Описание проекта*\n",
    "В распоряжении есть дамп данных обо всех НКО России,  \n",
    "в котором содержится информация о получении государственных грантов,  \n",
    "госконтрактов и субсидий, регионе и дате регистрации,  \n",
    "а также ОКВЭД (классификатор экономической деятельности).\n",
    "# *Постановка задачи*\n",
    "Проверить, есть ли зависимость вероятности получения грантов от государства/госконтрактов:  \n",
    "➔ от региона регистрации организации;  \n",
    "➔ от возраста организации;  \n",
    "➔ от экономической деятельности организации.  \n",
    "По желанию можно провести любые дополнительные проверки.\n",
    "# *Исходные данные*\n",
    "Источник данных — проект «Открытые НКО» <https://openngo.ru/>  \n",
    "Дамп данных в формате JSON (актуален на 16.08.2023) <https://openngo.ru/opendata/>  \n",
    "Описание полей на GitHub <https://github.com/infoculture/openngo-data-reference/wiki/Характеристики-и-расшифровки-открытых-данных>"
   ]
  },
  {
   "cell_type": "markdown",
   "metadata": {},
   "source": [
    "## Библиотеки"
   ]
  },
  {
   "cell_type": "code",
   "execution_count": 1,
   "metadata": {},
   "outputs": [],
   "source": [
    "# общие библиотеки\n",
    "import pandas as pd # для работы с данными\n",
    "import numpy as np  # для выполнения научных вычислений\n",
    "import ast # для безопасного преобразования строки в список с помощью функции literal_eval()\n",
    "import json # для работы с данными в формате JSON\n",
    "from datetime import datetime # для работы датой и временем\n",
    "import category_encoders as ce # импортируем библиотеку для работы с кодировщиками\n",
    "\n",
    "# импортируем библиотеки для визуализации\n",
    "import matplotlib.pyplot as plt\n",
    "import seaborn as sns \n",
    "%matplotlib inline\n",
    "\n",
    "# для формирования моделей\n",
    "from sklearn.model_selection import train_test_split # для разделения датасета\n",
    "from sklearn import linear_model # линейные модели\n",
    "from sklearn import ensemble # ансамбли\n",
    "from sklearn.model_selection import GridSearchCV # для поиска наилучших гиперпараметров\n",
    "\n",
    "# метрики\n",
    "from sklearn import metrics #метрики\n",
    "from sklearn.metrics import precision_score"
   ]
  },
  {
   "cell_type": "markdown",
   "metadata": {},
   "source": [
    "## Глава 1. Анализ исходных данных"
   ]
  },
  {
   "cell_type": "markdown",
   "metadata": {},
   "source": [
    "Исходные данные представляют собой 16 файлов формата JSON.  \n",
    " \n",
    "Анализ исходных данных представляет собой:\n",
    "1. сбор 16 файлов формата JSON в единый DataFrame\n",
    "2. анализ количества строк, типов данных, пропущенных данных\n",
    "3. удаление признаков, однозначно не повлияющих на дальнейшее решение задачи"
   ]
  },
  {
   "cell_type": "code",
   "execution_count": 2,
   "metadata": {},
   "outputs": [
    {
     "data": {
      "text/html": [
       "<div>\n",
       "<style scoped>\n",
       "    .dataframe tbody tr th:only-of-type {\n",
       "        vertical-align: middle;\n",
       "    }\n",
       "\n",
       "    .dataframe tbody tr th {\n",
       "        vertical-align: top;\n",
       "    }\n",
       "\n",
       "    .dataframe thead th {\n",
       "        text-align: right;\n",
       "    }\n",
       "</style>\n",
       "<table border=\"1\" class=\"dataframe\">\n",
       "  <thead>\n",
       "    <tr style=\"text-align: right;\">\n",
       "      <th></th>\n",
       "      <th>addOkved</th>\n",
       "      <th>address</th>\n",
       "      <th>chiefs</th>\n",
       "      <th>dateLiquid</th>\n",
       "      <th>dateOgrn</th>\n",
       "      <th>dateReg</th>\n",
       "      <th>email</th>\n",
       "      <th>fullName</th>\n",
       "      <th>inn</th>\n",
       "      <th>kpp</th>\n",
       "      <th>...</th>\n",
       "      <th>okato</th>\n",
       "      <th>okfs</th>\n",
       "      <th>okogu</th>\n",
       "      <th>oktmo</th>\n",
       "      <th>socialMedia</th>\n",
       "      <th>opfType</th>\n",
       "      <th>reports</th>\n",
       "      <th>incomeTotal</th>\n",
       "      <th>incomeDetail</th>\n",
       "      <th>incomeRank</th>\n",
       "    </tr>\n",
       "  </thead>\n",
       "  <tbody>\n",
       "    <tr>\n",
       "      <th>0</th>\n",
       "      <td>[{'code': '72.4', 'name': 'Деятельность по соз...</td>\n",
       "      <td>422430, РЕСПУБЛИКА ТАТАРСТАН, ГОРОД БУИНСК, УЛ...</td>\n",
       "      <td>[{'name': 'ХАЛИКОВ РАШИТ РИНАТОВИЧ', 'title': ...</td>\n",
       "      <td>{'$date': '2012-12-17T00:00:00.000Z'}</td>\n",
       "      <td>{'$date': '2010-03-03T00:00:00.000Z'}</td>\n",
       "      <td>None</td>\n",
       "      <td>None</td>\n",
       "      <td>НЕКОММЕРЧЕСКОЕ ПАРТНЕРСТВО \"ИНФОРМАЦИОННО-КОНС...</td>\n",
       "      <td>1614010370</td>\n",
       "      <td>161401001</td>\n",
       "      <td>...</td>\n",
       "      <td>{'code': None, 'name': None}</td>\n",
       "      <td>{'code': None, 'name': None}</td>\n",
       "      <td>{'code': None, 'name': None}</td>\n",
       "      <td>{'code': None, 'name': None}</td>\n",
       "      <td>{'facebook': None, 'instagram': None, 'ok': No...</td>\n",
       "      <td>Некоммерческие партнерства</td>\n",
       "      <td>[]</td>\n",
       "      <td>0.0</td>\n",
       "      <td>{'grants': {'totalCount': 0, 'totalSum': 0}, '...</td>\n",
       "      <td>Наличие доходов из доступных источников не уст...</td>\n",
       "    </tr>\n",
       "    <tr>\n",
       "      <th>1</th>\n",
       "      <td>[{'code': '67.20.2', 'name': 'Деятельность спе...</td>\n",
       "      <td>430030, РЕСПУБЛИКА МОРДОВИЯ, ГОРОД САРАНСК, УЛ...</td>\n",
       "      <td>[{'name': 'ПУЗАНОВ ВЛАДИМИР ВЛАДИМИРОВИЧ', 'ti...</td>\n",
       "      <td>{'$date': '2014-11-10T00:00:00.000Z'}</td>\n",
       "      <td>{'$date': '2010-05-11T00:00:00.000Z'}</td>\n",
       "      <td>None</td>\n",
       "      <td>None</td>\n",
       "      <td>НЕКОММЕРЧЕСКОЕ ПАРТНЕРСТВО \"МЕЖРЕГИОНАЛЬНЫЙ НА...</td>\n",
       "      <td>1327010633</td>\n",
       "      <td>132701001</td>\n",
       "      <td>...</td>\n",
       "      <td>{'code': None, 'name': None}</td>\n",
       "      <td>{'code': None, 'name': None}</td>\n",
       "      <td>{'code': None, 'name': None}</td>\n",
       "      <td>{'code': None, 'name': None}</td>\n",
       "      <td>{'facebook': None, 'instagram': None, 'ok': No...</td>\n",
       "      <td>Некоммерческие партнерства</td>\n",
       "      <td>[{'type': 'Заявление', 'reportId': '19445801',...</td>\n",
       "      <td>0.0</td>\n",
       "      <td>{'grants': {'totalCount': 0, 'totalSum': 0}, '...</td>\n",
       "      <td>Наличие доходов из доступных источников не уст...</td>\n",
       "    </tr>\n",
       "  </tbody>\n",
       "</table>\n",
       "<p>2 rows × 40 columns</p>\n",
       "</div>"
      ],
      "text/plain": [
       "                                            addOkved  \\\n",
       "0  [{'code': '72.4', 'name': 'Деятельность по соз...   \n",
       "1  [{'code': '67.20.2', 'name': 'Деятельность спе...   \n",
       "\n",
       "                                             address  \\\n",
       "0  422430, РЕСПУБЛИКА ТАТАРСТАН, ГОРОД БУИНСК, УЛ...   \n",
       "1  430030, РЕСПУБЛИКА МОРДОВИЯ, ГОРОД САРАНСК, УЛ...   \n",
       "\n",
       "                                              chiefs  \\\n",
       "0  [{'name': 'ХАЛИКОВ РАШИТ РИНАТОВИЧ', 'title': ...   \n",
       "1  [{'name': 'ПУЗАНОВ ВЛАДИМИР ВЛАДИМИРОВИЧ', 'ti...   \n",
       "\n",
       "                              dateLiquid  \\\n",
       "0  {'$date': '2012-12-17T00:00:00.000Z'}   \n",
       "1  {'$date': '2014-11-10T00:00:00.000Z'}   \n",
       "\n",
       "                                dateOgrn dateReg email  \\\n",
       "0  {'$date': '2010-03-03T00:00:00.000Z'}    None  None   \n",
       "1  {'$date': '2010-05-11T00:00:00.000Z'}    None  None   \n",
       "\n",
       "                                            fullName         inn        kpp  \\\n",
       "0  НЕКОММЕРЧЕСКОЕ ПАРТНЕРСТВО \"ИНФОРМАЦИОННО-КОНС...  1614010370  161401001   \n",
       "1  НЕКОММЕРЧЕСКОЕ ПАРТНЕРСТВО \"МЕЖРЕГИОНАЛЬНЫЙ НА...  1327010633  132701001   \n",
       "\n",
       "   ...                         okato                          okfs  \\\n",
       "0  ...  {'code': None, 'name': None}  {'code': None, 'name': None}   \n",
       "1  ...  {'code': None, 'name': None}  {'code': None, 'name': None}   \n",
       "\n",
       "                          okogu                         oktmo  \\\n",
       "0  {'code': None, 'name': None}  {'code': None, 'name': None}   \n",
       "1  {'code': None, 'name': None}  {'code': None, 'name': None}   \n",
       "\n",
       "                                         socialMedia  \\\n",
       "0  {'facebook': None, 'instagram': None, 'ok': No...   \n",
       "1  {'facebook': None, 'instagram': None, 'ok': No...   \n",
       "\n",
       "                      opfType  \\\n",
       "0  Некоммерческие партнерства   \n",
       "1  Некоммерческие партнерства   \n",
       "\n",
       "                                             reports incomeTotal  \\\n",
       "0                                                 []         0.0   \n",
       "1  [{'type': 'Заявление', 'reportId': '19445801',...         0.0   \n",
       "\n",
       "                                        incomeDetail  \\\n",
       "0  {'grants': {'totalCount': 0, 'totalSum': 0}, '...   \n",
       "1  {'grants': {'totalCount': 0, 'totalSum': 0}, '...   \n",
       "\n",
       "                                          incomeRank  \n",
       "0  Наличие доходов из доступных источников не уст...  \n",
       "1  Наличие доходов из доступных источников не уст...  \n",
       "\n",
       "[2 rows x 40 columns]"
      ]
     },
     "execution_count": 2,
     "metadata": {},
     "output_type": "execute_result"
    }
   ],
   "source": [
    "# сбор 16 файлов формата JSON в единый DataFrame\n",
    "\n",
    "data_list = [] # список данных\n",
    "\n",
    "# Прочитать каждый файл JSON и добавить его данные в список\n",
    "for i in range(1, 17):\n",
    "    filename = f\"data/ngo_dump_{i:02d}.json\"  # Имя файла в формате \"ngo_dump_01.json\" до \"ngo_dump_16.json\"\n",
    "    with open(filename, 'r', encoding='utf-8') as f:\n",
    "        lines = f.readlines()\n",
    "    # Преобразовать каждую строку в объект JSON\n",
    "    for line in lines:\n",
    "        data = json.loads(line)\n",
    "        data_list.append(data)\n",
    "\n",
    "# Преобразовать список объектов JSON в DataFrame\n",
    "df_full = pd.DataFrame(data_list)\n",
    "df_full.head(2)"
   ]
  },
  {
   "cell_type": "code",
   "execution_count": 3,
   "metadata": {},
   "outputs": [
    {
     "name": "stdout",
     "output_type": "stream",
     "text": [
      "<class 'pandas.core.frame.DataFrame'>\n",
      "RangeIndex: 752072 entries, 0 to 752071\n",
      "Data columns (total 40 columns):\n",
      " #   Column              Non-Null Count   Dtype  \n",
      "---  ------              --------------   -----  \n",
      " 0   addOkved            752072 non-null  object \n",
      " 1   address             752072 non-null  object \n",
      " 2   chiefs              752072 non-null  object \n",
      " 3   dateLiquid          406460 non-null  object \n",
      " 4   dateOgrn            752072 non-null  object \n",
      " 5   dateReg             321581 non-null  object \n",
      " 6   email               11086 non-null   object \n",
      " 7   fullName            752072 non-null  object \n",
      " 8   inn                 749468 non-null  object \n",
      " 9   kpp                 748411 non-null  object \n",
      " 10  mainOkved           752072 non-null  object \n",
      " 11  ogrn                752072 non-null  object \n",
      " 12  opf                 752072 non-null  object \n",
      " 13  predecessors        752072 non-null  object \n",
      " 14  shortName           602778 non-null  object \n",
      " 15  statusInfo          752072 non-null  object \n",
      " 16  successors          752072 non-null  object \n",
      " 17  egrulStatus         752072 non-null  object \n",
      " 18  statusDetail        752072 non-null  object \n",
      " 19  foundersConfig      271348 non-null  object \n",
      " 20  regionCode          752072 non-null  object \n",
      " 21  regionName          752047 non-null  object \n",
      " 22  originDate          752072 non-null  object \n",
      " 23  minjustForm         466577 non-null  object \n",
      " 24  minjustStatus       466577 non-null  object \n",
      " 25  minjustRegNum       466577 non-null  object \n",
      " 26  okpo                345378 non-null  object \n",
      " 27  hasRegionalSupport  0 non-null       object \n",
      " 28  website             5287 non-null    object \n",
      " 29  website_punycode    5287 non-null    object \n",
      " 30  okato               752072 non-null  object \n",
      " 31  okfs                752072 non-null  object \n",
      " 32  okogu               752072 non-null  object \n",
      " 33  oktmo               752072 non-null  object \n",
      " 34  socialMedia         752072 non-null  object \n",
      " 35  opfType             752072 non-null  object \n",
      " 36  reports             752072 non-null  object \n",
      " 37  incomeTotal         752072 non-null  float64\n",
      " 38  incomeDetail        752072 non-null  object \n",
      " 39  incomeRank          752072 non-null  object \n",
      "dtypes: float64(1), object(39)\n",
      "memory usage: 229.5+ MB\n"
     ]
    }
   ],
   "source": [
    "df_full.info()"
   ]
  },
  {
   "cell_type": "code",
   "execution_count": 4,
   "metadata": {},
   "outputs": [
    {
     "name": "stdout",
     "output_type": "stream",
     "text": [
      "'dateLiquid': 345612\n",
      "'dateReg': 430491\n",
      "'email': 740986\n",
      "'inn': 2604\n",
      "'kpp': 3661\n",
      "'shortName': 149294\n",
      "'foundersConfig': 480724\n",
      "'regionName': 25\n",
      "'minjustForm': 285495\n",
      "'minjustStatus': 285495\n",
      "'minjustRegNum': 285495\n",
      "'okpo': 406694\n",
      "'hasRegionalSupport': 752072\n",
      "'website': 746785\n",
      "'website_punycode': 746785\n"
     ]
    }
   ],
   "source": [
    "# Перечень признаков с пропущенными данными\n",
    "missing_columns = df_full.columns[df_full.isnull().any()]\n",
    "for column in missing_columns:\n",
    "    missing_count = df_full[column].isnull().sum()\n",
    "    print(f\"'{column}': {missing_count}\")"
   ]
  },
  {
   "cell_type": "markdown",
   "metadata": {},
   "source": [
    "Рассмотрим столбцы/признаки, значение которых объективно не могут влияют на поставленную задачу, на целевой признак \"incomeTotal\" - сумма доходов:\n",
    "1. chiefs: руководители организации (не будем рассматривать вариант влияния субъекта на целевой признак, иными словами коррупцию) \n",
    "2. email: email организации\n",
    "3. shortName: сокращенное наименование организации\n",
    "4. inn\n",
    "5. kpp\n",
    "6. regionName: название региона организации (есть признак \"regionCode\" - код региона, этого достаточно)\n",
    "7. statusDetail: текущий статус организации (значений не много, кроме того нам нужны данные в ретроспективе, а не текущий статус)\n",
    "8. minjustStatus: статус НКО в системе Минюста РФ - УНРО (много пропусков)\n",
    "9. minjustRegNum: реестровый номер НКО в системе Минюста РФ - УНРО (много пропусков)\n",
    "10. minjustForm: форма НКО, согласно системе Минюста РФ (имеет более полный аналог в признаке opfType)  \n",
    "11. hasRegionalSupport: региональная поддержка в качестве СО НКО (много пропусков)\n",
    "12. okato: сведения об ОКАТО (в списке пропущенных нет, но большинство со значением None;  \n",
    "кроме того административно-территориальное деление мало интересно, лучше использовать деление по регионам)\n",
    "13. oktmo: сведения об ОКТМО (в списке пропущенных нет, но большинство со значением None;  \n",
    "кроме того административно-территориальное деление мало интересно, лучше использовать деление по регионам)\n",
    "14. okpo: ОКПО (много пропусков)\n",
    "15. okogu: сведения об ОКОГУ: (признак скорее всего нужный, но мало заполненных строк; в рамках диплома исключаем)\n",
    "16. okfs: сведения об ОКФС: (признак скорее всего нужный, но мало заполненных строк; в рамках диплома исключаем)\n",
    "17. dateReg: дата регистрации организаций (имеет более полный аналог признака - originDate)\n",
    "18. dateOgrn: дата регистрации организаций (имеет более полный аналог признака - originDate)\n",
    "19. incomeRank: уровень дохода (имеет более полный аналог в признаках incomeTotal)\n",
    "20. website_punycode: домен вебсайта организации (много пропусков)\n",
    "21. website: домен вебсайта организации (много пропусков)\n",
    "22. reports: отчеты организации, поданные в Минюст РФ (утечка целевой переменной)\n",
    "23. socialMedia: сведения об учетных записях организации в соцсетях (много пропусков)\n",
    "24. egrulStatus: статус организации на основании данных ЕГРЮЛ (нужны данные в ретроспективе, а не текущий статус)\n",
    "25. foundersConfig: состав учредителей (признак скорее всего нужный, но мало заполненных строк; в рамках диплома исключаем)\n",
    "26. statusInfo: информация об ошибке регистрации (утечка целевой переменной)\n",
    "27. successors: преемники (нужны данные в ретроспективе)"
   ]
  },
  {
   "cell_type": "code",
   "execution_count": 5,
   "metadata": {},
   "outputs": [
    {
     "name": "stdout",
     "output_type": "stream",
     "text": [
      "<class 'pandas.core.frame.DataFrame'>\n",
      "RangeIndex: 752072 entries, 0 to 752071\n",
      "Data columns (total 14 columns):\n",
      " #   Column        Non-Null Count   Dtype  \n",
      "---  ------        --------------   -----  \n",
      " 0   addOkved      752072 non-null  object \n",
      " 1   address       752072 non-null  object \n",
      " 2   dateLiquid    406460 non-null  object \n",
      " 3   dateOgrn      752072 non-null  object \n",
      " 4   fullName      752072 non-null  object \n",
      " 5   mainOkved     752072 non-null  object \n",
      " 6   ogrn          752072 non-null  object \n",
      " 7   opf           752072 non-null  object \n",
      " 8   predecessors  752072 non-null  object \n",
      " 9   regionCode    752072 non-null  object \n",
      " 10  originDate    752072 non-null  object \n",
      " 11  opfType       752072 non-null  object \n",
      " 12  incomeTotal   752072 non-null  float64\n",
      " 13  incomeDetail  752072 non-null  object \n",
      "dtypes: float64(1), object(13)\n",
      "memory usage: 80.3+ MB\n"
     ]
    }
   ],
   "source": [
    "#Удаление столбцов/признаков, значение которых объективно не могут влияют на поставленную задачу, на целевой признак\n",
    "df_full = df_full.drop(['chiefs', 'email', 'shortName', 'inn', 'kpp', 'regionName', 'foundersConfig', 'minjustForm', 'website', 'dateOgrn',\n",
    "                        'statusDetail','minjustStatus','minjustRegNum','hasRegionalSupport','okato','oktmo', 'egrulStatus', 'okogu', 'okfs', 'successors',\n",
    "                        'okpo','dateReg', 'incomeRank', 'website_punycode', 'reports','socialMedia','statusInfo'], axis=1)\n",
    "df_full.info()"
   ]
  },
  {
   "cell_type": "markdown",
   "metadata": {},
   "source": [
    "<u>Вывод по Главе 1:</u>\n",
    "1. Количество строк 752072.\n",
    "2. Из первоначальных 40 признаков оставлены необходимые для дальнейшей работы 14.\n",
    "3. Пропущенные данные только у признака dateLiquid -  дата ликвидации юрлиц; это нормально: пропущенные значения - это действующие организации.\n",
    "4. Тип float только для суммы доходов - incomeTotal, у остальных - тип object."
   ]
  },
  {
   "cell_type": "markdown",
   "metadata": {},
   "source": [
    "## Глава 2. Анализ целевого признака"
   ]
  },
  {
   "cell_type": "markdown",
   "metadata": {},
   "source": [
    "Целевой признак в задаче - \"incomeTotal\" - общая сумма доходов из известных источников.  \n",
    "В анализ целевого признака входит:\n",
    "- рассмотрение статей доходов;\n",
    "- визуализация данных о целевом признаке;\n",
    "- количественные данные о целевом признаке. "
   ]
  },
  {
   "cell_type": "markdown",
   "metadata": {},
   "source": [
    "Сформируем признаки - статьи доходов:\n",
    "1. totalSumGrants (тип floats) - сумма грантов и субсидий\n",
    "2. totalSumContract (тип floats) - сумма контрактов\n",
    "\n",
    "Исходные данные для формирования признаков - признак incomeDetail.  \n",
    "incomeDetail - детализация сведений о доходах. \n",
    "   \n",
    "Формат incomDetail - словарь; пример: \n",
    "   \n",
    "\"incomeDetail\": {\"grants\": {\"totalCount\": 0, \"totalSum\": 0}, \"fedSubsidies\": {\"totalCount\": 0, \"totalSum\": 0},   \n",
    "\"contracts44\": {\"totalCount\": 0, \"totalSum\": 0}, \"contracts94\": {\"totalCount\": 0, \"totalSum\": 0},  \n",
    "\"contracts223\": {\"totalCount\": 0, \"totalSum\": 0}}"
   ]
  },
  {
   "cell_type": "code",
   "execution_count": 6,
   "metadata": {},
   "outputs": [],
   "source": [
    "df_full['incomeDetail'] = df_full['incomeDetail'].astype(str)\n",
    "\n",
    "# Функция для вычисления суммы totalSumGrants для \"grants\" и \"fedSubsidies\"\n",
    "def calculate_total_sum_grant(json_string):\n",
    "    #Аргумент \"json_string\" - строка с данными о сумме и количеству грантов, субсидий и контрактов\n",
    "    try:\n",
    "        # Преобразование JSON-строки        \n",
    "        income_detail_dict = eval(json_string)\n",
    "        # Получение значений totalSum для \"grants\" и \"fedSubsidies\"\n",
    "        grants_total_sum = income_detail_dict.get(\"grants\", {}).get(\"totalSum\", 0)\n",
    "        fed_subsidies_total_sum = income_detail_dict.get(\"fedSubsidies\", {}).get(\"totalSum\", 0) \n",
    "        # Возвращение суммы totalSumGrants типа float\n",
    "        return float(grants_total_sum) + float(fed_subsidies_total_sum)\n",
    "    except:\n",
    "        return 0\n",
    " \n",
    "\n",
    "# Функция для вычисления суммы totalSum для \"grants\" и \"fedSubsidies\"\n",
    "def calculate_total_sum_contract(json_string):\n",
    "    #Аргумент \"json_string\" - строка с данными о сумме и количеству грантов, субсидий и контрактов\n",
    "    try:\n",
    "        # Преобразование JSON-строки        \n",
    "        income_detail_dict = eval(json_string)\n",
    "        # Получение значений totalSum для контрактов: contracts44, contracts94, contracts223\n",
    "        total_sum_44 = income_detail_dict.get(\"contracts44\", {}).get(\"totalSum\", 0)\n",
    "        total_sum_94 = income_detail_dict.get(\"contracts94\", {}).get(\"totalSum\", 0)\n",
    "        total_sum_223 = income_detail_dict.get(\"contracts223\", {}).get(\"totalSum\", 0)\n",
    "        # Возвращение суммы totalSumContract типа float\n",
    "        return float(total_sum_44) + float(total_sum_94) + float(total_sum_223)\n",
    "    except:\n",
    "        return 0\n",
    "\n",
    "# Формирование признаков totalSumGrants и totalSumContract\n",
    "df_full['totalSumGrants'] = df_full['incomeDetail'].apply(calculate_total_sum_grant)\n",
    "df_full['totalSumContract'] = df_full['incomeDetail'].apply(calculate_total_sum_contract)"
   ]
  },
  {
   "cell_type": "code",
   "execution_count": 7,
   "metadata": {},
   "outputs": [
    {
     "data": {
      "image/png": "[encoded data removed]",
      "text/plain": [
       "<Figure size 640x480 with 1 Axes>"
      ]
     },
     "metadata": {},
     "output_type": "display_data"
    },
    {
     "data": {
      "image/png": "[encoded data removed]",
      "text/plain": [
       "<Figure size 640x480 with 1 Axes>"
      ]
     },
     "metadata": {},
     "output_type": "display_data"
    }
   ],
   "source": [
    "#Визуализация данных о распределении организаций по доходам\n",
    "\n",
    "# Распределение организаций по доходам\n",
    "df_full['без_дохода'] = df_full['incomeTotal'].apply(lambda x: 1 if x == 0 else 0)\n",
    "df_full['с_доходом'] = df_full['incomeTotal'].apply(lambda x: 1 if x > 0 else 0)\n",
    "\n",
    "ax = df_full[['без_дохода', 'с_доходом']].sum().plot(kind='bar')\n",
    "plt.xlabel('Категория организаций')\n",
    "plt.ylabel('Количество организаций')\n",
    "plt.title('Распределение организаций по доходам')\n",
    "\n",
    "for p in ax.patches:\n",
    "    ax.annotate(str(p.get_height()), (p.get_x() + p.get_width() / 2, p.get_height()), ha='center')\n",
    "\n",
    "plt.show()\n",
    "\n",
    "# Распределение по грантам и контрактам\n",
    "df_full['только_гранты'] = ((df_full['totalSumGrants'] > 0) & (df_full['totalSumContract'] == 0)).astype(int)\n",
    "df_full['только_контракты'] = ((df_full['totalSumGrants'] == 0) & (df_full['totalSumContract'] > 0)).astype(int)\n",
    "df_full['гранты_и_контракты'] = ((df_full['totalSumGrants'] > 0) & (df_full['totalSumContract'] > 0)).astype(int)\n",
    "\n",
    "ax = df_full[['только_гранты', 'только_контракты', 'гранты_и_контракты']].sum().plot(kind='bar')\n",
    "plt.xlabel('Категория организаций')\n",
    "plt.ylabel('Количество организаций')\n",
    "plt.title('Распределение по грантам и контрактам')\n",
    "\n",
    "for p in ax.patches:\n",
    "    ax.annotate(str(p.get_height()), (p.get_x() + p.get_width() / 2, p.get_height()), ha='center')\n",
    "\n",
    "plt.show()\n",
    "\n",
    "# Удаление временных столбцов\n",
    "df_full.drop(['без_дохода', 'с_доходом', 'только_гранты', 'только_контракты', 'гранты_и_контракты'], axis=1, inplace=True)"
   ]
  },
  {
   "cell_type": "markdown",
   "metadata": {},
   "source": [
    "<u>Вывод по Главе 2:</u>\n",
    "1. При 752072 организаций количество организаций с доходом - 34742 (менее 4,62%).\n",
    "2. Распределение организаций с доход и без дохода - неравномерно; это нужно учесть при разделени на тестовые и тренеровочные наборы.\n",
    "3. Большая часть доходов - контракты.\n",
    "4. При таком малом количестве организаций с доходом, лучше не разбивать организации по статьям.\n",
    "5. Целевой прихнак incomeTotal разбить на два класса организаций: 1 - с доходом, 0 - без дохода."
   ]
  },
  {
   "cell_type": "code",
   "execution_count": 8,
   "metadata": {},
   "outputs": [],
   "source": [
    "# заменим значения признака incomeTotal со значения суммы на бинарное значение: \n",
    "# 1 - организация с доходом, 0 - организация без дохода.\n",
    "df_full['incomeTotal'] = df_full['incomeTotal'].apply(lambda x: 1 if x > 0 else 0)"
   ]
  },
  {
   "cell_type": "code",
   "execution_count": 9,
   "metadata": {},
   "outputs": [
    {
     "name": "stdout",
     "output_type": "stream",
     "text": [
      "<class 'pandas.core.frame.DataFrame'>\n",
      "RangeIndex: 752072 entries, 0 to 752071\n",
      "Data columns (total 13 columns):\n",
      " #   Column        Non-Null Count   Dtype \n",
      "---  ------        --------------   ----- \n",
      " 0   addOkved      752072 non-null  object\n",
      " 1   address       752072 non-null  object\n",
      " 2   dateLiquid    406460 non-null  object\n",
      " 3   dateOgrn      752072 non-null  object\n",
      " 4   fullName      752072 non-null  object\n",
      " 5   mainOkved     752072 non-null  object\n",
      " 6   ogrn          752072 non-null  object\n",
      " 7   opf           752072 non-null  object\n",
      " 8   predecessors  752072 non-null  object\n",
      " 9   regionCode    752072 non-null  object\n",
      " 10  originDate    752072 non-null  object\n",
      " 11  opfType       752072 non-null  object\n",
      " 12  incomeTotal   752072 non-null  int64 \n",
      "dtypes: int64(1), object(12)\n",
      "memory usage: 74.6+ MB\n"
     ]
    }
   ],
   "source": [
    "# удаление признаков, связанных со статьями по доходам и, далее не нужный признак incomeDetail.\n",
    "df_full = df_full.drop(['totalSumGrants', 'totalSumContract','incomeDetail'], axis=1)\n",
    "df_full.info()"
   ]
  },
  {
   "cell_type": "markdown",
   "metadata": {},
   "source": [
    "## Глава 3. Обработка признаков с типом object"
   ]
  },
  {
   "cell_type": "markdown",
   "metadata": {},
   "source": [
    "### 3.1. Обработка признака regionCode - код региона"
   ]
  },
  {
   "cell_type": "markdown",
   "metadata": {},
   "source": [
    "При анализировании признаков, связанных с регионом, видно:  \n",
    "- 25 строк имеют пропуски в наименовании региона;  \n",
    "- 25 строк имеют нулевые значения в коде региона."
   ]
  },
  {
   "cell_type": "code",
   "execution_count": 10,
   "metadata": {},
   "outputs": [
    {
     "data": {
      "text/html": [
       "<div>\n",
       "<style scoped>\n",
       "    .dataframe tbody tr th:only-of-type {\n",
       "        vertical-align: middle;\n",
       "    }\n",
       "\n",
       "    .dataframe tbody tr th {\n",
       "        vertical-align: top;\n",
       "    }\n",
       "\n",
       "    .dataframe thead th {\n",
       "        text-align: right;\n",
       "    }\n",
       "</style>\n",
       "<table border=\"1\" class=\"dataframe\">\n",
       "  <thead>\n",
       "    <tr style=\"text-align: right;\">\n",
       "      <th></th>\n",
       "      <th>regionCode</th>\n",
       "      <th>address</th>\n",
       "    </tr>\n",
       "  </thead>\n",
       "  <tbody>\n",
       "    <tr>\n",
       "      <th>101323</th>\n",
       "      <td>00</td>\n",
       "      <td>420108, РЕСПУБЛИКА ТАТАРСТАН, УЛИЦА АМИРХАНА, ...</td>\n",
       "    </tr>\n",
       "    <tr>\n",
       "      <th>102989</th>\n",
       "      <td>00</td>\n",
       "      <td>РЕСПУБЛИКА ТАТАРСТАН, УЛИЦА М.ДЖАЛИЛЯ, ДОМ 3</td>\n",
       "    </tr>\n",
       "    <tr>\n",
       "      <th>191591</th>\n",
       "      <td>00</td>\n",
       "      <td>420111, РЕСПУБЛИКА ТАТАРСТАН, УЛИЦА М.ДЖАЛИЛЯ,...</td>\n",
       "    </tr>\n",
       "    <tr>\n",
       "      <th>217069</th>\n",
       "      <td>00</td>\n",
       "      <td>420138, РЕСПУБЛИКА ТАТАРСТАН, УЛИЦА ПРОСПЕКТ П...</td>\n",
       "    </tr>\n",
       "    <tr>\n",
       "      <th>217070</th>\n",
       "      <td>00</td>\n",
       "      <td>420140, РЕСПУБЛИКА ТАТАРСТАН, УЛИЦА Ю.ФУЧИКА, ...</td>\n",
       "    </tr>\n",
       "    <tr>\n",
       "      <th>218430</th>\n",
       "      <td>00</td>\n",
       "      <td>420138, РЕСПУБЛИКА ТАТАРСТАН, УЛИЦА ПРОСПЕКТ П...</td>\n",
       "    </tr>\n",
       "    <tr>\n",
       "      <th>218468</th>\n",
       "      <td>00</td>\n",
       "      <td>420103, РЕСПУБЛИКА ТАТАРСТАН, УЛИЦА АМИРХАНА, ...</td>\n",
       "    </tr>\n",
       "    <tr>\n",
       "      <th>218475</th>\n",
       "      <td>00</td>\n",
       "      <td>420104, РЕСПУБЛИКА ТАТАРСТАН, УЛИЦА Р.ЗОРГЕ, Д...</td>\n",
       "    </tr>\n",
       "    <tr>\n",
       "      <th>218514</th>\n",
       "      <td>00</td>\n",
       "      <td>420087, РЕСПУБЛИКА ТАТАРСТАН, УЛИЦА Р.ЗОРГЕ, Д...</td>\n",
       "    </tr>\n",
       "    <tr>\n",
       "      <th>220009</th>\n",
       "      <td>00</td>\n",
       "      <td>420101, РЕСПУБЛИКА ТАТАРСТАН, УЛИЦА МАВЛЮТОВА,...</td>\n",
       "    </tr>\n",
       "    <tr>\n",
       "      <th>220059</th>\n",
       "      <td>00</td>\n",
       "      <td>420021, РЕСПУБЛИКА ТАТАРСТАН, УЛИЦА КАМАЛА ГАЛ...</td>\n",
       "    </tr>\n",
       "    <tr>\n",
       "      <th>220079</th>\n",
       "      <td>00</td>\n",
       "      <td>420133, РЕСПУБЛИКА ТАТАРСТАН, УЛИЦА ЛАВРЕНТЬЕВ...</td>\n",
       "    </tr>\n",
       "    <tr>\n",
       "      <th>305326</th>\n",
       "      <td>00</td>\n",
       "      <td>420015, РЕСПУБЛИКА ТАТАРСТАН, УЛИЦА К.МАРКСА, ...</td>\n",
       "    </tr>\n",
       "    <tr>\n",
       "      <th>348177</th>\n",
       "      <td>00</td>\n",
       "      <td>420045, РЕСПУБЛИКА ТАТАРСТАН, УЛИЦА Н.ЕРШОВА, ...</td>\n",
       "    </tr>\n",
       "    <tr>\n",
       "      <th>364286</th>\n",
       "      <td>00</td>\n",
       "      <td>420100, РЕСПУБЛИКА ТАТАРСТАН, УЛИЦА ПРОСПЕКТ П...</td>\n",
       "    </tr>\n",
       "    <tr>\n",
       "      <th>371864</th>\n",
       "      <td>00</td>\n",
       "      <td>420015, РЕСПУБЛИКА Татарстан, УЛИЦА К.МАРКСА, ...</td>\n",
       "    </tr>\n",
       "    <tr>\n",
       "      <th>429532</th>\n",
       "      <td>00</td>\n",
       "      <td>420140, РЕСПУБЛИКА ТАТАРСТАН, УЛИЦА ПРОСПЕКТ П...</td>\n",
       "    </tr>\n",
       "    <tr>\n",
       "      <th>506197</th>\n",
       "      <td>00</td>\n",
       "      <td>420044, РЕСПУБЛИКА ТАТАРСТАН, УЛИЦА ЯМАШЕВА, Д...</td>\n",
       "    </tr>\n",
       "    <tr>\n",
       "      <th>512455</th>\n",
       "      <td>00</td>\n",
       "      <td>420111, РЕСПУБЛИКА ТАТАРСТАН, УЛИЦА ПРАВОБУЛАЧ...</td>\n",
       "    </tr>\n",
       "    <tr>\n",
       "      <th>516285</th>\n",
       "      <td>00</td>\n",
       "      <td>420111, РЕСПУБЛИКА ТАТАРСТАН, УЛИЦА АМИРХАНА, ...</td>\n",
       "    </tr>\n",
       "    <tr>\n",
       "      <th>608821</th>\n",
       "      <td>00</td>\n",
       "      <td>РЕСПУБЛИКА ТАТАРСТАН, УЛИЦА Н.ЕРШОВА, ДОМ 28, ...</td>\n",
       "    </tr>\n",
       "    <tr>\n",
       "      <th>637762</th>\n",
       "      <td>00</td>\n",
       "      <td>РЕСПУБЛИКА ТАТАРСТАН, УЛИЦА ПРОСПЕКТ ПОБЕДЫ</td>\n",
       "    </tr>\n",
       "    <tr>\n",
       "      <th>639931</th>\n",
       "      <td>00</td>\n",
       "      <td>420021, РЕСПУБЛИКА ТАТАРСТАН, УЛИЦА К.ТИНЧУРИН...</td>\n",
       "    </tr>\n",
       "    <tr>\n",
       "      <th>642164</th>\n",
       "      <td>00</td>\n",
       "      <td>РЕСПУБЛИКА ТАТАРСТАН, УЛИЦА К.ТИНЧУРИНА, ДОМ 3</td>\n",
       "    </tr>\n",
       "    <tr>\n",
       "      <th>649479</th>\n",
       "      <td>00</td>\n",
       "      <td>420140, РЕСПУБЛИКА ТАТАРСТАН, УЛИЦА КАРАТАУ, Д...</td>\n",
       "    </tr>\n",
       "  </tbody>\n",
       "</table>\n",
       "</div>"
      ],
      "text/plain": [
       "       regionCode                                            address\n",
       "101323         00  420108, РЕСПУБЛИКА ТАТАРСТАН, УЛИЦА АМИРХАНА, ...\n",
       "102989         00       РЕСПУБЛИКА ТАТАРСТАН, УЛИЦА М.ДЖАЛИЛЯ, ДОМ 3\n",
       "191591         00  420111, РЕСПУБЛИКА ТАТАРСТАН, УЛИЦА М.ДЖАЛИЛЯ,...\n",
       "217069         00  420138, РЕСПУБЛИКА ТАТАРСТАН, УЛИЦА ПРОСПЕКТ П...\n",
       "217070         00  420140, РЕСПУБЛИКА ТАТАРСТАН, УЛИЦА Ю.ФУЧИКА, ...\n",
       "218430         00  420138, РЕСПУБЛИКА ТАТАРСТАН, УЛИЦА ПРОСПЕКТ П...\n",
       "218468         00  420103, РЕСПУБЛИКА ТАТАРСТАН, УЛИЦА АМИРХАНА, ...\n",
       "218475         00  420104, РЕСПУБЛИКА ТАТАРСТАН, УЛИЦА Р.ЗОРГЕ, Д...\n",
       "218514         00  420087, РЕСПУБЛИКА ТАТАРСТАН, УЛИЦА Р.ЗОРГЕ, Д...\n",
       "220009         00  420101, РЕСПУБЛИКА ТАТАРСТАН, УЛИЦА МАВЛЮТОВА,...\n",
       "220059         00  420021, РЕСПУБЛИКА ТАТАРСТАН, УЛИЦА КАМАЛА ГАЛ...\n",
       "220079         00  420133, РЕСПУБЛИКА ТАТАРСТАН, УЛИЦА ЛАВРЕНТЬЕВ...\n",
       "305326         00  420015, РЕСПУБЛИКА ТАТАРСТАН, УЛИЦА К.МАРКСА, ...\n",
       "348177         00  420045, РЕСПУБЛИКА ТАТАРСТАН, УЛИЦА Н.ЕРШОВА, ...\n",
       "364286         00  420100, РЕСПУБЛИКА ТАТАРСТАН, УЛИЦА ПРОСПЕКТ П...\n",
       "371864         00  420015, РЕСПУБЛИКА Татарстан, УЛИЦА К.МАРКСА, ...\n",
       "429532         00  420140, РЕСПУБЛИКА ТАТАРСТАН, УЛИЦА ПРОСПЕКТ П...\n",
       "506197         00  420044, РЕСПУБЛИКА ТАТАРСТАН, УЛИЦА ЯМАШЕВА, Д...\n",
       "512455         00  420111, РЕСПУБЛИКА ТАТАРСТАН, УЛИЦА ПРАВОБУЛАЧ...\n",
       "516285         00  420111, РЕСПУБЛИКА ТАТАРСТАН, УЛИЦА АМИРХАНА, ...\n",
       "608821         00  РЕСПУБЛИКА ТАТАРСТАН, УЛИЦА Н.ЕРШОВА, ДОМ 28, ...\n",
       "637762         00        РЕСПУБЛИКА ТАТАРСТАН, УЛИЦА ПРОСПЕКТ ПОБЕДЫ\n",
       "639931         00  420021, РЕСПУБЛИКА ТАТАРСТАН, УЛИЦА К.ТИНЧУРИН...\n",
       "642164         00     РЕСПУБЛИКА ТАТАРСТАН, УЛИЦА К.ТИНЧУРИНА, ДОМ 3\n",
       "649479         00  420140, РЕСПУБЛИКА ТАТАРСТАН, УЛИЦА КАРАТАУ, Д..."
      ]
     },
     "execution_count": 10,
     "metadata": {},
     "output_type": "execute_result"
    }
   ],
   "source": [
    "df_full[df_full['regionCode'] == '00'][['regionCode','address']]"
   ]
  },
  {
   "cell_type": "markdown",
   "metadata": {},
   "source": [
    "Нулевые значения в коде региона относятся к Республике Татарстан - код 16.  \n",
    "Заменим пропущенные значения в коде региона на соответствующий код.  \n",
    "Тип данных кода региона regionCode сделаем int."
   ]
  },
  {
   "cell_type": "code",
   "execution_count": 11,
   "metadata": {},
   "outputs": [
    {
     "name": "stdout",
     "output_type": "stream",
     "text": [
      "Количество строк с нулевым кодом региона: 0\n",
      "Количество уникальных кодов региона: 92\n"
     ]
    }
   ],
   "source": [
    "# Колиство строк, в котором код - нулевой, - 25. Во всех строках представлен регион - \"РЕСПУБЛИКА ТАТАРСТАН\".\n",
    "# Заменим нулевой код региона на значение 16 - \"РЕСПУБЛИКА ТАТАРСТАН\".\n",
    "# Тип данных кода региона regionCode сделаем int.\n",
    "\n",
    "df_full['regionCode'] = df_full['regionCode'].apply(lambda x: int(x))\n",
    "df_full['regionCode'] = df_full['regionCode'].apply(lambda x: 16 if x == 0 else x)\n",
    "regionCode_0 = df_full[df_full['regionCode'] == 0]['regionCode'].count()\n",
    "regionCode_nunique = df_full['regionCode'].nunique()\n",
    "print(f'Количество строк с нулевым кодом региона: {regionCode_0}')\n",
    "print(f'Количество уникальных кодов региона: {regionCode_nunique}')"
   ]
  },
  {
   "cell_type": "markdown",
   "metadata": {},
   "source": [
    "Количество уникальных кодов региона: 92.\n",
    "Чтобы увеличить зависимость вероятности получения грантов от регионов, объединим регионы в округа, которых 9.  \n",
    "Выделим также коды регионов, в которых есть города миллионники.\n",
    "Выделим отдельно город республиканского значения.\n",
    "В итоге вместо 92 кодов останутся 25."
   ]
  },
  {
   "cell_type": "code",
   "execution_count": 12,
   "metadata": {},
   "outputs": [
    {
     "name": "stdout",
     "output_type": "stream",
     "text": [
      "Количество уникальных кодов региона: 25\n"
     ]
    }
   ],
   "source": [
    "#Регионы городов миллионников\n",
    "million_cities = ['Москва','Санкт-Петербург','Новосибирск', 'Екатеринбург', 'Нижний Новгород', 'Казань', 'Челябинск', 'Омск', \n",
    "                  'Самара', 'Ростов-на-Дону', 'Уфа', 'Красноярск', 'Пермь', 'Воронеж', 'Волгоград', 'Краснодар']\n",
    "region_million_cities = [2,16,23,24,34,36,52,54,55,59,61,63,66,74,77,78]\n",
    "#Регионы центрального федерального округа\n",
    "region_cfo = [31,32,33,37,40,44,46,48,50,57,62,67,68,69,71,76]\n",
    "#Регионы Северо-Западного федерального округа\n",
    "region_szfo = [10,11,29,35,39,47,51,53,60,83]\n",
    "#Регионы южного федерального округа\n",
    "region_ufo = [1,8,30,91,92]\n",
    "#Регионы Северо-Кавказского федерального округа\n",
    "region_skfo = [5,6,7,9,15,20,26]\n",
    "#Регионы Приволжского федерального округа\n",
    "region_pfo = [12,13,18,21,43,56,58,64,73,81]\n",
    "#Регионы Уральского федерального округа\n",
    "region_urfo = [45,72,86,89]\n",
    "#Регионы Сибирского федерального округа\n",
    "region_sfo = [4,17,19,22,38,42,70,75,80,84,85,88]\n",
    "#Регионы Дальневосточного федерального округа\n",
    "region_dfo = [3,14,25,27,28,41,49,65,75,79,82,87]\n",
    "#Города республиканского значения\n",
    "region_resp = [99]\n",
    "\n",
    "def region_def(region_cod):\n",
    "    if region_cod in region_million_cities:\n",
    "        return region_cod\n",
    "    elif region_cod in region_cfo:\n",
    "        return 101\n",
    "    elif region_cod in region_szfo:\n",
    "        return 102\n",
    "    elif region_cod in region_ufo:\n",
    "        return 103\n",
    "    elif region_cod in region_skfo:\n",
    "        return 104\n",
    "    elif region_cod in region_pfo:\n",
    "        return 105\n",
    "    elif region_cod in region_urfo:\n",
    "        return 106\n",
    "    elif region_cod in region_sfo:\n",
    "        return 107\n",
    "    elif region_cod in region_dfo:\n",
    "        return 108\n",
    "    elif region_cod in region_resp:\n",
    "        return 109\n",
    "    else:\n",
    "        return 1000\n",
    "\n",
    "df_full['regionCode'] = df_full['regionCode'].apply(lambda x: region_def(x))\n",
    "\n",
    "regionCode_nunique = df_full['regionCode'].nunique()\n",
    "print(f'Количество уникальных кодов региона: {regionCode_nunique}')"
   ]
  },
  {
   "cell_type": "markdown",
   "metadata": {},
   "source": [
    "Проанализируем, в каких ТОП5 регионах наибольший процент отношения организаций с доходом к общему количеству организаций региона."
   ]
  },
  {
   "cell_type": "code",
   "execution_count": 13,
   "metadata": {},
   "outputs": [
    {
     "name": "stdout",
     "output_type": "stream",
     "text": [
      "ТОП5 регионов\n",
      "    regionCode  percentage\n",
      "15          78    7.281538\n",
      "14          77    6.967624\n",
      "9           59    6.693698\n",
      "4           34    6.136325\n",
      "21         106    5.873494\n"
     ]
    }
   ],
   "source": [
    "df_grouped = df_full.groupby('regionCode')['incomeTotal'].apply(lambda x: (x == 1).mean() * 100).reset_index(name='percentage')\n",
    "df_sorted = df_grouped.sort_values(by='percentage', ascending=False)\n",
    "print('ТОП5 регионов')\n",
    "print(df_sorted[:5])"
   ]
  },
  {
   "cell_type": "markdown",
   "metadata": {},
   "source": [
    "В итоге, большая часть регионов, в которых наибольший процент организаций с доходом, относится к регонам, в которых есть город-миллионник."
   ]
  },
  {
   "cell_type": "code",
   "execution_count": null,
   "metadata": {},
   "outputs": [],
   "source": [
    "# удалим не нужные признаки\n",
    "df_full = df_full.drop(['address'], axis=1)"
   ]
  },
  {
   "cell_type": "markdown",
   "metadata": {},
   "source": [
    "### 3.2. Обработка признака mainOkved - ОКВЭД"
   ]
  },
  {
   "cell_type": "markdown",
   "metadata": {},
   "source": [
    "Формат признака mainOkved представляет собой словарь, у каждого из которых есть ключи code (ОКВЭД) и name (наименование ОКВЭД).\n",
    "Выделим из признака только код."
   ]
  },
  {
   "cell_type": "code",
   "execution_count": 14,
   "metadata": {},
   "outputs": [
    {
     "data": {
      "text/plain": [
       "0       74.1\n",
       "1    75.25.1\n",
       "2       None\n",
       "Name: mainOkved, dtype: object"
      ]
     },
     "execution_count": 14,
     "metadata": {},
     "output_type": "execute_result"
    }
   ],
   "source": [
    "#Обработка признака mainOkved\n",
    "\n",
    "#Функция для извлечения значений 'code' из словаря признака\n",
    "def code_dict(df_dict):\n",
    "    #аргумент df_dict: значение признака, представляет собой словарь; \n",
    "    #                             у каждого словаря есть ключи: code, name, version.    \n",
    "    #return: код признака\n",
    "    df_dict = str(df_dict)\n",
    "    df_dict = df_dict.replace(\"'\", '') #Удаление апострофов из значений в столбце\n",
    "    df_dict = df_dict[7:] #Удаление первых символов\n",
    "    df_dict = df_dict.split(',')[0] #Удаление всех символов после запятой включительно\n",
    "    return df_dict\n",
    "\n",
    "#Обработка mainOkved (сведения об основном ОКВЭД): выводим только код\n",
    "df_full['mainOkved'] = df_full['mainOkved'].apply(lambda x: code_dict(x))\n",
    "\n",
    "df_full['mainOkved'].head(3)\n"
   ]
  },
  {
   "cell_type": "markdown",
   "metadata": {},
   "source": [
    "Для повышения вероятности определения кода основного ОКВЭД  \n",
    "будем работать только с первой группой кода, т.е. до точки: например, 74.1.1 меняем на 74"
   ]
  },
  {
   "cell_type": "code",
   "execution_count": 15,
   "metadata": {},
   "outputs": [
    {
     "data": {
      "text/plain": [
       "0      74\n",
       "1      75\n",
       "2    None\n",
       "Name: mainOkved, dtype: object"
      ]
     },
     "execution_count": 15,
     "metadata": {},
     "output_type": "execute_result"
    }
   ],
   "source": [
    "df_full['mainOkved'] = df_full['mainOkved'].apply(lambda x: x.split('.')[0])\n",
    "df_full['mainOkved'].head(3)"
   ]
  },
  {
   "cell_type": "markdown",
   "metadata": {},
   "source": [
    "При анализе выявлено, что для ряда организаций ОКВЭД - None."
   ]
  },
  {
   "cell_type": "code",
   "execution_count": 16,
   "metadata": {},
   "outputs": [
    {
     "name": "stdout",
     "output_type": "stream",
     "text": [
      "Количество строк с отсутствующим ОКВЭД: 203032\n"
     ]
    }
   ],
   "source": [
    "# данные только с пропущенными значениями основнокго ОКВЭД\n",
    "df_none_mainOkved = df_full[df_full['mainOkved'] == 'None']['mainOkved'].count()\n",
    "print(f'Количество строк с отсутствующим ОКВЭД: {df_none_mainOkved}')"
   ]
  },
  {
   "cell_type": "markdown",
   "metadata": {},
   "source": [
    "Количество строк с отсуствующим ОКВЭД - 27%.  \n",
    "Вариант удаления данных строк - не допустимо, потеряется большое количество полезных данных.  \n",
    "Можно собрать по API данные с имеющихся сайтов/платформ, но платно; вариант для димлома не подойдет."
   ]
  },
  {
   "cell_type": "markdown",
   "metadata": {},
   "source": [
    "Для опредения отсутствующих ОКВЭД выдвенем гипотизу.  \n",
    "  \n",
    "Предположим, что основной ОКВЭД связан с:\n",
    "* кодом ОПФ и\n",
    "* названием организации.   \n",
    "\n",
    "Проверить связи ОКВЭД с кодом ОПФ можно протестировав по критерию \"КРИТЕРИЙ ХИ-КВАДРАТ\".  \n",
    "\n",
    "Для работы с названиями организаций можно использовать метод векторизации текста TfidfVectorizer,  \n",
    "основанный на теории TF-IDF (Term Frequency-Inverse Document Frequency).         \n",
    "Можно написать функцию, на выходе которого по данным матрицы TF-IDF,  \n",
    "а также вычислениям косинусного сходства между поисковым запросом и всеми названиями организации, вкючая код ОПФ,  \n",
    "будет код ОКВЭД.  \n",
    "Для проверки функции можно выделить 10 случайных подмножеств и проверим её качество.   \n",
    "\n",
    "Задача трудозатратная для лабораторного ноутбука, поэтому эта задач была выполнена в отдельном файле search_mainOkved.ipynb.   \n",
    "\n",
    "Последовательность действий:\n",
    "- сформировать файл search_mainOkved.csv - исходные данные для файла search_mainOkved.ipynb;\n",
    "- в фале search_mainOkved.ipynb проверить связь ОКВЭД с кодом ОПФ;\n",
    "- в фале search_mainOkved.ipynb проверить связь ОКВЭД с названием органиазции;\n",
    "- в фале search_mainOkved.ipynb при положительном варианте проверки сформировать ОКВЭД для соотвесттвующих организаций;\n",
    "- в фале search_mainOkved.ipynb сформировать файл full_init_data.csv - файл с данными по ОКВЭД;\n",
    "- загрузить в текущий файл данные из файла full_init_data.csv;\n",
    "- подгрузить в базу df_full отсутствующие данные по ОКВЭД.\n",
    "  \n",
    "Проверка по критерию \"КРИТЕРИЙ ХИ-КВАДРАТ\" показал, что \"Между признаками \"mainOkved\" и \"opf\" существует статистически значимая связь\".   \n",
    "Проверка связи ОКВЭД c названиями организации показал среднюю вероятность предсказаний - 64%.  \n",
    "Величина небольшая, но для диплома гипотизу возьмем за основу.  \n",
    "Для увеличения вероятнсти предсказания в основном файле проекта \"diplom_glazyrin.ipynb\" коды ОКВЭД объединим в группы по классификации ОКВЭД 2023 года."
   ]
  },
  {
   "cell_type": "code",
   "execution_count": 27,
   "metadata": {},
   "outputs": [],
   "source": [
    "# в качестве исходных данных для формирования ОКВЭД выделим следующие признаки: 'ogrn','fullName','mainOkved','opf'\n",
    "# cохранение DataFrame в файл CSV\n",
    "df_full[['ogrn','fullName','mainOkved','opf']].to_csv('data/search_mainOkved.csv', index=False)"
   ]
  },
  {
   "cell_type": "code",
   "execution_count": 17,
   "metadata": {},
   "outputs": [
    {
     "name": "stdout",
     "output_type": "stream",
     "text": [
      "<class 'pandas.core.frame.DataFrame'>\n",
      "RangeIndex: 203032 entries, 0 to 203031\n",
      "Data columns (total 2 columns):\n",
      " #   Column             Non-Null Count   Dtype\n",
      "---  ------             --------------   -----\n",
      " 0   ogrn               203032 non-null  int64\n",
      " 1   predict_mainOkved  203032 non-null  int64\n",
      "dtypes: int64(2)\n",
      "memory usage: 3.1 MB\n"
     ]
    }
   ],
   "source": [
    "# загрузим данные из файла full_init_data.csv\n",
    "df_mainOkved_none = pd.read_csv(\"data/full_init_data.csv\")\n",
    "df_mainOkved_none.info()"
   ]
  },
  {
   "cell_type": "markdown",
   "metadata": {},
   "source": [
    "Из файла full_init_data.csv были получены следующие данные:\n",
    "- ogrn - ОГРН органиазции;\n",
    "- predict_mainOkved - прогнозные значения ОКВЭД"
   ]
  },
  {
   "cell_type": "code",
   "execution_count": 18,
   "metadata": {},
   "outputs": [],
   "source": [
    "#Подготовим признак mainOkved базы df_full: обнулим пропущенные значения и поменяем тип данных на Int\n",
    "df_full['mainOkved'] = df_full['mainOkved'].apply(lambda x: '0' if x == 'None' else x)\n",
    "df_full['mainOkved'] = df_full['mainOkved'].apply(lambda x: int(x))"
   ]
  },
  {
   "cell_type": "code",
   "execution_count": 19,
   "metadata": {},
   "outputs": [
    {
     "data": {
      "text/plain": [
       "0    74\n",
       "1    75\n",
       "2    74\n",
       "3    91\n",
       "4    70\n",
       "Name: mainOkved, dtype: int64"
      ]
     },
     "execution_count": 19,
     "metadata": {},
     "output_type": "execute_result"
    }
   ],
   "source": [
    "#Заменим нулевые ОКВЭД на прогнозные значения для соответствующих организаций.\n",
    "\n",
    "def mainOkved_none_def(ogrn_arg):\n",
    "    #аргумент ogrn_arg: ОГРН организации    \n",
    "    #return: ОКВЭД\n",
    "    mainOkved_new = df_mainOkved_none[df_mainOkved_none['ogrn'] == int(ogrn_arg)]['predict_mainOkved'].values[0]\n",
    "    return mainOkved_new\n",
    "\n",
    "df_full['mainOkved'] = df_full.apply(lambda x: x['mainOkved'] if x['mainOkved'] > 0 else mainOkved_none_def(x['ogrn']), axis=1)\n",
    "\n",
    "df_full['mainOkved'].head(5)"
   ]
  },
  {
   "cell_type": "markdown",
   "metadata": {},
   "source": [
    "Для увеличения вероятнсти предсказания коды ОКВЭД объединим в группы по классификации ОКВЭД 2023 года."
   ]
  },
  {
   "cell_type": "code",
   "execution_count": 20,
   "metadata": {},
   "outputs": [
    {
     "data": {
      "text/plain": [
       "0    113\n",
       "1    113\n",
       "2    113\n",
       "Name: mainOkved, dtype: int64"
      ]
     },
     "execution_count": 20,
     "metadata": {},
     "output_type": "execute_result"
    }
   ],
   "source": [
    "#Обработка mainOkved\n",
    "\n",
    "#Словарь ОКВЭД\n",
    "mainOkved_dict = dict()\n",
    "mainOkved_dict = {101: ['01','02','03'], \n",
    "                  102: ['05','06','07','08','09'], \n",
    "                  103: ['10','11','12','13','14','15','16','17','18','19','20','21','22','23','24','25','26','27','28','29','30','31','32','33'],\n",
    "                  104: ['35'],                  \n",
    "                  105: ['36','37','38','39'],\n",
    "                  106: ['41','42','43'],\n",
    "                  107: ['45','46','47'],\n",
    "                  108: ['49','50','51','52','53'],\n",
    "                  109: ['55','56'],\n",
    "                  110: ['58','59','60','61','62','63'],\n",
    "                  111: ['64','65','66'],\n",
    "                  112: ['68'],\n",
    "                  113: ['69','70','71','72','73','74','75'],\n",
    "                  114: ['77','78','79','80','81','82'],\n",
    "                  115: ['84'],\n",
    "                  116: ['85'],\n",
    "                  117: ['86','87','88'],\n",
    "                  118: ['90','91','92','93'],\n",
    "                  119: ['94','95','96'],\n",
    "                  120: ['97','98'],\n",
    "                  121: ['99']}\n",
    "\n",
    "def mainOkved_def(mainOkved_cod):\n",
    "    #аргумент mainOkved_cod: ОКВЭД организации    \n",
    "    #return: код группы по классификации\n",
    "    for key, values in mainOkved_dict.items():\n",
    "        if mainOkved_cod in values:\n",
    "            return key\n",
    "    key_none = '10' + mainOkved_cod # Код для случая, если ОКВЭД отсутствует в словаре mainOkved_dict\n",
    "    return key_none\n",
    "\n",
    "#Оставляем только первый символ до точки\n",
    "df_full['mainOkved'] = df_full['mainOkved'].apply(lambda x: str(x))\n",
    "df_full['mainOkved'] = df_full['mainOkved'].apply(lambda x: mainOkved_def(x))\n",
    "df_full['mainOkved'] = df_full['mainOkved'].apply(lambda x: int(x))\n",
    "\n",
    "df_full['mainOkved'].head(3)"
   ]
  },
  {
   "cell_type": "markdown",
   "metadata": {},
   "source": [
    "Количество ОКВЭД заменили на группы: с 99 до 21.\n",
    "Проанализируем, в каких ТОП5 ОКВЭД наибольший процент отношения организаций с доходом к общему количеству организаций с данным ОКВЭД."
   ]
  },
  {
   "cell_type": "code",
   "execution_count": 21,
   "metadata": {},
   "outputs": [
    {
     "name": "stdout",
     "output_type": "stream",
     "text": [
      "ТОП5 групп ОКВЭД\n"
     ]
    },
    {
     "data": {
      "text/html": [
       "<div>\n",
       "<style scoped>\n",
       "    .dataframe tbody tr th:only-of-type {\n",
       "        vertical-align: middle;\n",
       "    }\n",
       "\n",
       "    .dataframe tbody tr th {\n",
       "        vertical-align: top;\n",
       "    }\n",
       "\n",
       "    .dataframe thead th {\n",
       "        text-align: right;\n",
       "    }\n",
       "</style>\n",
       "<table border=\"1\" class=\"dataframe\">\n",
       "  <thead>\n",
       "    <tr style=\"text-align: right;\">\n",
       "      <th></th>\n",
       "      <th>mainOkved</th>\n",
       "      <th>percentage</th>\n",
       "    </tr>\n",
       "  </thead>\n",
       "  <tbody>\n",
       "    <tr>\n",
       "      <th>8</th>\n",
       "      <td>109</td>\n",
       "      <td>25.729927</td>\n",
       "    </tr>\n",
       "    <tr>\n",
       "      <th>15</th>\n",
       "      <td>116</td>\n",
       "      <td>18.127544</td>\n",
       "    </tr>\n",
       "    <tr>\n",
       "      <th>16</th>\n",
       "      <td>117</td>\n",
       "      <td>13.424995</td>\n",
       "    </tr>\n",
       "    <tr>\n",
       "      <th>4</th>\n",
       "      <td>105</td>\n",
       "      <td>11.867583</td>\n",
       "    </tr>\n",
       "    <tr>\n",
       "      <th>6</th>\n",
       "      <td>107</td>\n",
       "      <td>10.099464</td>\n",
       "    </tr>\n",
       "  </tbody>\n",
       "</table>\n",
       "</div>"
      ],
      "text/plain": [
       "    mainOkved  percentage\n",
       "8         109   25.729927\n",
       "15        116   18.127544\n",
       "16        117   13.424995\n",
       "4         105   11.867583\n",
       "6         107   10.099464"
      ]
     },
     "execution_count": 21,
     "metadata": {},
     "output_type": "execute_result"
    }
   ],
   "source": [
    "df_grouped = df_full.groupby('mainOkved')['incomeTotal'].apply(lambda x: (x == 1).mean() * 100).reset_index(name='percentage')\n",
    "df_sorted = df_grouped.sort_values(by='percentage', ascending=False)\n",
    "print('ТОП5 групп ОКВЭД')\n",
    "df_sorted.head(5)\n"
   ]
  },
  {
   "cell_type": "code",
   "execution_count": 34,
   "metadata": {},
   "outputs": [],
   "source": [
    "# удалим не нужные признаки\n",
    "df_full = df_full.drop(['ogrn', 'fullName', 'fullName', 'opf'], axis=1)"
   ]
  },
  {
   "cell_type": "markdown",
   "metadata": {},
   "source": [
    "### 3.3. Обработка признаков с датами"
   ]
  },
  {
   "cell_type": "markdown",
   "metadata": {},
   "source": [
    "Признаки, связанные с датами\n",
    "1. originDate: дата регистрации организаций\n",
    "2. dateLiquid: дата ликвидации юрлица\n",
    "\n",
    "Создадим наиболее важный признак - возраст организации."
   ]
  },
  {
   "cell_type": "code",
   "execution_count": 23,
   "metadata": {},
   "outputs": [
    {
     "data": {
      "text/html": [
       "<div>\n",
       "<style scoped>\n",
       "    .dataframe tbody tr th:only-of-type {\n",
       "        vertical-align: middle;\n",
       "    }\n",
       "\n",
       "    .dataframe tbody tr th {\n",
       "        vertical-align: top;\n",
       "    }\n",
       "\n",
       "    .dataframe thead th {\n",
       "        text-align: right;\n",
       "    }\n",
       "</style>\n",
       "<table border=\"1\" class=\"dataframe\">\n",
       "  <thead>\n",
       "    <tr style=\"text-align: right;\">\n",
       "      <th></th>\n",
       "      <th>originDate</th>\n",
       "      <th>dateLiquid</th>\n",
       "      <th>diffYear</th>\n",
       "    </tr>\n",
       "  </thead>\n",
       "  <tbody>\n",
       "    <tr>\n",
       "      <th>count</th>\n",
       "      <td>752072.000000</td>\n",
       "      <td>752072.000000</td>\n",
       "      <td>752072.000000</td>\n",
       "    </tr>\n",
       "    <tr>\n",
       "      <th>mean</th>\n",
       "      <td>2004.349588</td>\n",
       "      <td>1087.709941</td>\n",
       "      <td>13.022774</td>\n",
       "    </tr>\n",
       "    <tr>\n",
       "      <th>std</th>\n",
       "      <td>9.207059</td>\n",
       "      <td>1003.001238</td>\n",
       "      <td>9.176799</td>\n",
       "    </tr>\n",
       "    <tr>\n",
       "      <th>min</th>\n",
       "      <td>1881.000000</td>\n",
       "      <td>0.000000</td>\n",
       "      <td>-2.000000</td>\n",
       "    </tr>\n",
       "    <tr>\n",
       "      <th>25%</th>\n",
       "      <td>1999.000000</td>\n",
       "      <td>0.000000</td>\n",
       "      <td>6.000000</td>\n",
       "    </tr>\n",
       "    <tr>\n",
       "      <th>50%</th>\n",
       "      <td>2004.000000</td>\n",
       "      <td>2006.000000</td>\n",
       "      <td>11.000000</td>\n",
       "    </tr>\n",
       "    <tr>\n",
       "      <th>75%</th>\n",
       "      <td>2011.000000</td>\n",
       "      <td>2013.000000</td>\n",
       "      <td>18.000000</td>\n",
       "    </tr>\n",
       "    <tr>\n",
       "      <th>max</th>\n",
       "      <td>2021.000000</td>\n",
       "      <td>2021.000000</td>\n",
       "      <td>138.000000</td>\n",
       "    </tr>\n",
       "  </tbody>\n",
       "</table>\n",
       "</div>"
      ],
      "text/plain": [
       "          originDate     dateLiquid       diffYear\n",
       "count  752072.000000  752072.000000  752072.000000\n",
       "mean     2004.349588    1087.709941      13.022774\n",
       "std         9.207059    1003.001238       9.176799\n",
       "min      1881.000000       0.000000      -2.000000\n",
       "25%      1999.000000       0.000000       6.000000\n",
       "50%      2004.000000    2006.000000      11.000000\n",
       "75%      2011.000000    2013.000000      18.000000\n",
       "max      2021.000000    2021.000000     138.000000"
      ]
     },
     "execution_count": 23,
     "metadata": {},
     "output_type": "execute_result"
    }
   ],
   "source": [
    "# обработка дат\n",
    "\n",
    "# признак dateLiquid имеет пропущенные значения для действующих организаций\n",
    "# для действующих организаций значение признака dateLiquid поставим в '0'\n",
    "df_full['dateLiquid'] = df_full['dateLiquid'].fillna('0')\n",
    "\n",
    "# функция для извлечения года из признака\n",
    "def date_dict(df_date):\n",
    "    #аргумент: значение признака, которое представляет собой дату следующего вида - {'$date': '2012-12-17T00:00:00.000Z'}\n",
    "    #return: год (тип float)    \n",
    "    if df_date != '0':\n",
    "        df_date = df_date.replace(\"'\", '') #Удаление апострофов из значений в столбце\n",
    "        df_date = df_date[7:] #Удаление первых символов\n",
    "        df_date = df_date.split('-')[0] #Удаление всех символов после запятой включительно\n",
    "        return int(df_date)\n",
    "    else:\n",
    "        return int(df_date)\n",
    "\n",
    "# признаки originDate и dateLiquid представим в виде года\n",
    "df_full['originDate'] = df_full['originDate'].apply(lambda x: date_dict(str(x)))\n",
    "df_full['dateLiquid'] = df_full['dateLiquid'].apply(lambda x: date_dict(str(x)))\n",
    "\n",
    "# функция для расчета нового значения diffYear\n",
    "def calculate_new_value(row):\n",
    "    #аргумент: строка DataFrmae df_full - данные от органиазции\n",
    "    #return: год (тип float) \n",
    "    if row['dateLiquid'] != 0: # для действующей организации\n",
    "        return row['dateLiquid'] - row['originDate']\n",
    "    else:\n",
    "        current_date = datetime.now().year\n",
    "        return int(str(current_date)) - row['originDate']\n",
    "\n",
    "# применяем функцию к каждой строке DataFrame и создаем новый столбец\n",
    "df_full['diffYear'] = df_full.apply(lambda row: calculate_new_value(row), axis=1)\n",
    "\n",
    "# проанализируем даты базы данных\n",
    "df_full[['originDate','dateLiquid','diffYear']].describe()"
   ]
  },
  {
   "cell_type": "markdown",
   "metadata": {},
   "source": [
    "Видно, что имеются неадекватные данные: возраст органиазции меньше нуля.  \n",
    "Удалим строки, у которых возраст организации меньше нуля."
   ]
  },
  {
   "cell_type": "code",
   "execution_count": 24,
   "metadata": {},
   "outputs": [
    {
     "data": {
      "text/html": [
       "<div>\n",
       "<style scoped>\n",
       "    .dataframe tbody tr th:only-of-type {\n",
       "        vertical-align: middle;\n",
       "    }\n",
       "\n",
       "    .dataframe tbody tr th {\n",
       "        vertical-align: top;\n",
       "    }\n",
       "\n",
       "    .dataframe thead th {\n",
       "        text-align: right;\n",
       "    }\n",
       "</style>\n",
       "<table border=\"1\" class=\"dataframe\">\n",
       "  <thead>\n",
       "    <tr style=\"text-align: right;\">\n",
       "      <th></th>\n",
       "      <th>originDate</th>\n",
       "      <th>dateLiquid</th>\n",
       "      <th>diffYear</th>\n",
       "    </tr>\n",
       "  </thead>\n",
       "  <tbody>\n",
       "    <tr>\n",
       "      <th>count</th>\n",
       "      <td>752068.000000</td>\n",
       "      <td>752068.000000</td>\n",
       "      <td>752068.000000</td>\n",
       "    </tr>\n",
       "    <tr>\n",
       "      <th>mean</th>\n",
       "      <td>2004.349571</td>\n",
       "      <td>1087.705059</td>\n",
       "      <td>13.022853</td>\n",
       "    </tr>\n",
       "    <tr>\n",
       "      <th>std</th>\n",
       "      <td>9.207080</td>\n",
       "      <td>1003.001671</td>\n",
       "      <td>9.176760</td>\n",
       "    </tr>\n",
       "    <tr>\n",
       "      <th>min</th>\n",
       "      <td>1881.000000</td>\n",
       "      <td>0.000000</td>\n",
       "      <td>0.000000</td>\n",
       "    </tr>\n",
       "    <tr>\n",
       "      <th>25%</th>\n",
       "      <td>1999.000000</td>\n",
       "      <td>0.000000</td>\n",
       "      <td>6.000000</td>\n",
       "    </tr>\n",
       "    <tr>\n",
       "      <th>50%</th>\n",
       "      <td>2004.000000</td>\n",
       "      <td>2006.000000</td>\n",
       "      <td>11.000000</td>\n",
       "    </tr>\n",
       "    <tr>\n",
       "      <th>75%</th>\n",
       "      <td>2011.000000</td>\n",
       "      <td>2013.000000</td>\n",
       "      <td>18.000000</td>\n",
       "    </tr>\n",
       "    <tr>\n",
       "      <th>max</th>\n",
       "      <td>2021.000000</td>\n",
       "      <td>2021.000000</td>\n",
       "      <td>138.000000</td>\n",
       "    </tr>\n",
       "  </tbody>\n",
       "</table>\n",
       "</div>"
      ],
      "text/plain": [
       "          originDate     dateLiquid       diffYear\n",
       "count  752068.000000  752068.000000  752068.000000\n",
       "mean     2004.349571    1087.705059      13.022853\n",
       "std         9.207080    1003.001671       9.176760\n",
       "min      1881.000000       0.000000       0.000000\n",
       "25%      1999.000000       0.000000       6.000000\n",
       "50%      2004.000000    2006.000000      11.000000\n",
       "75%      2011.000000    2013.000000      18.000000\n",
       "max      2021.000000    2021.000000     138.000000"
      ]
     },
     "execution_count": 24,
     "metadata": {},
     "output_type": "execute_result"
    }
   ],
   "source": [
    "# удалим строки, у которых возраст организации меньше нуля\n",
    "df_full = df_full[(df_full['diffYear'] >= 0)]\n",
    "df_full[['originDate','dateLiquid','diffYear']].describe()"
   ]
  },
  {
   "cell_type": "code",
   "execution_count": 29,
   "metadata": {},
   "outputs": [
    {
     "data": {
      "text/plain": [
       "Text(0, 0.5, '')"
      ]
     },
     "execution_count": 29,
     "metadata": {},
     "output_type": "execute_result"
    },
    {
     "data": {
      "text/plain": [
       "<Figure size 1500x600 with 0 Axes>"
      ]
     },
     "metadata": {},
     "output_type": "display_data"
    },
    {
     "data": {
      "image/png": "[encoded data removed]",
      "text/plain": [
       "<Figure size 1500x2000 with 3 Axes>"
      ]
     },
     "metadata": {},
     "output_type": "display_data"
    }
   ],
   "source": [
    "#Визиализируем данные\n",
    "\n",
    "# Установить размер графика\n",
    "plt.figure(figsize=(15, 6))\n",
    "\n",
    "fig, axes = plt.subplots(nrows=3, ncols=1, figsize=(15, 20))\n",
    "sns.histplot(\n",
    "    data=df_full,\n",
    "    x='diffYear',\n",
    "    bins=50,   \n",
    "    ax=axes[0]\n",
    ");\n",
    "axes[0].set_title('Гистограмма возраста')\n",
    "axes[0].set_xlabel('Возраст')\n",
    "axes[0].set_ylabel('')\n",
    "\n",
    "sns.boxplot(\n",
    "    data=df_full,\n",
    "    x='diffYear',\n",
    "    ax=axes[1]\n",
    ");\n",
    "axes[1].set_title('Распределение данных по возрасту')\n",
    "axes[1].set_xlabel('Возраст')\n",
    "\n",
    "sns.histplot(\n",
    "    data=df_full,\n",
    "    x='originDate',\n",
    "    bins=60,   \n",
    "    ax=axes[2]\n",
    ");\n",
    "axes[2].set_title('Гистограмма дат регистрации организаций')\n",
    "axes[2].set_xlabel('Возраст')\n",
    "axes[2].set_ylabel('')"
   ]
  },
  {
   "cell_type": "markdown",
   "metadata": {},
   "source": [
    "По визуализации видно:\n",
    "1. распределение возраста не нормальное;\n",
    "2. верхний квартиль - 38 лет, далее - большое количество выбросов;\n",
    "3. регистрация организаций начинается с конца 19 века.\n",
    "  \n",
    "Заметим, что целевой признак класса 1 начинается с 1964 года.  \n",
    "С точки зрения получения грантов интерес будут представлять органиазции, регистрированные к концу 80-х годов 20 века."
   ]
  },
  {
   "cell_type": "code",
   "execution_count": 30,
   "metadata": {},
   "outputs": [
    {
     "data": {
      "text/plain": [
       "(733471, 14)"
      ]
     },
     "execution_count": 30,
     "metadata": {},
     "output_type": "execute_result"
    }
   ],
   "source": [
    "# удалим строки, регистрация органиазций которых старше 1987 года.\n",
    "df_full = df_full[df_full['originDate'] > 1987]\n",
    "df_full.shape"
   ]
  },
  {
   "cell_type": "markdown",
   "metadata": {},
   "source": [
    "Удаленные данные - меньше 2,5%."
   ]
  },
  {
   "cell_type": "code",
   "execution_count": 32,
   "metadata": {},
   "outputs": [
    {
     "data": {
      "text/plain": [
       "Text(0, 0.5, '')"
      ]
     },
     "execution_count": 32,
     "metadata": {},
     "output_type": "execute_result"
    },
    {
     "data": {
      "image/png": "[encoded data removed]",
      "text/plain": [
       "<Figure size 1500x2000 with 3 Axes>"
      ]
     },
     "metadata": {},
     "output_type": "display_data"
    }
   ],
   "source": [
    "#Визиализируем данные\n",
    "\n",
    "# Установить размер графика\n",
    "fig, axes = plt.subplots(nrows=3, ncols=1, figsize=(15, 20))\n",
    "sns.histplot(\n",
    "    data=df_full,\n",
    "    x='diffYear',\n",
    "    bins=50,   \n",
    "    ax=axes[0]\n",
    ");\n",
    "axes[0].set_title('Гистограмма возраста')\n",
    "axes[0].set_xlabel('Возраст')\n",
    "axes[0].set_ylabel('')\n",
    "\n",
    "sns.boxplot(\n",
    "    data=df_full,\n",
    "    x='diffYear',\n",
    "    ax=axes[1]\n",
    ");\n",
    "axes[1].set_title('Распределение данных по возрасту')\n",
    "axes[1].set_xlabel('Возраст')\n",
    "\n",
    "sns.histplot(\n",
    "    data=df_full,\n",
    "    x='originDate',\n",
    "    bins=60,   \n",
    "    ax=axes[2]\n",
    ");\n",
    "axes[2].set_title('Гистограмма дат регистрации организаций')\n",
    "axes[2].set_xlabel('Возраст')\n",
    "axes[2].set_ylabel('')"
   ]
  },
  {
   "cell_type": "code",
   "execution_count": 33,
   "metadata": {},
   "outputs": [],
   "source": [
    "# удалим не нужные признаки\n",
    "df_full = df_full.drop(['originDate','dateLiquid'], axis=1)"
   ]
  },
  {
   "cell_type": "markdown",
   "metadata": {},
   "source": [
    "### 3.4. Обработка бинарных признаков"
   ]
  },
  {
   "cell_type": "markdown",
   "metadata": {},
   "source": [
    "Перевод значений признаков в бинарный тип:\n",
    "1. predecessors: предшественники; 1 - имеется, 0 - нет\n",
    "2. addOkved: дополнительный ОКВЭД - наличие дополнительных ОКВЭД: 1 - есть, 0 - нет"
   ]
  },
  {
   "cell_type": "code",
   "execution_count": 36,
   "metadata": {},
   "outputs": [
    {
     "data": {
      "text/html": [
       "<div>\n",
       "<style scoped>\n",
       "    .dataframe tbody tr th:only-of-type {\n",
       "        vertical-align: middle;\n",
       "    }\n",
       "\n",
       "    .dataframe tbody tr th {\n",
       "        vertical-align: top;\n",
       "    }\n",
       "\n",
       "    .dataframe thead th {\n",
       "        text-align: right;\n",
       "    }\n",
       "</style>\n",
       "<table border=\"1\" class=\"dataframe\">\n",
       "  <thead>\n",
       "    <tr style=\"text-align: right;\">\n",
       "      <th></th>\n",
       "      <th>predecessors</th>\n",
       "      <th>addOkved</th>\n",
       "    </tr>\n",
       "  </thead>\n",
       "  <tbody>\n",
       "    <tr>\n",
       "      <th>0</th>\n",
       "      <td>1</td>\n",
       "      <td>1</td>\n",
       "    </tr>\n",
       "    <tr>\n",
       "      <th>1</th>\n",
       "      <td>1</td>\n",
       "      <td>1</td>\n",
       "    </tr>\n",
       "    <tr>\n",
       "      <th>2</th>\n",
       "      <td>1</td>\n",
       "      <td>0</td>\n",
       "    </tr>\n",
       "    <tr>\n",
       "      <th>3</th>\n",
       "      <td>1</td>\n",
       "      <td>0</td>\n",
       "    </tr>\n",
       "    <tr>\n",
       "      <th>4</th>\n",
       "      <td>1</td>\n",
       "      <td>0</td>\n",
       "    </tr>\n",
       "    <tr>\n",
       "      <th>...</th>\n",
       "      <td>...</td>\n",
       "      <td>...</td>\n",
       "    </tr>\n",
       "    <tr>\n",
       "      <th>752067</th>\n",
       "      <td>1</td>\n",
       "      <td>1</td>\n",
       "    </tr>\n",
       "    <tr>\n",
       "      <th>752068</th>\n",
       "      <td>1</td>\n",
       "      <td>1</td>\n",
       "    </tr>\n",
       "    <tr>\n",
       "      <th>752069</th>\n",
       "      <td>1</td>\n",
       "      <td>0</td>\n",
       "    </tr>\n",
       "    <tr>\n",
       "      <th>752070</th>\n",
       "      <td>1</td>\n",
       "      <td>1</td>\n",
       "    </tr>\n",
       "    <tr>\n",
       "      <th>752071</th>\n",
       "      <td>1</td>\n",
       "      <td>1</td>\n",
       "    </tr>\n",
       "  </tbody>\n",
       "</table>\n",
       "<p>733471 rows × 2 columns</p>\n",
       "</div>"
      ],
      "text/plain": [
       "        predecessors  addOkved\n",
       "0                  1         1\n",
       "1                  1         1\n",
       "2                  1         0\n",
       "3                  1         0\n",
       "4                  1         0\n",
       "...              ...       ...\n",
       "752067             1         1\n",
       "752068             1         1\n",
       "752069             1         0\n",
       "752070             1         1\n",
       "752071             1         1\n",
       "\n",
       "[733471 rows x 2 columns]"
      ]
     },
     "execution_count": 36,
     "metadata": {},
     "output_type": "execute_result"
    }
   ],
   "source": [
    "#Перевод значений признаков в бинарный тип\n",
    "\n",
    "# Функция для извлечения значений 'code' из списка словарей признака\n",
    "def code_list(df_list):\n",
    "    #аргумент: значение признака, представляет собой список, \n",
    "    #                             элементы которого словари; \n",
    "    #                             у каждого словаря есть ключи: code, name, version.\n",
    "    #return: 1 - список не пустой, 0 - список пустой\n",
    "    addOkved_list = ast.literal_eval(df_list)\n",
    "    if len(addOkved_list) > 0:\n",
    "        return 1\n",
    "    else:\n",
    "        return 0\n",
    "\n",
    "#Обработка addOkved (дополнительный ОКВЭД): наличие дополнительных ОКВЭД: 1 - есть, 0 - нет\n",
    "df_full['addOkved'] = df_full['addOkved'].apply(lambda x: code_list(str(x)))\n",
    "\n",
    "#predecessors: предшественники; 1 - имеется, 0 - нет\n",
    "df_full['predecessors'] = df_full['predecessors'].apply(lambda x: 0 if x == '[]' else 1)\n",
    "\n",
    "\n",
    "df_full[['predecessors','addOkved']].head(5)"
   ]
  },
  {
   "cell_type": "code",
   "execution_count": 37,
   "metadata": {},
   "outputs": [
    {
     "name": "stdout",
     "output_type": "stream",
     "text": [
      "<class 'pandas.core.frame.DataFrame'>\n",
      "Int64Index: 733471 entries, 0 to 752071\n",
      "Data columns (total 11 columns):\n",
      " #   Column        Non-Null Count   Dtype \n",
      "---  ------        --------------   ----- \n",
      " 0   addOkved      733471 non-null  int64 \n",
      " 1   address       733471 non-null  object\n",
      " 2   dateOgrn      733471 non-null  object\n",
      " 3   fullName      733471 non-null  object\n",
      " 4   mainOkved     733471 non-null  int64 \n",
      " 5   opf           733471 non-null  object\n",
      " 6   predecessors  733471 non-null  int64 \n",
      " 7   regionCode    733471 non-null  int64 \n",
      " 8   opfType       733471 non-null  object\n",
      " 9   incomeTotal   733471 non-null  int64 \n",
      " 10  diffYear      733471 non-null  int64 \n",
      "dtypes: int64(6), object(5)\n",
      "memory usage: 67.2+ MB\n"
     ]
    }
   ],
   "source": [
    "df_full.info()"
   ]
  },
  {
   "cell_type": "code",
   "execution_count": 51,
   "metadata": {},
   "outputs": [
    {
     "data": {
      "text/plain": [
       "<AxesSubplot: >"
      ]
     },
     "execution_count": 51,
     "metadata": {},
     "output_type": "execute_result"
    },
    {
     "data": {
      "image/png": "[encoded data removed]",
      "text/plain": [
       "<Figure size 640x480 with 2 Axes>"
      ]
     },
     "metadata": {},
     "output_type": "display_data"
    }
   ],
   "source": [
    "sns.heatmap(df_full.corr(), annot=True)"
   ]
  },
  {
   "cell_type": "code",
   "execution_count": 25,
   "metadata": {},
   "outputs": [
    {
     "data": {
      "text/plain": [
       "array([ 113,  118,  108,  116,  101,  114,  119,  111,  112,  117,  105,\n",
       "        106,  103,  107,  110,  115,  104, 1067, 1040,  109,  102,  121,\n",
       "        120], dtype=int64)"
      ]
     },
     "execution_count": 25,
     "metadata": {},
     "output_type": "execute_result"
    }
   ],
   "source": [
    "df_full['mainOkved'].unique()"
   ]
  },
  {
   "cell_type": "code",
   "execution_count": 52,
   "metadata": {},
   "outputs": [
    {
     "data": {
      "text/html": [
       "<div>\n",
       "<style scoped>\n",
       "    .dataframe tbody tr th:only-of-type {\n",
       "        vertical-align: middle;\n",
       "    }\n",
       "\n",
       "    .dataframe tbody tr th {\n",
       "        vertical-align: top;\n",
       "    }\n",
       "\n",
       "    .dataframe thead th {\n",
       "        text-align: right;\n",
       "    }\n",
       "</style>\n",
       "<table border=\"1\" class=\"dataframe\">\n",
       "  <thead>\n",
       "    <tr style=\"text-align: right;\">\n",
       "      <th></th>\n",
       "      <th>mainOkved_108.0</th>\n",
       "      <th>mainOkved_116.0</th>\n",
       "      <th>mainOkved_101.0</th>\n",
       "      <th>mainOkved_114.0</th>\n",
       "      <th>mainOkved_119.0</th>\n",
       "      <th>mainOkved_111.0</th>\n",
       "    </tr>\n",
       "  </thead>\n",
       "  <tbody>\n",
       "    <tr>\n",
       "      <th>0</th>\n",
       "      <td>0</td>\n",
       "      <td>0</td>\n",
       "      <td>0</td>\n",
       "      <td>0</td>\n",
       "      <td>0</td>\n",
       "      <td>0</td>\n",
       "    </tr>\n",
       "    <tr>\n",
       "      <th>1</th>\n",
       "      <td>0</td>\n",
       "      <td>0</td>\n",
       "      <td>0</td>\n",
       "      <td>0</td>\n",
       "      <td>0</td>\n",
       "      <td>0</td>\n",
       "    </tr>\n",
       "    <tr>\n",
       "      <th>2</th>\n",
       "      <td>0</td>\n",
       "      <td>0</td>\n",
       "      <td>0</td>\n",
       "      <td>0</td>\n",
       "      <td>0</td>\n",
       "      <td>0</td>\n",
       "    </tr>\n",
       "    <tr>\n",
       "      <th>3</th>\n",
       "      <td>0</td>\n",
       "      <td>0</td>\n",
       "      <td>0</td>\n",
       "      <td>0</td>\n",
       "      <td>0</td>\n",
       "      <td>0</td>\n",
       "    </tr>\n",
       "    <tr>\n",
       "      <th>4</th>\n",
       "      <td>0</td>\n",
       "      <td>0</td>\n",
       "      <td>0</td>\n",
       "      <td>0</td>\n",
       "      <td>0</td>\n",
       "      <td>0</td>\n",
       "    </tr>\n",
       "  </tbody>\n",
       "</table>\n",
       "</div>"
      ],
      "text/plain": [
       "   mainOkved_108.0  mainOkved_116.0  mainOkved_101.0  mainOkved_114.0  \\\n",
       "0                0                0                0                0   \n",
       "1                0                0                0                0   \n",
       "2                0                0                0                0   \n",
       "3                0                0                0                0   \n",
       "4                0                0                0                0   \n",
       "\n",
       "   mainOkved_119.0  mainOkved_111.0  \n",
       "0                0                0  \n",
       "1                0                0  \n",
       "2                0                0  \n",
       "3                0                0  \n",
       "4                0                0  "
      ]
     },
     "execution_count": 52,
     "metadata": {},
     "output_type": "execute_result"
    }
   ],
   "source": [
    "#Закодируем mainOkved\n",
    "#Запустив последовательно варианты кодирования (порядковое, ONE-HOT ENCODING, бинарное), лучшая оценка была в однократном кодировании.\n",
    "\n",
    "encoder = ce.OneHotEncoder(cols=['mainOkved'], use_cat_names=True) # указываем столбец для кодирования\n",
    "type_bin = encoder.fit_transform(df_full['mainOkved'])\n",
    "df_full = pd.concat([df_full, type_bin], axis=1)\n",
    "\n",
    "df_full.iloc[:5,9:15]"
   ]
  },
  {
   "cell_type": "code",
   "execution_count": 20,
   "metadata": {},
   "outputs": [
    {
     "name": "stdout",
     "output_type": "stream",
     "text": [
      "<class 'pandas.core.frame.DataFrame'>\n",
      "Int64Index: 733471 entries, 0 to 752071\n",
      "Data columns (total 30 columns):\n",
      " #   Column            Non-Null Count   Dtype\n",
      "---  ------            --------------   -----\n",
      " 0   addOkved          733471 non-null  int64\n",
      " 1   mainOkved         733471 non-null  int64\n",
      " 2   predecessors      733471 non-null  int64\n",
      " 3   regionCode        733471 non-null  int64\n",
      " 4   opfType           733471 non-null  int64\n",
      " 5   incomeTotal       733471 non-null  int64\n",
      " 6   diffYear          733471 non-null  int64\n",
      " 7   mainOkved_113.0   733471 non-null  int64\n",
      " 8   mainOkved_118.0   733471 non-null  int64\n",
      " 9   mainOkved_108.0   733471 non-null  int64\n",
      " 10  mainOkved_116.0   733471 non-null  int64\n",
      " 11  mainOkved_101.0   733471 non-null  int64\n",
      " 12  mainOkved_114.0   733471 non-null  int64\n",
      " 13  mainOkved_119.0   733471 non-null  int64\n",
      " 14  mainOkved_111.0   733471 non-null  int64\n",
      " 15  mainOkved_112.0   733471 non-null  int64\n",
      " 16  mainOkved_117.0   733471 non-null  int64\n",
      " 17  mainOkved_105.0   733471 non-null  int64\n",
      " 18  mainOkved_106.0   733471 non-null  int64\n",
      " 19  mainOkved_103.0   733471 non-null  int64\n",
      " 20  mainOkved_107.0   733471 non-null  int64\n",
      " 21  mainOkved_110.0   733471 non-null  int64\n",
      " 22  mainOkved_115.0   733471 non-null  int64\n",
      " 23  mainOkved_104.0   733471 non-null  int64\n",
      " 24  mainOkved_1067.0  733471 non-null  int64\n",
      " 25  mainOkved_1040.0  733471 non-null  int64\n",
      " 26  mainOkved_109.0   733471 non-null  int64\n",
      " 27  mainOkved_102.0   733471 non-null  int64\n",
      " 28  mainOkved_121.0   733471 non-null  int64\n",
      " 29  mainOkved_120.0   733471 non-null  int64\n",
      "dtypes: int64(30)\n",
      "memory usage: 173.5 MB\n"
     ]
    }
   ],
   "source": [
    "df_full.info()"
   ]
  },
  {
   "cell_type": "code",
   "execution_count": 53,
   "metadata": {},
   "outputs": [
    {
     "data": {
      "text/html": [
       "<div>\n",
       "<style scoped>\n",
       "    .dataframe tbody tr th:only-of-type {\n",
       "        vertical-align: middle;\n",
       "    }\n",
       "\n",
       "    .dataframe tbody tr th {\n",
       "        vertical-align: top;\n",
       "    }\n",
       "\n",
       "    .dataframe thead th {\n",
       "        text-align: right;\n",
       "    }\n",
       "</style>\n",
       "<table border=\"1\" class=\"dataframe\">\n",
       "  <thead>\n",
       "    <tr style=\"text-align: right;\">\n",
       "      <th></th>\n",
       "      <th>regionCode_77.0</th>\n",
       "      <th>regionCode_102.0</th>\n",
       "      <th>regionCode_107.0</th>\n",
       "      <th>regionCode_23.0</th>\n",
       "      <th>regionCode_101.0</th>\n",
       "      <th>regionCode_66.0</th>\n",
       "      <th>regionCode_104.0</th>\n",
       "      <th>regionCode_63.0</th>\n",
       "    </tr>\n",
       "  </thead>\n",
       "  <tbody>\n",
       "    <tr>\n",
       "      <th>0</th>\n",
       "      <td>0</td>\n",
       "      <td>0</td>\n",
       "      <td>0</td>\n",
       "      <td>0</td>\n",
       "      <td>0</td>\n",
       "      <td>0</td>\n",
       "      <td>0</td>\n",
       "      <td>0</td>\n",
       "    </tr>\n",
       "    <tr>\n",
       "      <th>1</th>\n",
       "      <td>0</td>\n",
       "      <td>0</td>\n",
       "      <td>0</td>\n",
       "      <td>0</td>\n",
       "      <td>0</td>\n",
       "      <td>0</td>\n",
       "      <td>0</td>\n",
       "      <td>0</td>\n",
       "    </tr>\n",
       "    <tr>\n",
       "      <th>2</th>\n",
       "      <td>1</td>\n",
       "      <td>0</td>\n",
       "      <td>0</td>\n",
       "      <td>0</td>\n",
       "      <td>0</td>\n",
       "      <td>0</td>\n",
       "      <td>0</td>\n",
       "      <td>0</td>\n",
       "    </tr>\n",
       "    <tr>\n",
       "      <th>3</th>\n",
       "      <td>0</td>\n",
       "      <td>1</td>\n",
       "      <td>0</td>\n",
       "      <td>0</td>\n",
       "      <td>0</td>\n",
       "      <td>0</td>\n",
       "      <td>0</td>\n",
       "      <td>0</td>\n",
       "    </tr>\n",
       "    <tr>\n",
       "      <th>4</th>\n",
       "      <td>0</td>\n",
       "      <td>0</td>\n",
       "      <td>1</td>\n",
       "      <td>0</td>\n",
       "      <td>0</td>\n",
       "      <td>0</td>\n",
       "      <td>0</td>\n",
       "      <td>0</td>\n",
       "    </tr>\n",
       "  </tbody>\n",
       "</table>\n",
       "</div>"
      ],
      "text/plain": [
       "   regionCode_77.0  regionCode_102.0  regionCode_107.0  regionCode_23.0  \\\n",
       "0                0                 0                 0                0   \n",
       "1                0                 0                 0                0   \n",
       "2                1                 0                 0                0   \n",
       "3                0                 1                 0                0   \n",
       "4                0                 0                 1                0   \n",
       "\n",
       "   regionCode_101.0  regionCode_66.0  regionCode_104.0  regionCode_63.0  \n",
       "0                 0                0                 0                0  \n",
       "1                 0                0                 0                0  \n",
       "2                 0                0                 0                0  \n",
       "3                 0                0                 0                0  \n",
       "4                 0                0                 0                0  "
      ]
     },
     "execution_count": 53,
     "metadata": {},
     "output_type": "execute_result"
    }
   ],
   "source": [
    "#Закодируем regionCode\n",
    "#Запустив последовательно варианты кодирования (порядковое, ONE-HOT ENCODING, бинарное), лучшая оценка была в однократном кодировании.\n",
    "\n",
    "encoder = ce.OneHotEncoder(cols=['regionCode'], use_cat_names=True) # указываем столбец для кодирования\n",
    "type_bin = encoder.fit_transform(df_full['regionCode'])\n",
    "df_full = pd.concat([df_full, type_bin], axis=1)\n",
    "\n",
    "df_full.iloc[:5,32:40]"
   ]
  },
  {
   "cell_type": "code",
   "execution_count": 29,
   "metadata": {},
   "outputs": [
    {
     "name": "stdout",
     "output_type": "stream",
     "text": [
      "<class 'pandas.core.frame.DataFrame'>\n",
      "Int64Index: 733471 entries, 0 to 752071\n",
      "Data columns (total 56 columns):\n",
      " #   Column            Non-Null Count   Dtype\n",
      "---  ------            --------------   -----\n",
      " 0   addOkved          733471 non-null  int64\n",
      " 1   mainOkved         733471 non-null  int64\n",
      " 2   predecessors      733471 non-null  int64\n",
      " 3   successors        733471 non-null  int64\n",
      " 4   regionCode        733471 non-null  int64\n",
      " 5   opfType           733471 non-null  int64\n",
      " 6   incomeTotal       733471 non-null  int64\n",
      " 7   diffYear          733471 non-null  int64\n",
      " 8   mainOkved_113.0   733471 non-null  int64\n",
      " 9   mainOkved_118.0   733471 non-null  int64\n",
      " 10  mainOkved_108.0   733471 non-null  int64\n",
      " 11  mainOkved_116.0   733471 non-null  int64\n",
      " 12  mainOkved_101.0   733471 non-null  int64\n",
      " 13  mainOkved_114.0   733471 non-null  int64\n",
      " 14  mainOkved_119.0   733471 non-null  int64\n",
      " 15  mainOkved_111.0   733471 non-null  int64\n",
      " 16  mainOkved_112.0   733471 non-null  int64\n",
      " 17  mainOkved_117.0   733471 non-null  int64\n",
      " 18  mainOkved_105.0   733471 non-null  int64\n",
      " 19  mainOkved_106.0   733471 non-null  int64\n",
      " 20  mainOkved_103.0   733471 non-null  int64\n",
      " 21  mainOkved_107.0   733471 non-null  int64\n",
      " 22  mainOkved_110.0   733471 non-null  int64\n",
      " 23  mainOkved_115.0   733471 non-null  int64\n",
      " 24  mainOkved_104.0   733471 non-null  int64\n",
      " 25  mainOkved_1067.0  733471 non-null  int64\n",
      " 26  mainOkved_1040.0  733471 non-null  int64\n",
      " 27  mainOkved_109.0   733471 non-null  int64\n",
      " 28  mainOkved_102.0   733471 non-null  int64\n",
      " 29  mainOkved_121.0   733471 non-null  int64\n",
      " 30  mainOkved_120.0   733471 non-null  int64\n",
      " 31  regionCode_16.0   733471 non-null  int64\n",
      " 32  regionCode_105.0  733471 non-null  int64\n",
      " 33  regionCode_77.0   733471 non-null  int64\n",
      " 34  regionCode_102.0  733471 non-null  int64\n",
      " 35  regionCode_107.0  733471 non-null  int64\n",
      " 36  regionCode_23.0   733471 non-null  int64\n",
      " 37  regionCode_101.0  733471 non-null  int64\n",
      " 38  regionCode_66.0   733471 non-null  int64\n",
      " 39  regionCode_104.0  733471 non-null  int64\n",
      " 40  regionCode_63.0   733471 non-null  int64\n",
      " 41  regionCode_2.0    733471 non-null  int64\n",
      " 42  regionCode_61.0   733471 non-null  int64\n",
      " 43  regionCode_78.0   733471 non-null  int64\n",
      " 44  regionCode_54.0   733471 non-null  int64\n",
      " 45  regionCode_108.0  733471 non-null  int64\n",
      " 46  regionCode_24.0   733471 non-null  int64\n",
      " 47  regionCode_52.0   733471 non-null  int64\n",
      " 48  regionCode_55.0   733471 non-null  int64\n",
      " 49  regionCode_59.0   733471 non-null  int64\n",
      " 50  regionCode_74.0   733471 non-null  int64\n",
      " 51  regionCode_34.0   733471 non-null  int64\n",
      " 52  regionCode_103.0  733471 non-null  int64\n",
      " 53  regionCode_106.0  733471 non-null  int64\n",
      " 54  regionCode_36.0   733471 non-null  int64\n",
      " 55  regionCode_109.0  733471 non-null  int64\n",
      "dtypes: int64(56)\n",
      "memory usage: 319.0 MB\n"
     ]
    }
   ],
   "source": [
    "df_full.info()"
   ]
  },
  {
   "cell_type": "code",
   "execution_count": 54,
   "metadata": {},
   "outputs": [
    {
     "data": {
      "text/html": [
       "<div>\n",
       "<style scoped>\n",
       "    .dataframe tbody tr th:only-of-type {\n",
       "        vertical-align: middle;\n",
       "    }\n",
       "\n",
       "    .dataframe tbody tr th {\n",
       "        vertical-align: top;\n",
       "    }\n",
       "\n",
       "    .dataframe thead th {\n",
       "        text-align: right;\n",
       "    }\n",
       "</style>\n",
       "<table border=\"1\" class=\"dataframe\">\n",
       "  <thead>\n",
       "    <tr style=\"text-align: right;\">\n",
       "      <th></th>\n",
       "      <th>opfType_3.0</th>\n",
       "      <th>opfType_4.0</th>\n",
       "      <th>opfType_5.0</th>\n",
       "      <th>opfType_6.0</th>\n",
       "      <th>opfType_7.0</th>\n",
       "      <th>opfType_8.0</th>\n",
       "      <th>opfType_9.0</th>\n",
       "      <th>opfType_10.0</th>\n",
       "      <th>opfType_11.0</th>\n",
       "      <th>opfType_12.0</th>\n",
       "      <th>opfType_13.0</th>\n",
       "      <th>opfType_14.0</th>\n",
       "    </tr>\n",
       "  </thead>\n",
       "  <tbody>\n",
       "    <tr>\n",
       "      <th>0</th>\n",
       "      <td>0</td>\n",
       "      <td>0</td>\n",
       "      <td>0</td>\n",
       "      <td>0</td>\n",
       "      <td>0</td>\n",
       "      <td>0</td>\n",
       "      <td>0</td>\n",
       "      <td>0</td>\n",
       "      <td>0</td>\n",
       "      <td>0</td>\n",
       "      <td>0</td>\n",
       "      <td>0</td>\n",
       "    </tr>\n",
       "    <tr>\n",
       "      <th>1</th>\n",
       "      <td>0</td>\n",
       "      <td>0</td>\n",
       "      <td>0</td>\n",
       "      <td>0</td>\n",
       "      <td>0</td>\n",
       "      <td>0</td>\n",
       "      <td>0</td>\n",
       "      <td>0</td>\n",
       "      <td>0</td>\n",
       "      <td>0</td>\n",
       "      <td>0</td>\n",
       "      <td>0</td>\n",
       "    </tr>\n",
       "    <tr>\n",
       "      <th>2</th>\n",
       "      <td>0</td>\n",
       "      <td>0</td>\n",
       "      <td>0</td>\n",
       "      <td>0</td>\n",
       "      <td>0</td>\n",
       "      <td>0</td>\n",
       "      <td>0</td>\n",
       "      <td>0</td>\n",
       "      <td>0</td>\n",
       "      <td>0</td>\n",
       "      <td>0</td>\n",
       "      <td>0</td>\n",
       "    </tr>\n",
       "    <tr>\n",
       "      <th>3</th>\n",
       "      <td>1</td>\n",
       "      <td>0</td>\n",
       "      <td>0</td>\n",
       "      <td>0</td>\n",
       "      <td>0</td>\n",
       "      <td>0</td>\n",
       "      <td>0</td>\n",
       "      <td>0</td>\n",
       "      <td>0</td>\n",
       "      <td>0</td>\n",
       "      <td>0</td>\n",
       "      <td>0</td>\n",
       "    </tr>\n",
       "    <tr>\n",
       "      <th>4</th>\n",
       "      <td>0</td>\n",
       "      <td>1</td>\n",
       "      <td>0</td>\n",
       "      <td>0</td>\n",
       "      <td>0</td>\n",
       "      <td>0</td>\n",
       "      <td>0</td>\n",
       "      <td>0</td>\n",
       "      <td>0</td>\n",
       "      <td>0</td>\n",
       "      <td>0</td>\n",
       "      <td>0</td>\n",
       "    </tr>\n",
       "  </tbody>\n",
       "</table>\n",
       "</div>"
      ],
      "text/plain": [
       "   opfType_3.0  opfType_4.0  opfType_5.0  opfType_6.0  opfType_7.0  \\\n",
       "0            0            0            0            0            0   \n",
       "1            0            0            0            0            0   \n",
       "2            0            0            0            0            0   \n",
       "3            1            0            0            0            0   \n",
       "4            0            1            0            0            0   \n",
       "\n",
       "   opfType_8.0  opfType_9.0  opfType_10.0  opfType_11.0  opfType_12.0  \\\n",
       "0            0            0             0             0             0   \n",
       "1            0            0             0             0             0   \n",
       "2            0            0             0             0             0   \n",
       "3            0            0             0             0             0   \n",
       "4            0            0             0             0             0   \n",
       "\n",
       "   opfType_13.0  opfType_14.0  \n",
       "0             0             0  \n",
       "1             0             0  \n",
       "2             0             0  \n",
       "3             0             0  \n",
       "4             0             0  "
      ]
     },
     "execution_count": 54,
     "metadata": {},
     "output_type": "execute_result"
    }
   ],
   "source": [
    "#Закодируем opfType\n",
    "#Запустив последовательно варианты кодирования (порядковое, ONE-HOT ENCODING, бинарное), лучшая оценка была в однократном кодировании.\n",
    "\n",
    "df_full['opfType'].unique()\n",
    "\n",
    "def opfType_def(arg):\n",
    "       opfType_dict = {'Некоммерческие партнерства': 1, 'Ассоциации и бюро': 2,\n",
    "              'Общественные организации': 3, 'Кооперативы и товарищества': 4,\n",
    "              'Учреждения': 5, 'Фонды': 6, 'Автономные некоммерческие организации': 7,\n",
    "              'Профессиональные союзы': 8, 'Некоммерческие организации': 9, 'Другое': 10,\n",
    "              'Общины малочисленных народов': 11, 'Религиозные организации': 12,\n",
    "              'Политические партии': 13, 'Казачьи общества': 14}\n",
    "       return opfType_dict[arg]\n",
    "\n",
    "df_full['opfType'] = df_full['opfType'].apply(lambda x: opfType_def(x))\n",
    "\n",
    "encoder = ce.OneHotEncoder(cols=['opfType'], use_cat_names=True) # указываем столбец для кодирования\n",
    "type_bin = encoder.fit_transform(df_full['opfType'])\n",
    "df_full = pd.concat([df_full, type_bin], axis=1)\n",
    "\n",
    "df_full.iloc[:5,57:71]"
   ]
  },
  {
   "cell_type": "code",
   "execution_count": 55,
   "metadata": {},
   "outputs": [
    {
     "name": "stdout",
     "output_type": "stream",
     "text": [
      "<class 'pandas.core.frame.DataFrame'>\n",
      "Int64Index: 733471 entries, 0 to 752071\n",
      "Data columns (total 69 columns):\n",
      " #   Column            Non-Null Count   Dtype\n",
      "---  ------            --------------   -----\n",
      " 0   addOkved          733471 non-null  int64\n",
      " 1   mainOkved         733471 non-null  int64\n",
      " 2   predecessors      733471 non-null  int64\n",
      " 3   regionCode        733471 non-null  int64\n",
      " 4   opfType           733471 non-null  int64\n",
      " 5   incomeTotal       733471 non-null  int64\n",
      " 6   diffYear          733471 non-null  int64\n",
      " 7   mainOkved_113.0   733471 non-null  int64\n",
      " 8   mainOkved_118.0   733471 non-null  int64\n",
      " 9   mainOkved_108.0   733471 non-null  int64\n",
      " 10  mainOkved_116.0   733471 non-null  int64\n",
      " 11  mainOkved_101.0   733471 non-null  int64\n",
      " 12  mainOkved_114.0   733471 non-null  int64\n",
      " 13  mainOkved_119.0   733471 non-null  int64\n",
      " 14  mainOkved_111.0   733471 non-null  int64\n",
      " 15  mainOkved_112.0   733471 non-null  int64\n",
      " 16  mainOkved_117.0   733471 non-null  int64\n",
      " 17  mainOkved_105.0   733471 non-null  int64\n",
      " 18  mainOkved_106.0   733471 non-null  int64\n",
      " 19  mainOkved_103.0   733471 non-null  int64\n",
      " 20  mainOkved_107.0   733471 non-null  int64\n",
      " 21  mainOkved_110.0   733471 non-null  int64\n",
      " 22  mainOkved_115.0   733471 non-null  int64\n",
      " 23  mainOkved_104.0   733471 non-null  int64\n",
      " 24  mainOkved_1067.0  733471 non-null  int64\n",
      " 25  mainOkved_1040.0  733471 non-null  int64\n",
      " 26  mainOkved_109.0   733471 non-null  int64\n",
      " 27  mainOkved_102.0   733471 non-null  int64\n",
      " 28  mainOkved_121.0   733471 non-null  int64\n",
      " 29  mainOkved_120.0   733471 non-null  int64\n",
      " 30  regionCode_16.0   733471 non-null  int64\n",
      " 31  regionCode_105.0  733471 non-null  int64\n",
      " 32  regionCode_77.0   733471 non-null  int64\n",
      " 33  regionCode_102.0  733471 non-null  int64\n",
      " 34  regionCode_107.0  733471 non-null  int64\n",
      " 35  regionCode_23.0   733471 non-null  int64\n",
      " 36  regionCode_101.0  733471 non-null  int64\n",
      " 37  regionCode_66.0   733471 non-null  int64\n",
      " 38  regionCode_104.0  733471 non-null  int64\n",
      " 39  regionCode_63.0   733471 non-null  int64\n",
      " 40  regionCode_2.0    733471 non-null  int64\n",
      " 41  regionCode_61.0   733471 non-null  int64\n",
      " 42  regionCode_78.0   733471 non-null  int64\n",
      " 43  regionCode_54.0   733471 non-null  int64\n",
      " 44  regionCode_108.0  733471 non-null  int64\n",
      " 45  regionCode_24.0   733471 non-null  int64\n",
      " 46  regionCode_52.0   733471 non-null  int64\n",
      " 47  regionCode_55.0   733471 non-null  int64\n",
      " 48  regionCode_59.0   733471 non-null  int64\n",
      " 49  regionCode_74.0   733471 non-null  int64\n",
      " 50  regionCode_34.0   733471 non-null  int64\n",
      " 51  regionCode_103.0  733471 non-null  int64\n",
      " 52  regionCode_106.0  733471 non-null  int64\n",
      " 53  regionCode_36.0   733471 non-null  int64\n",
      " 54  regionCode_109.0  733471 non-null  int64\n",
      " 55  opfType_1.0       733471 non-null  int64\n",
      " 56  opfType_2.0       733471 non-null  int64\n",
      " 57  opfType_3.0       733471 non-null  int64\n",
      " 58  opfType_4.0       733471 non-null  int64\n",
      " 59  opfType_5.0       733471 non-null  int64\n",
      " 60  opfType_6.0       733471 non-null  int64\n",
      " 61  opfType_7.0       733471 non-null  int64\n",
      " 62  opfType_8.0       733471 non-null  int64\n",
      " 63  opfType_9.0       733471 non-null  int64\n",
      " 64  opfType_10.0      733471 non-null  int64\n",
      " 65  opfType_11.0      733471 non-null  int64\n",
      " 66  opfType_12.0      733471 non-null  int64\n",
      " 67  opfType_13.0      733471 non-null  int64\n",
      " 68  opfType_14.0      733471 non-null  int64\n",
      "dtypes: int64(69)\n",
      "memory usage: 391.7 MB\n"
     ]
    }
   ],
   "source": [
    "df_full.info()"
   ]
  },
  {
   "cell_type": "code",
   "execution_count": 32,
   "metadata": {},
   "outputs": [
    {
     "data": {
      "text/html": [
       "<div>\n",
       "<style scoped>\n",
       "    .dataframe tbody tr th:only-of-type {\n",
       "        vertical-align: middle;\n",
       "    }\n",
       "\n",
       "    .dataframe tbody tr th {\n",
       "        vertical-align: top;\n",
       "    }\n",
       "\n",
       "    .dataframe thead th {\n",
       "        text-align: right;\n",
       "    }\n",
       "</style>\n",
       "<table border=\"1\" class=\"dataframe\">\n",
       "  <thead>\n",
       "    <tr style=\"text-align: right;\">\n",
       "      <th></th>\n",
       "      <th>diffYear_2.0</th>\n",
       "      <th>diffYear_4.0</th>\n",
       "      <th>diffYear_17.0</th>\n",
       "      <th>diffYear_12.0</th>\n",
       "      <th>diffYear_18.0</th>\n",
       "      <th>diffYear_15.0</th>\n",
       "      <th>diffYear_14.0</th>\n",
       "      <th>diffYear_10.0</th>\n",
       "      <th>diffYear_3.0</th>\n",
       "      <th>diffYear_21.0</th>\n",
       "    </tr>\n",
       "  </thead>\n",
       "  <tbody>\n",
       "    <tr>\n",
       "      <th>0</th>\n",
       "      <td>1</td>\n",
       "      <td>0</td>\n",
       "      <td>0</td>\n",
       "      <td>0</td>\n",
       "      <td>0</td>\n",
       "      <td>0</td>\n",
       "      <td>0</td>\n",
       "      <td>0</td>\n",
       "      <td>0</td>\n",
       "      <td>0</td>\n",
       "    </tr>\n",
       "    <tr>\n",
       "      <th>1</th>\n",
       "      <td>0</td>\n",
       "      <td>1</td>\n",
       "      <td>0</td>\n",
       "      <td>0</td>\n",
       "      <td>0</td>\n",
       "      <td>0</td>\n",
       "      <td>0</td>\n",
       "      <td>0</td>\n",
       "      <td>0</td>\n",
       "      <td>0</td>\n",
       "    </tr>\n",
       "    <tr>\n",
       "      <th>2</th>\n",
       "      <td>0</td>\n",
       "      <td>0</td>\n",
       "      <td>1</td>\n",
       "      <td>0</td>\n",
       "      <td>0</td>\n",
       "      <td>0</td>\n",
       "      <td>0</td>\n",
       "      <td>0</td>\n",
       "      <td>0</td>\n",
       "      <td>0</td>\n",
       "    </tr>\n",
       "    <tr>\n",
       "      <th>3</th>\n",
       "      <td>0</td>\n",
       "      <td>0</td>\n",
       "      <td>0</td>\n",
       "      <td>1</td>\n",
       "      <td>0</td>\n",
       "      <td>0</td>\n",
       "      <td>0</td>\n",
       "      <td>0</td>\n",
       "      <td>0</td>\n",
       "      <td>0</td>\n",
       "    </tr>\n",
       "    <tr>\n",
       "      <th>4</th>\n",
       "      <td>0</td>\n",
       "      <td>0</td>\n",
       "      <td>0</td>\n",
       "      <td>0</td>\n",
       "      <td>1</td>\n",
       "      <td>0</td>\n",
       "      <td>0</td>\n",
       "      <td>0</td>\n",
       "      <td>0</td>\n",
       "      <td>0</td>\n",
       "    </tr>\n",
       "  </tbody>\n",
       "</table>\n",
       "</div>"
      ],
      "text/plain": [
       "   diffYear_2.0  diffYear_4.0  diffYear_17.0  diffYear_12.0  diffYear_18.0  \\\n",
       "0             1             0              0              0              0   \n",
       "1             0             1              0              0              0   \n",
       "2             0             0              1              0              0   \n",
       "3             0             0              0              1              0   \n",
       "4             0             0              0              0              1   \n",
       "\n",
       "   diffYear_15.0  diffYear_14.0  diffYear_10.0  diffYear_3.0  diffYear_21.0  \n",
       "0              0              0              0             0              0  \n",
       "1              0              0              0             0              0  \n",
       "2              0              0              0             0              0  \n",
       "3              0              0              0             0              0  \n",
       "4              0              0              0             0              0  "
      ]
     },
     "execution_count": 32,
     "metadata": {},
     "output_type": "execute_result"
    }
   ],
   "source": [
    "#Закодируем diffYear\n",
    "#Запустив последовательно варианты кодирования (порядковое, ONE-HOT ENCODING, бинарное), лучшая оценка была в однократном кодировании.\n",
    "\n",
    "#encoder = ce.OneHotEncoder(cols=['diffYear'], use_cat_names=True) # указываем столбец для кодирования\n",
    "#type_bin = encoder.fit_transform(df_full['diffYear'])\n",
    "#df_full = pd.concat([df_full, type_bin], axis=1)\n",
    "\n",
    "#df_full.iloc[:5,70:80]"
   ]
  },
  {
   "cell_type": "code",
   "execution_count": 31,
   "metadata": {},
   "outputs": [
    {
     "name": "stdout",
     "output_type": "stream",
     "text": [
      "<class 'pandas.core.frame.DataFrame'>\n",
      "Int64Index: 733471 entries, 0 to 752071\n",
      "Data columns (total 67 columns):\n",
      " #   Column            Non-Null Count   Dtype\n",
      "---  ------            --------------   -----\n",
      " 0   addOkved          733471 non-null  int64\n",
      " 1   predecessors      733471 non-null  int64\n",
      " 2   incomeTotal       733471 non-null  int64\n",
      " 3   diffYear          733471 non-null  int64\n",
      " 4   mainOkved_113.0   733471 non-null  int64\n",
      " 5   mainOkved_118.0   733471 non-null  int64\n",
      " 6   mainOkved_108.0   733471 non-null  int64\n",
      " 7   mainOkved_116.0   733471 non-null  int64\n",
      " 8   mainOkved_101.0   733471 non-null  int64\n",
      " 9   mainOkved_114.0   733471 non-null  int64\n",
      " 10  mainOkved_119.0   733471 non-null  int64\n",
      " 11  mainOkved_111.0   733471 non-null  int64\n",
      " 12  mainOkved_112.0   733471 non-null  int64\n",
      " 13  mainOkved_117.0   733471 non-null  int64\n",
      " 14  mainOkved_105.0   733471 non-null  int64\n",
      " 15  mainOkved_106.0   733471 non-null  int64\n",
      " 16  mainOkved_103.0   733471 non-null  int64\n",
      " 17  mainOkved_107.0   733471 non-null  int64\n",
      " 18  mainOkved_110.0   733471 non-null  int64\n",
      " 19  mainOkved_115.0   733471 non-null  int64\n",
      " 20  mainOkved_104.0   733471 non-null  int64\n",
      " 21  mainOkved_1067.0  733471 non-null  int64\n",
      " 22  mainOkved_1040.0  733471 non-null  int64\n",
      " 23  mainOkved_109.0   733471 non-null  int64\n",
      " 24  mainOkved_102.0   733471 non-null  int64\n",
      " 25  mainOkved_121.0   733471 non-null  int64\n",
      " 26  mainOkved_120.0   733471 non-null  int64\n",
      " 27  regionCode_16.0   733471 non-null  int64\n",
      " 28  regionCode_105.0  733471 non-null  int64\n",
      " 29  regionCode_77.0   733471 non-null  int64\n",
      " 30  regionCode_102.0  733471 non-null  int64\n",
      " 31  regionCode_107.0  733471 non-null  int64\n",
      " 32  regionCode_23.0   733471 non-null  int64\n",
      " 33  regionCode_101.0  733471 non-null  int64\n",
      " 34  regionCode_66.0   733471 non-null  int64\n",
      " 35  regionCode_104.0  733471 non-null  int64\n",
      " 36  regionCode_63.0   733471 non-null  int64\n",
      " 37  regionCode_2.0    733471 non-null  int64\n",
      " 38  regionCode_61.0   733471 non-null  int64\n",
      " 39  regionCode_78.0   733471 non-null  int64\n",
      " 40  regionCode_54.0   733471 non-null  int64\n",
      " 41  regionCode_108.0  733471 non-null  int64\n",
      " 42  regionCode_24.0   733471 non-null  int64\n",
      " 43  regionCode_52.0   733471 non-null  int64\n",
      " 44  regionCode_55.0   733471 non-null  int64\n",
      " 45  regionCode_59.0   733471 non-null  int64\n",
      " 46  regionCode_74.0   733471 non-null  int64\n",
      " 47  regionCode_34.0   733471 non-null  int64\n",
      " 48  regionCode_103.0  733471 non-null  int64\n",
      " 49  regionCode_106.0  733471 non-null  int64\n",
      " 50  regionCode_36.0   733471 non-null  int64\n",
      " 51  regionCode_109.0  733471 non-null  int64\n",
      " 52  opfType_1.0       733471 non-null  int64\n",
      " 53  opfType_2.0       733471 non-null  int64\n",
      " 54  opfType_3.0       733471 non-null  int64\n",
      " 55  opfType_4.0       733471 non-null  int64\n",
      " 56  opfType_5.0       733471 non-null  int64\n",
      " 57  opfType_6.0       733471 non-null  int64\n",
      " 58  opfType_7.0       733471 non-null  int64\n",
      " 59  opfType_8.0       733471 non-null  int64\n",
      " 60  opfType_9.0       733471 non-null  int64\n",
      " 61  opfType_10.0      733471 non-null  int64\n",
      " 62  opfType_11.0      733471 non-null  int64\n",
      " 63  opfType_12.0      733471 non-null  int64\n",
      " 64  opfType_13.0      733471 non-null  int64\n",
      " 65  opfType_14.0      733471 non-null  int64\n",
      " 66  diffYear          733471 non-null  int32\n",
      "dtypes: int32(1), int64(66)\n",
      "memory usage: 377.7 MB\n"
     ]
    }
   ],
   "source": [
    "#df_full.info()"
   ]
  },
  {
   "cell_type": "code",
   "execution_count": 56,
   "metadata": {},
   "outputs": [
    {
     "name": "stdout",
     "output_type": "stream",
     "text": [
      "<class 'pandas.core.frame.DataFrame'>\n",
      "Int64Index: 733471 entries, 0 to 752071\n",
      "Data columns (total 66 columns):\n",
      " #   Column            Non-Null Count   Dtype\n",
      "---  ------            --------------   -----\n",
      " 0   addOkved          733471 non-null  int64\n",
      " 1   predecessors      733471 non-null  int64\n",
      " 2   incomeTotal       733471 non-null  int64\n",
      " 3   diffYear          733471 non-null  int64\n",
      " 4   mainOkved_113.0   733471 non-null  int64\n",
      " 5   mainOkved_118.0   733471 non-null  int64\n",
      " 6   mainOkved_108.0   733471 non-null  int64\n",
      " 7   mainOkved_116.0   733471 non-null  int64\n",
      " 8   mainOkved_101.0   733471 non-null  int64\n",
      " 9   mainOkved_114.0   733471 non-null  int64\n",
      " 10  mainOkved_119.0   733471 non-null  int64\n",
      " 11  mainOkved_111.0   733471 non-null  int64\n",
      " 12  mainOkved_112.0   733471 non-null  int64\n",
      " 13  mainOkved_117.0   733471 non-null  int64\n",
      " 14  mainOkved_105.0   733471 non-null  int64\n",
      " 15  mainOkved_106.0   733471 non-null  int64\n",
      " 16  mainOkved_103.0   733471 non-null  int64\n",
      " 17  mainOkved_107.0   733471 non-null  int64\n",
      " 18  mainOkved_110.0   733471 non-null  int64\n",
      " 19  mainOkved_115.0   733471 non-null  int64\n",
      " 20  mainOkved_104.0   733471 non-null  int64\n",
      " 21  mainOkved_1067.0  733471 non-null  int64\n",
      " 22  mainOkved_1040.0  733471 non-null  int64\n",
      " 23  mainOkved_109.0   733471 non-null  int64\n",
      " 24  mainOkved_102.0   733471 non-null  int64\n",
      " 25  mainOkved_121.0   733471 non-null  int64\n",
      " 26  mainOkved_120.0   733471 non-null  int64\n",
      " 27  regionCode_16.0   733471 non-null  int64\n",
      " 28  regionCode_105.0  733471 non-null  int64\n",
      " 29  regionCode_77.0   733471 non-null  int64\n",
      " 30  regionCode_102.0  733471 non-null  int64\n",
      " 31  regionCode_107.0  733471 non-null  int64\n",
      " 32  regionCode_23.0   733471 non-null  int64\n",
      " 33  regionCode_101.0  733471 non-null  int64\n",
      " 34  regionCode_66.0   733471 non-null  int64\n",
      " 35  regionCode_104.0  733471 non-null  int64\n",
      " 36  regionCode_63.0   733471 non-null  int64\n",
      " 37  regionCode_2.0    733471 non-null  int64\n",
      " 38  regionCode_61.0   733471 non-null  int64\n",
      " 39  regionCode_78.0   733471 non-null  int64\n",
      " 40  regionCode_54.0   733471 non-null  int64\n",
      " 41  regionCode_108.0  733471 non-null  int64\n",
      " 42  regionCode_24.0   733471 non-null  int64\n",
      " 43  regionCode_52.0   733471 non-null  int64\n",
      " 44  regionCode_55.0   733471 non-null  int64\n",
      " 45  regionCode_59.0   733471 non-null  int64\n",
      " 46  regionCode_74.0   733471 non-null  int64\n",
      " 47  regionCode_34.0   733471 non-null  int64\n",
      " 48  regionCode_103.0  733471 non-null  int64\n",
      " 49  regionCode_106.0  733471 non-null  int64\n",
      " 50  regionCode_36.0   733471 non-null  int64\n",
      " 51  regionCode_109.0  733471 non-null  int64\n",
      " 52  opfType_1.0       733471 non-null  int64\n",
      " 53  opfType_2.0       733471 non-null  int64\n",
      " 54  opfType_3.0       733471 non-null  int64\n",
      " 55  opfType_4.0       733471 non-null  int64\n",
      " 56  opfType_5.0       733471 non-null  int64\n",
      " 57  opfType_6.0       733471 non-null  int64\n",
      " 58  opfType_7.0       733471 non-null  int64\n",
      " 59  opfType_8.0       733471 non-null  int64\n",
      " 60  opfType_9.0       733471 non-null  int64\n",
      " 61  opfType_10.0      733471 non-null  int64\n",
      " 62  opfType_11.0      733471 non-null  int64\n",
      " 63  opfType_12.0      733471 non-null  int64\n",
      " 64  opfType_13.0      733471 non-null  int64\n",
      " 65  opfType_14.0      733471 non-null  int64\n",
      "dtypes: int64(66)\n",
      "memory usage: 374.9 MB\n"
     ]
    }
   ],
   "source": [
    "#Удаление столбцов/признаков, значение которых объективно не могут влияют на поставленную задачу, на целевой признак\n",
    "df_full = df_full.drop(['mainOkved','regionCode','opfType'], axis=1)\n",
    "df_full.info()"
   ]
  },
  {
   "cell_type": "code",
   "execution_count": 57,
   "metadata": {},
   "outputs": [],
   "source": [
    "# зафксируем random_state\n",
    "random_state = 42"
   ]
  },
  {
   "cell_type": "code",
   "execution_count": 58,
   "metadata": {},
   "outputs": [
    {
     "name": "stdout",
     "output_type": "stream",
     "text": [
      "Размер обучающей выборки: (586776, 65)\n",
      "Размер тестовой выборки: (146695, 65)\n"
     ]
    }
   ],
   "source": [
    "# Разделение на признаки и целевую переменную\n",
    "X = df_full.drop('incomeTotal', axis=1)  # Признаки (все столбцы, кроме целевой переменной)\n",
    "y = df_full['incomeTotal']               # Целевая переменная\n",
    "\n",
    "#Стратифицированное разделение на train и test выборки\n",
    "#Размер тестовой выборки составляет 20% от всего набора данных\n",
    "#Передаем параметр stratify=y,\n",
    "#   который указывает на использование стратификации на основе целевой переменной y,\n",
    "#   чтобы сохранить баланс классов в обоих выборках.\n",
    "X_train, X_test, y_train, y_test = train_test_split(X, y, test_size=0.2, stratify=y, random_state=random_state)\n",
    "\n",
    "# Вывод размерностей полученных выборок\n",
    "print(f\"Размер обучающей выборки: {X_train.shape}\")\n",
    "print(f\"Размер тестовой выборки: {X_test.shape}\")"
   ]
  },
  {
   "cell_type": "markdown",
   "metadata": {},
   "source": [
    "Precision (точность), или PPV (Positive Predictive Value) — это доля объектов, которые действительно являются положительными, по отношению ко всем объектам, названным моделью положительными.\n",
    "Интерпретация: способность отделить класс 1 от класса 0. Чем больше precision, тем меньше ложных попаданий. То есть чем ближе precision к 1, тем меньше вероятность модели допустить ошибку I рода.\n",
    "Используется в задачах, где важно минимальное количество ложноположительных срабатываний модели.\n",
    "Можно использовать на несбалансированных выборках.\n",
    "\n",
    "Recall (полнота), или TPR (True Positive Rate) — это доля объектов, названных классификатором положительными, по отношению ко всем объектам положительного класса.\n",
    "Интерпретация: способность модели обнаруживать класс 1 вообще, то есть охват класса 1. Заметьте, что метрика зависит от количества ложноотрицательных срабатываний. То есть чем ближе recall к 1, тем меньше вероятность модели допустить ошибку II рода.\n",
    "Можно использовать на несбалансированных выборках.\n",
    "\n",
    "(F-мера) — это взвешенное среднее гармоническое между precision и recall:\n",
    "Метрика равна своему максимуму (1), если и precision, и recall равны 1 (то есть когда отсутствуют как ложноположительные, так и ложноотрицательные срабатывания). Но если хотя бы одна из метрик будет близка к 0, то и F будет близка к 0. \n",
    "Отсутствие интерпретации не даёт интуитивного понимания человеку, не знакомому с этой метрикой.\n",
    "\n",
    "print(metrics.classification_report(y, y_pred2))"
   ]
  },
  {
   "cell_type": "markdown",
   "metadata": {},
   "source": [
    "<center> РЕЗУЛЬТАТЫ БЕЗ ПРЕДВАРИТЕЛЬНЫХ НАСТРОЕК"
   ]
  },
  {
   "cell_type": "code",
   "execution_count": 72,
   "metadata": {},
   "outputs": [
    {
     "ename": "ValueError",
     "evalue": "Solver lbfgs supports only 'l2' or 'none' penalties, got l1 penalty.",
     "output_type": "error",
     "traceback": [
      "\u001b[1;31m---------------------------------------------------------------------------\u001b[0m",
      "\u001b[1;31mValueError\u001b[0m                                Traceback (most recent call last)",
      "\u001b[1;32md:\\БИС\\Задачи\\1_В работе\\Data Science\\IDE\\Diplom\\diplom_clearing_data.ipynb Cell 43\u001b[0m line \u001b[0;36m4\n\u001b[0;32m      <a href='vscode-notebook-cell:/d%3A/%D0%91%D0%98%D0%A1/%D0%97%D0%B0%D0%B4%D0%B0%D1%87%D0%B8/1_%D0%92%20%D1%80%D0%B0%D0%B1%D0%BE%D1%82%D0%B5/Data%20Science/IDE/Diplom/diplom_clearing_data.ipynb#X56sZmlsZQ%3D%3D?line=1'>2</a>\u001b[0m log_reg \u001b[39m=\u001b[39m linear_model\u001b[39m.\u001b[39mLogisticRegression(random_state\u001b[39m=\u001b[39mrandom_state, max_iter\u001b[39m=\u001b[39m\u001b[39m2000\u001b[39m, penalty \u001b[39m=\u001b[39m \u001b[39m'\u001b[39m\u001b[39ml1\u001b[39m\u001b[39m'\u001b[39m, C \u001b[39m=\u001b[39m \u001b[39m0.05\u001b[39m)\n\u001b[0;32m      <a href='vscode-notebook-cell:/d%3A/%D0%91%D0%98%D0%A1/%D0%97%D0%B0%D0%B4%D0%B0%D1%87%D0%B8/1_%D0%92%20%D1%80%D0%B0%D0%B1%D0%BE%D1%82%D0%B5/Data%20Science/IDE/Diplom/diplom_clearing_data.ipynb#X56sZmlsZQ%3D%3D?line=2'>3</a>\u001b[0m \u001b[39m#Обучаем модель\u001b[39;00m\n\u001b[1;32m----> <a href='vscode-notebook-cell:/d%3A/%D0%91%D0%98%D0%A1/%D0%97%D0%B0%D0%B4%D0%B0%D1%87%D0%B8/1_%D0%92%20%D1%80%D0%B0%D0%B1%D0%BE%D1%82%D0%B5/Data%20Science/IDE/Diplom/diplom_clearing_data.ipynb#X56sZmlsZQ%3D%3D?line=3'>4</a>\u001b[0m log_reg\u001b[39m.\u001b[39;49mfit(X_train, y_train)\n\u001b[0;32m      <a href='vscode-notebook-cell:/d%3A/%D0%91%D0%98%D0%A1/%D0%97%D0%B0%D0%B4%D0%B0%D1%87%D0%B8/1_%D0%92%20%D1%80%D0%B0%D0%B1%D0%BE%D1%82%D0%B5/Data%20Science/IDE/Diplom/diplom_clearing_data.ipynb#X56sZmlsZQ%3D%3D?line=5'>6</a>\u001b[0m y_pred \u001b[39m=\u001b[39m log_reg\u001b[39m.\u001b[39mpredict(X_test)\n\u001b[0;32m      <a href='vscode-notebook-cell:/d%3A/%D0%91%D0%98%D0%A1/%D0%97%D0%B0%D0%B4%D0%B0%D1%87%D0%B8/1_%D0%92%20%D1%80%D0%B0%D0%B1%D0%BE%D1%82%D0%B5/Data%20Science/IDE/Diplom/diplom_clearing_data.ipynb#X56sZmlsZQ%3D%3D?line=6'>7</a>\u001b[0m y_pred_train \u001b[39m=\u001b[39m log_reg\u001b[39m.\u001b[39mpredict(X_train)\n",
      "File \u001b[1;32mc:\\Users\\glaz\\AppData\\Local\\Programs\\Python\\Python39\\lib\\site-packages\\sklearn\\linear_model\\_logistic.py:1162\u001b[0m, in \u001b[0;36mLogisticRegression.fit\u001b[1;34m(self, X, y, sample_weight)\u001b[0m\n\u001b[0;32m   1131\u001b[0m \u001b[39m\"\"\"\u001b[39;00m\n\u001b[0;32m   1132\u001b[0m \u001b[39mFit the model according to the given training data.\u001b[39;00m\n\u001b[0;32m   1133\u001b[0m \n\u001b[1;32m   (...)\u001b[0m\n\u001b[0;32m   1157\u001b[0m \u001b[39mThe SAGA solver supports both float64 and float32 bit arrays.\u001b[39;00m\n\u001b[0;32m   1158\u001b[0m \u001b[39m\"\"\"\u001b[39;00m\n\u001b[0;32m   1160\u001b[0m \u001b[39mself\u001b[39m\u001b[39m.\u001b[39m_validate_params()\n\u001b[1;32m-> 1162\u001b[0m solver \u001b[39m=\u001b[39m _check_solver(\u001b[39mself\u001b[39;49m\u001b[39m.\u001b[39;49msolver, \u001b[39mself\u001b[39;49m\u001b[39m.\u001b[39;49mpenalty, \u001b[39mself\u001b[39;49m\u001b[39m.\u001b[39;49mdual)\n\u001b[0;32m   1164\u001b[0m \u001b[39mif\u001b[39;00m \u001b[39mself\u001b[39m\u001b[39m.\u001b[39mpenalty \u001b[39m!=\u001b[39m \u001b[39m\"\u001b[39m\u001b[39melasticnet\u001b[39m\u001b[39m\"\u001b[39m \u001b[39mand\u001b[39;00m \u001b[39mself\u001b[39m\u001b[39m.\u001b[39ml1_ratio \u001b[39mis\u001b[39;00m \u001b[39mnot\u001b[39;00m \u001b[39mNone\u001b[39;00m:\n\u001b[0;32m   1165\u001b[0m     warnings\u001b[39m.\u001b[39mwarn(\n\u001b[0;32m   1166\u001b[0m         \u001b[39m\"\u001b[39m\u001b[39ml1_ratio parameter is only used when penalty is \u001b[39m\u001b[39m\"\u001b[39m\n\u001b[0;32m   1167\u001b[0m         \u001b[39m\"\u001b[39m\u001b[39m'\u001b[39m\u001b[39melasticnet\u001b[39m\u001b[39m'\u001b[39m\u001b[39m. Got \u001b[39m\u001b[39m\"\u001b[39m\n\u001b[0;32m   1168\u001b[0m         \u001b[39m\"\u001b[39m\u001b[39m(penalty=\u001b[39m\u001b[39m{}\u001b[39;00m\u001b[39m)\u001b[39m\u001b[39m\"\u001b[39m\u001b[39m.\u001b[39mformat(\u001b[39mself\u001b[39m\u001b[39m.\u001b[39mpenalty)\n\u001b[0;32m   1169\u001b[0m     )\n",
      "File \u001b[1;32mc:\\Users\\glaz\\AppData\\Local\\Programs\\Python\\Python39\\lib\\site-packages\\sklearn\\linear_model\\_logistic.py:54\u001b[0m, in \u001b[0;36m_check_solver\u001b[1;34m(solver, penalty, dual)\u001b[0m\n\u001b[0;32m     50\u001b[0m \u001b[39mdef\u001b[39;00m \u001b[39m_check_solver\u001b[39m(solver, penalty, dual):\n\u001b[0;32m     51\u001b[0m \n\u001b[0;32m     52\u001b[0m     \u001b[39m# TODO(1.4): Remove \"none\" option\u001b[39;00m\n\u001b[0;32m     53\u001b[0m     \u001b[39mif\u001b[39;00m solver \u001b[39mnot\u001b[39;00m \u001b[39min\u001b[39;00m [\u001b[39m\"\u001b[39m\u001b[39mliblinear\u001b[39m\u001b[39m\"\u001b[39m, \u001b[39m\"\u001b[39m\u001b[39msaga\u001b[39m\u001b[39m\"\u001b[39m] \u001b[39mand\u001b[39;00m penalty \u001b[39mnot\u001b[39;00m \u001b[39min\u001b[39;00m (\u001b[39m\"\u001b[39m\u001b[39ml2\u001b[39m\u001b[39m\"\u001b[39m, \u001b[39m\"\u001b[39m\u001b[39mnone\u001b[39m\u001b[39m\"\u001b[39m, \u001b[39mNone\u001b[39;00m):\n\u001b[1;32m---> 54\u001b[0m         \u001b[39mraise\u001b[39;00m \u001b[39mValueError\u001b[39;00m(\n\u001b[0;32m     55\u001b[0m             \u001b[39m\"\u001b[39m\u001b[39mSolver \u001b[39m\u001b[39m%s\u001b[39;00m\u001b[39m supports only \u001b[39m\u001b[39m'\u001b[39m\u001b[39ml2\u001b[39m\u001b[39m'\u001b[39m\u001b[39m or \u001b[39m\u001b[39m'\u001b[39m\u001b[39mnone\u001b[39m\u001b[39m'\u001b[39m\u001b[39m penalties, got \u001b[39m\u001b[39m%s\u001b[39;00m\u001b[39m penalty.\u001b[39m\u001b[39m\"\u001b[39m\n\u001b[0;32m     56\u001b[0m             \u001b[39m%\u001b[39m (solver, penalty)\n\u001b[0;32m     57\u001b[0m         )\n\u001b[0;32m     58\u001b[0m     \u001b[39mif\u001b[39;00m solver \u001b[39m!=\u001b[39m \u001b[39m\"\u001b[39m\u001b[39mliblinear\u001b[39m\u001b[39m\"\u001b[39m \u001b[39mand\u001b[39;00m dual:\n\u001b[0;32m     59\u001b[0m         \u001b[39mraise\u001b[39;00m \u001b[39mValueError\u001b[39;00m(\n\u001b[0;32m     60\u001b[0m             \u001b[39m\"\u001b[39m\u001b[39mSolver \u001b[39m\u001b[39m%s\u001b[39;00m\u001b[39m supports only dual=False, got dual=\u001b[39m\u001b[39m%s\u001b[39;00m\u001b[39m\"\u001b[39m \u001b[39m%\u001b[39m (solver, dual)\n\u001b[0;32m     61\u001b[0m         )\n",
      "\u001b[1;31mValueError\u001b[0m: Solver lbfgs supports only 'l2' or 'none' penalties, got l1 penalty."
     ]
    }
   ],
   "source": [
    "#Создаем объект класса логистическая регрессия\n",
    "log_reg = linear_model.LogisticRegression(random_state=random_state, max_iter=2000)\n",
    "#Обучаем модель\n",
    "log_reg.fit(X_train, y_train)\n",
    "\n",
    "y_pred = log_reg.predict(X_test)\n",
    "y_pred_train = log_reg.predict(X_train)\n",
    "\n",
    "precision = precision_score(y_test, y_pred, pos_label=1)\n",
    "precision_train = precision_score(y_train, y_pred_train, pos_label=1)\n",
    "print(\"Precision for class 1:\", precision)\n",
    "print(\"precision_train for class 1:\", precision_train)\n",
    "print(metrics.classification_report(y_test, y_pred))"
   ]
  },
  {
   "cell_type": "code",
   "execution_count": 61,
   "metadata": {},
   "outputs": [
    {
     "name": "stdout",
     "output_type": "stream",
     "text": [
      "Precision for class 1: 0.38422247446083996\n",
      "precision_train for class 1: 0.8447571493418067\n",
      "              precision    recall  f1-score   support\n",
      "\n",
      "           0       0.96      0.99      0.97    139805\n",
      "           1       0.38      0.10      0.16      6890\n",
      "\n",
      "    accuracy                           0.95    146695\n",
      "   macro avg       0.67      0.55      0.57    146695\n",
      "weighted avg       0.93      0.95      0.94    146695\n",
      "\n"
     ]
    }
   ],
   "source": [
    "#Создаём объект класса RandomForestClassifier\n",
    "rf_clf = ensemble.RandomForestClassifier(\n",
    "    random_state=random_state #генератор случайных чисел\n",
    ")\n",
    "#Обучаем модель \n",
    "rf_clf.fit(X_train, y_train)\n",
    "\n",
    "y_pred = dt.predict(X_test)\n",
    "y_pred_train = dt.predict(X_train)\n",
    "\n",
    "#Выводим значения метрики\n",
    "precision = precision_score(y_test, y_pred, pos_label=1)\n",
    "precision_train = precision_score(y_train, y_pred_train, pos_label=1)\n",
    "print(\"Precision for class 1:\", precision)\n",
    "print(\"precision_train for class 1:\", precision_train)\n",
    "print(metrics.classification_report(y_test, y_pred))"
   ]
  },
  {
   "cell_type": "markdown",
   "metadata": {},
   "source": [
    "<center> РЕЗУЛЬТАТЫ C НАСТРОЙКАМИ"
   ]
  },
  {
   "cell_type": "code",
   "execution_count": 83,
   "metadata": {},
   "outputs": [],
   "source": [
    "#Параметры для логистической регрессии\n",
    "penalty_choice = ('l2', 'none')\n",
    "solver_choice = ('lbfgs', 'sag')\n",
    "C_choice = (0.05, 0.06)\n",
    "\n",
    "\n",
    "param_grid_lr = {'penalty': penalty_choice , # тип регуляризации\n",
    "              'solver': solver_choice, # алгоритм оптимизации\n",
    "               'C': C_choice # уровень силы регурялизации\n",
    "                }\n",
    "\n",
    "\n",
    "space_lr = {'penalty': hp.choice('penalty', penalty_choice) , # тип регуляризации\n",
    "          'solver': hp.choice('solver', solver_choice), # алгоритм оптимизации\n",
    "          'C': hp.choice('C', C_choice) # уровень силы регурялизации\n",
    "          }\n",
    "\n",
    "#Параметры для сдучайного леса\n",
    "#param_grid_rfc = {'min_samples_leaf': list(np.linspace(5, 100, 10, dtype=int)),\n",
    "#              'max_depth': list(np.linspace(1, 30, 10, dtype=int)),\n",
    "#              'criterion':['entropy','gini']\n",
    "#                }\n",
    "param_grid_rfc = {'min_samples_leaf': list(np.linspace(5, 100, 20, dtype=int)),\n",
    "              'max_depth': list(np.linspace(20, 30, 10, dtype=int)),\n",
    "              'criterion':['entropy','gini']\n",
    "                }\n",
    "\n",
    "criterion_choice = ('entropy','gini')\n",
    "\n",
    "space_rfc={'n_estimators': hp.quniform('n_estimators', 100, 200, 1),\n",
    "      'max_depth' : hp.quniform('max_depth', 1, 30, 1),\n",
    "      'min_samples_leaf': hp.quniform('min_samples_leaf', 5, 100, 10),\n",
    "      'criterion': hp.choice('criterion', criterion_choice)\n",
    "      }"
   ]
  },
  {
   "cell_type": "code",
   "execution_count": 80,
   "metadata": {},
   "outputs": [
    {
     "name": "stderr",
     "output_type": "stream",
     "text": [
      "c:\\Users\\glaz\\AppData\\Local\\Programs\\Python\\Python39\\lib\\site-packages\\sklearn\\linear_model\\_logistic.py:1173: FutureWarning: `penalty='none'`has been deprecated in 1.2 and will be removed in 1.4. To keep the past behaviour, set `penalty=None`.\n",
      "  warnings.warn(\n",
      "c:\\Users\\glaz\\AppData\\Local\\Programs\\Python\\Python39\\lib\\site-packages\\sklearn\\linear_model\\_logistic.py:1181: UserWarning: Setting penalty=None will ignore the C and l1_ratio parameters\n",
      "  warnings.warn(\n"
     ]
    },
    {
     "name": "stdout",
     "output_type": "stream",
     "text": [
      "CPU times: total: 4min 54s\n",
      "Wall time: 19min 12s\n",
      "Наилучшие значения гиперпараметров: {'C': 0.05, 'penalty': 'none', 'solver': 'lbfgs'}\n",
      "Precision на тестовом наборе для класса 1: 0.55\n",
      "Precision на тренеровочном наборе для класса 1: 0.52\n",
      "              precision    recall  f1-score   support\n",
      "\n",
      "           0       0.95      1.00      0.98    139805\n",
      "           1       0.55      0.04      0.07      6890\n",
      "\n",
      "    accuracy                           0.95    146695\n",
      "   macro avg       0.75      0.52      0.52    146695\n",
      "weighted avg       0.94      0.95      0.93    146695\n",
      "\n"
     ]
    }
   ],
   "source": [
    "#ЛОГИСТИЧЕСКАЯ РЕГРЕССИЯ + GridSearchCV\n",
    "\n",
    "grid_search = GridSearchCV(\n",
    "    estimator=linear_model.LogisticRegression(random_state=random_state, max_iter=2000), \n",
    "    param_grid=param_grid_lr, \n",
    "    cv=2, \n",
    "    n_jobs = -1\n",
    ")  \n",
    "%time grid_search.fit(X_train, y_train) \n",
    "\n",
    "# Получаем лучшую модель с лучшими гиперпараметрами\n",
    "best_model = grid_search.best_estimator_\n",
    "\n",
    "# Получаем прогнозы на тестовой выборке\n",
    "y_pred_test_log_reg = best_model.predict(X_test)\n",
    "y_pred_train_log_reg = best_model.predict(X_train)\n",
    "\n",
    "print(\"Наилучшие значения гиперпараметров: {}\".format(grid_search.best_params_))\n",
    "\n",
    "print('Precision на тестовом наборе для класса 1: {:.2f}'.format(metrics.precision_score(y_test, y_pred_test_log_reg, pos_label=1)))\n",
    "print('Precision на тренеровочном наборе для класса 1: {:.2f}'.format(metrics.precision_score(y_train, y_pred_train_log_reg, pos_label=1)))\n",
    "print(metrics.classification_report(y_test, y_pred_test_log_reg))\n"
   ]
  },
  {
   "cell_type": "code",
   "execution_count": 84,
   "metadata": {},
   "outputs": [],
   "source": [
    "#СЛУЧАЙНЫЕ ЛЕС + GridSearchCV\n",
    "            \n",
    "grid_search_tree = GridSearchCV(\n",
    "    estimator=ensemble.RandomForestClassifier(random_state=random_state), \n",
    "    param_grid=param_grid_rfc, \n",
    "    cv=2, \n",
    "    n_jobs = -1\n",
    ")  \n",
    "%time grid_search_tree.fit(X_train, y_train) \n",
    "y_test_pred = grid_search_tree.predict(X_test)\n",
    "print('Precision на тестовом наборе: {:.2f}'.format(metrics.precision_score(y_test, y_test_pred, pos_label=1)))\n",
    "print(\"Наилучшие значения гиперпараметров: {}\".format(grid_search_tree.best_params_))"
   ]
  },
  {
   "cell_type": "code",
   "execution_count": null,
   "metadata": {},
   "outputs": [],
   "source": [
    "# Получаем значения важности признаков\n",
    "importances = best_model.feature_importances_\n",
    "\n",
    "# Создаем список признаков и их важностей\n",
    "features_importance = list(zip(X_train.columns, importances))\n",
    "\n",
    "# Сортируем список по важности признаков в порядке убывания\n",
    "features_importance.sort(key=lambda x: x[1], reverse=True)\n",
    "\n",
    "# Получаем три лучших признака\n",
    "top_features = [x[0] for x in features_importance[:2]]\n",
    "\n",
    "# Выводим результат\n",
    "print(\"Три лучших признака:\", top_features)"
   ]
  }
 ],
 "metadata": {
  "kernelspec": {
   "display_name": "Python 3",
   "language": "python",
   "name": "python3"
  },
  "language_info": {
   "codemirror_mode": {
    "name": "ipython",
    "version": 3
   },
   "file_extension": ".py",
   "mimetype": "text/x-python",
   "name": "python",
   "nbconvert_exporter": "python",
   "pygments_lexer": "ipython3",
   "version": "3.9.10"
  }
 },
 "nbformat": 4,
 "nbformat_minor": 2
}
