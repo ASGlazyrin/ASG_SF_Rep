{
 "cells": [
  {
   "cell_type": "markdown",
   "metadata": {},
   "source": [
    "# <center> **ДИПЛОМНАЯ РАБОТА**\n",
    "# <center> **на тему:** \n",
    "# <center> <U>**Бриф «Лаборатории исследований гражданского общества».**\n",
    "# <center> **Государственные деньги у НКО**</U>"
   ]
  },
  {
   "cell_type": "markdown",
   "metadata": {},
   "source": [
    "# *Описание проекта*\n",
    "В распоряжении есть дамп данных обо всех НКО России,  \n",
    "в котором содержится информация о получении государственных грантов,  \n",
    "госконтрактов и субсидий, регионе и дате регистрации,  \n",
    "а также ОКВЭД (классификатор экономической деятельности).\n",
    "# *Постановка задачи*\n",
    "Проверить, есть ли зависимость вероятности получения грантов от государства/госконтрактов:  \n",
    "➔ от региона регистрации организации;  \n",
    "➔ от возраста организации;  \n",
    "➔ от экономической деятельности организации.  \n",
    "По желанию можно провести любые дополнительные проверки.\n",
    "# *Исходные данные*\n",
    "Источник данных — проект «Открытые НКО» <https://openngo.ru/>  \n",
    "Дамп данных в формате JSON (актуален на 16.08.2023) <https://openngo.ru/opendata/>  \n",
    "Описание полей на GitHub <https://github.com/infoculture/openngo-data-reference/wiki/Характеристики-и-расшифровки-открытых-данных>"
   ]
  },
  {
   "cell_type": "markdown",
   "metadata": {},
   "source": [
    "## Библиотеки"
   ]
  },
  {
   "cell_type": "code",
   "execution_count": 1,
   "metadata": {},
   "outputs": [],
   "source": [
    "# общие библиотеки\n",
    "import pandas as pd # для работы с данными\n",
    "import numpy as np  # для выполнения научных вычислений\n",
    "import ast # для безопасного преобразования строки в список с помощью функции literal_eval()\n",
    "import json # для работы с данными в формате JSON\n",
    "from datetime import datetime # для работы датой и временем\n",
    "import category_encoders as ce # импортируем библиотеку для работы с кодировщиками\n",
    "\n",
    "# импортируем библиотеки для визуализации\n",
    "import matplotlib.pyplot as plt\n",
    "import seaborn as sns \n",
    "%matplotlib inline\n",
    "\n",
    "# для формирования моделей\n",
    "from sklearn.model_selection import train_test_split # для разделения датасета\n",
    "from sklearn.naive_bayes import CategoricalNB\n",
    "from sklearn import linear_model # линейные модели\n",
    "from sklearn import ensemble # ансамбли\n",
    "from sklearn.model_selection import GridSearchCV # для поиска наилучших гиперпараметров\n",
    "\n",
    "# метрики\n",
    "from sklearn import metrics #метрики\n",
    "from sklearn.metrics import precision_score\n",
    "from sklearn.inspection import permutation_importance\n",
    "import eli5\n",
    "from eli5.sklearn import PermutationImportance"
   ]
  },
  {
   "cell_type": "markdown",
   "metadata": {},
   "source": [
    "## Глава 1. Анализ исходных данных"
   ]
  },
  {
   "cell_type": "markdown",
   "metadata": {},
   "source": [
    "Исходные данные представляют собой 16 файлов формата JSON.  \n",
    " \n",
    "Анализ исходных данных представляет собой:\n",
    "1. сбор 16 файлов формата JSON в единый DataFrame\n",
    "2. анализ количества строк, типов данных, пропущенных данных\n",
    "3. удаление признаков, однозначно не повлияющих на дальнейшее решение задачи"
   ]
  },
  {
   "cell_type": "code",
   "execution_count": 2,
   "metadata": {},
   "outputs": [
    {
     "data": {
      "text/html": [
       "<div>\n",
       "<style scoped>\n",
       "    .dataframe tbody tr th:only-of-type {\n",
       "        vertical-align: middle;\n",
       "    }\n",
       "\n",
       "    .dataframe tbody tr th {\n",
       "        vertical-align: top;\n",
       "    }\n",
       "\n",
       "    .dataframe thead th {\n",
       "        text-align: right;\n",
       "    }\n",
       "</style>\n",
       "<table border=\"1\" class=\"dataframe\">\n",
       "  <thead>\n",
       "    <tr style=\"text-align: right;\">\n",
       "      <th></th>\n",
       "      <th>addOkved</th>\n",
       "      <th>address</th>\n",
       "      <th>chiefs</th>\n",
       "      <th>dateLiquid</th>\n",
       "      <th>dateOgrn</th>\n",
       "      <th>dateReg</th>\n",
       "      <th>email</th>\n",
       "      <th>fullName</th>\n",
       "      <th>inn</th>\n",
       "      <th>kpp</th>\n",
       "      <th>...</th>\n",
       "      <th>okato</th>\n",
       "      <th>okfs</th>\n",
       "      <th>okogu</th>\n",
       "      <th>oktmo</th>\n",
       "      <th>socialMedia</th>\n",
       "      <th>opfType</th>\n",
       "      <th>reports</th>\n",
       "      <th>incomeTotal</th>\n",
       "      <th>incomeDetail</th>\n",
       "      <th>incomeRank</th>\n",
       "    </tr>\n",
       "  </thead>\n",
       "  <tbody>\n",
       "    <tr>\n",
       "      <th>0</th>\n",
       "      <td>[{'code': '72.4', 'name': 'Деятельность по соз...</td>\n",
       "      <td>422430, РЕСПУБЛИКА ТАТАРСТАН, ГОРОД БУИНСК, УЛ...</td>\n",
       "      <td>[{'name': 'ХАЛИКОВ РАШИТ РИНАТОВИЧ', 'title': ...</td>\n",
       "      <td>{'$date': '2012-12-17T00:00:00.000Z'}</td>\n",
       "      <td>{'$date': '2010-03-03T00:00:00.000Z'}</td>\n",
       "      <td>None</td>\n",
       "      <td>None</td>\n",
       "      <td>НЕКОММЕРЧЕСКОЕ ПАРТНЕРСТВО \"ИНФОРМАЦИОННО-КОНС...</td>\n",
       "      <td>1614010370</td>\n",
       "      <td>161401001</td>\n",
       "      <td>...</td>\n",
       "      <td>{'code': None, 'name': None}</td>\n",
       "      <td>{'code': None, 'name': None}</td>\n",
       "      <td>{'code': None, 'name': None}</td>\n",
       "      <td>{'code': None, 'name': None}</td>\n",
       "      <td>{'facebook': None, 'instagram': None, 'ok': No...</td>\n",
       "      <td>Некоммерческие партнерства</td>\n",
       "      <td>[]</td>\n",
       "      <td>0.0</td>\n",
       "      <td>{'grants': {'totalCount': 0, 'totalSum': 0}, '...</td>\n",
       "      <td>Наличие доходов из доступных источников не уст...</td>\n",
       "    </tr>\n",
       "    <tr>\n",
       "      <th>1</th>\n",
       "      <td>[{'code': '67.20.2', 'name': 'Деятельность спе...</td>\n",
       "      <td>430030, РЕСПУБЛИКА МОРДОВИЯ, ГОРОД САРАНСК, УЛ...</td>\n",
       "      <td>[{'name': 'ПУЗАНОВ ВЛАДИМИР ВЛАДИМИРОВИЧ', 'ti...</td>\n",
       "      <td>{'$date': '2014-11-10T00:00:00.000Z'}</td>\n",
       "      <td>{'$date': '2010-05-11T00:00:00.000Z'}</td>\n",
       "      <td>None</td>\n",
       "      <td>None</td>\n",
       "      <td>НЕКОММЕРЧЕСКОЕ ПАРТНЕРСТВО \"МЕЖРЕГИОНАЛЬНЫЙ НА...</td>\n",
       "      <td>1327010633</td>\n",
       "      <td>132701001</td>\n",
       "      <td>...</td>\n",
       "      <td>{'code': None, 'name': None}</td>\n",
       "      <td>{'code': None, 'name': None}</td>\n",
       "      <td>{'code': None, 'name': None}</td>\n",
       "      <td>{'code': None, 'name': None}</td>\n",
       "      <td>{'facebook': None, 'instagram': None, 'ok': No...</td>\n",
       "      <td>Некоммерческие партнерства</td>\n",
       "      <td>[{'type': 'Заявление', 'reportId': '19445801',...</td>\n",
       "      <td>0.0</td>\n",
       "      <td>{'grants': {'totalCount': 0, 'totalSum': 0}, '...</td>\n",
       "      <td>Наличие доходов из доступных источников не уст...</td>\n",
       "    </tr>\n",
       "  </tbody>\n",
       "</table>\n",
       "<p>2 rows × 40 columns</p>\n",
       "</div>"
      ],
      "text/plain": [
       "                                            addOkved  \\\n",
       "0  [{'code': '72.4', 'name': 'Деятельность по соз...   \n",
       "1  [{'code': '67.20.2', 'name': 'Деятельность спе...   \n",
       "\n",
       "                                             address  \\\n",
       "0  422430, РЕСПУБЛИКА ТАТАРСТАН, ГОРОД БУИНСК, УЛ...   \n",
       "1  430030, РЕСПУБЛИКА МОРДОВИЯ, ГОРОД САРАНСК, УЛ...   \n",
       "\n",
       "                                              chiefs  \\\n",
       "0  [{'name': 'ХАЛИКОВ РАШИТ РИНАТОВИЧ', 'title': ...   \n",
       "1  [{'name': 'ПУЗАНОВ ВЛАДИМИР ВЛАДИМИРОВИЧ', 'ti...   \n",
       "\n",
       "                              dateLiquid  \\\n",
       "0  {'$date': '2012-12-17T00:00:00.000Z'}   \n",
       "1  {'$date': '2014-11-10T00:00:00.000Z'}   \n",
       "\n",
       "                                dateOgrn dateReg email  \\\n",
       "0  {'$date': '2010-03-03T00:00:00.000Z'}    None  None   \n",
       "1  {'$date': '2010-05-11T00:00:00.000Z'}    None  None   \n",
       "\n",
       "                                            fullName         inn        kpp  \\\n",
       "0  НЕКОММЕРЧЕСКОЕ ПАРТНЕРСТВО \"ИНФОРМАЦИОННО-КОНС...  1614010370  161401001   \n",
       "1  НЕКОММЕРЧЕСКОЕ ПАРТНЕРСТВО \"МЕЖРЕГИОНАЛЬНЫЙ НА...  1327010633  132701001   \n",
       "\n",
       "   ...                         okato                          okfs  \\\n",
       "0  ...  {'code': None, 'name': None}  {'code': None, 'name': None}   \n",
       "1  ...  {'code': None, 'name': None}  {'code': None, 'name': None}   \n",
       "\n",
       "                          okogu                         oktmo  \\\n",
       "0  {'code': None, 'name': None}  {'code': None, 'name': None}   \n",
       "1  {'code': None, 'name': None}  {'code': None, 'name': None}   \n",
       "\n",
       "                                         socialMedia  \\\n",
       "0  {'facebook': None, 'instagram': None, 'ok': No...   \n",
       "1  {'facebook': None, 'instagram': None, 'ok': No...   \n",
       "\n",
       "                      opfType  \\\n",
       "0  Некоммерческие партнерства   \n",
       "1  Некоммерческие партнерства   \n",
       "\n",
       "                                             reports incomeTotal  \\\n",
       "0                                                 []         0.0   \n",
       "1  [{'type': 'Заявление', 'reportId': '19445801',...         0.0   \n",
       "\n",
       "                                        incomeDetail  \\\n",
       "0  {'grants': {'totalCount': 0, 'totalSum': 0}, '...   \n",
       "1  {'grants': {'totalCount': 0, 'totalSum': 0}, '...   \n",
       "\n",
       "                                          incomeRank  \n",
       "0  Наличие доходов из доступных источников не уст...  \n",
       "1  Наличие доходов из доступных источников не уст...  \n",
       "\n",
       "[2 rows x 40 columns]"
      ]
     },
     "execution_count": 2,
     "metadata": {},
     "output_type": "execute_result"
    }
   ],
   "source": [
    "# сбор 16 файлов формата JSON в единый DataFrame\n",
    "\n",
    "data_list = [] # список данных\n",
    "\n",
    "# Прочитать каждый файл JSON и добавить его данные в список\n",
    "for i in range(1, 17):\n",
    "    filename = f\"data/ngo_dump_{i:02d}.json\"  # Имя файла в формате \"ngo_dump_01.json\" до \"ngo_dump_16.json\"\n",
    "    with open(filename, 'r', encoding='utf-8') as f:\n",
    "        lines = f.readlines()\n",
    "    # Преобразовать каждую строку в объект JSON\n",
    "    for line in lines:\n",
    "        data = json.loads(line)\n",
    "        data_list.append(data)\n",
    "\n",
    "# Преобразовать список объектов JSON в DataFrame\n",
    "df_full = pd.DataFrame(data_list)\n",
    "df_full.head(2)"
   ]
  },
  {
   "cell_type": "code",
   "execution_count": 3,
   "metadata": {},
   "outputs": [
    {
     "name": "stdout",
     "output_type": "stream",
     "text": [
      "<class 'pandas.core.frame.DataFrame'>\n",
      "RangeIndex: 752072 entries, 0 to 752071\n",
      "Data columns (total 40 columns):\n",
      " #   Column              Non-Null Count   Dtype  \n",
      "---  ------              --------------   -----  \n",
      " 0   addOkved            752072 non-null  object \n",
      " 1   address             752072 non-null  object \n",
      " 2   chiefs              752072 non-null  object \n",
      " 3   dateLiquid          406460 non-null  object \n",
      " 4   dateOgrn            752072 non-null  object \n",
      " 5   dateReg             321581 non-null  object \n",
      " 6   email               11086 non-null   object \n",
      " 7   fullName            752072 non-null  object \n",
      " 8   inn                 749468 non-null  object \n",
      " 9   kpp                 748411 non-null  object \n",
      " 10  mainOkved           752072 non-null  object \n",
      " 11  ogrn                752072 non-null  object \n",
      " 12  opf                 752072 non-null  object \n",
      " 13  predecessors        752072 non-null  object \n",
      " 14  shortName           602778 non-null  object \n",
      " 15  statusInfo          752072 non-null  object \n",
      " 16  successors          752072 non-null  object \n",
      " 17  egrulStatus         752072 non-null  object \n",
      " 18  statusDetail        752072 non-null  object \n",
      " 19  foundersConfig      271348 non-null  object \n",
      " 20  regionCode          752072 non-null  object \n",
      " 21  regionName          752047 non-null  object \n",
      " 22  originDate          752072 non-null  object \n",
      " 23  minjustForm         466577 non-null  object \n",
      " 24  minjustStatus       466577 non-null  object \n",
      " 25  minjustRegNum       466577 non-null  object \n",
      " 26  okpo                345378 non-null  object \n",
      " 27  hasRegionalSupport  0 non-null       object \n",
      " 28  website             5287 non-null    object \n",
      " 29  website_punycode    5287 non-null    object \n",
      " 30  okato               752072 non-null  object \n",
      " 31  okfs                752072 non-null  object \n",
      " 32  okogu               752072 non-null  object \n",
      " 33  oktmo               752072 non-null  object \n",
      " 34  socialMedia         752072 non-null  object \n",
      " 35  opfType             752072 non-null  object \n",
      " 36  reports             752072 non-null  object \n",
      " 37  incomeTotal         752072 non-null  float64\n",
      " 38  incomeDetail        752072 non-null  object \n",
      " 39  incomeRank          752072 non-null  object \n",
      "dtypes: float64(1), object(39)\n",
      "memory usage: 229.5+ MB\n"
     ]
    }
   ],
   "source": [
    "df_full.info()"
   ]
  },
  {
   "cell_type": "code",
   "execution_count": 4,
   "metadata": {},
   "outputs": [
    {
     "name": "stdout",
     "output_type": "stream",
     "text": [
      "'dateLiquid': 345612\n",
      "'dateReg': 430491\n",
      "'email': 740986\n",
      "'inn': 2604\n",
      "'kpp': 3661\n",
      "'shortName': 149294\n",
      "'foundersConfig': 480724\n",
      "'regionName': 25\n",
      "'minjustForm': 285495\n",
      "'minjustStatus': 285495\n",
      "'minjustRegNum': 285495\n",
      "'okpo': 406694\n",
      "'hasRegionalSupport': 752072\n",
      "'website': 746785\n",
      "'website_punycode': 746785\n"
     ]
    }
   ],
   "source": [
    "# Перечень признаков с пропущенными данными\n",
    "missing_columns = df_full.columns[df_full.isnull().any()]\n",
    "for column in missing_columns:\n",
    "    missing_count = df_full[column].isnull().sum()\n",
    "    print(f\"'{column}': {missing_count}\")"
   ]
  },
  {
   "cell_type": "markdown",
   "metadata": {},
   "source": [
    "Рассмотрим столбцы/признаки, значение которых объективно не могут влияют на поставленную задачу, на целевой признак \"incomeTotal\" - сумма доходов:\n",
    "1. chiefs: руководители организации (не будем рассматривать вариант влияния субъекта на целевой признак, иными словами коррупцию) \n",
    "2. email: email организации\n",
    "3. shortName: сокращенное наименование организации\n",
    "4. inn\n",
    "5. kpp\n",
    "6. regionName: название региона организации (есть признак \"regionCode\" - код региона, этого достаточно)\n",
    "7. statusDetail: текущий статус организации (значений не много, кроме того нам нужны данные в ретроспективе, а не текущий статус)\n",
    "8. minjustStatus: статус НКО в системе Минюста РФ - УНРО (много пропусков)\n",
    "9. minjustRegNum: реестровый номер НКО в системе Минюста РФ - УНРО (много пропусков)\n",
    "10. minjustForm: форма НКО, согласно системе Минюста РФ (имеет более полный аналог в признаке opfType)  \n",
    "11. hasRegionalSupport: региональная поддержка в качестве СО НКО (много пропусков)\n",
    "12. okato: сведения об ОКАТО (в списке пропущенных нет, но большинство со значением None;  \n",
    "кроме того административно-территориальное деление мало интересно, лучше использовать деление по регионам)\n",
    "13. oktmo: сведения об ОКТМО (в списке пропущенных нет, но большинство со значением None;  \n",
    "кроме того административно-территориальное деление мало интересно, лучше использовать деление по регионам)\n",
    "14. okpo: ОКПО (много пропусков)\n",
    "15. okogu: сведения об ОКОГУ: (признак скорее всего нужный, но мало заполненных строк; в рамках диплома исключаем)\n",
    "16. okfs: сведения об ОКФС: (признак скорее всего нужный, но мало заполненных строк; в рамках диплома исключаем)\n",
    "17. dateReg: дата регистрации организаций (имеет более полный аналог признака - originDate)\n",
    "18. dateOgrn: дата регистрации организаций (имеет более полный аналог признака - originDate)\n",
    "19. incomeRank: уровень дохода (имеет более полный аналог в признаках incomeTotal)\n",
    "20. website_punycode: домен вебсайта организации (много пропусков)\n",
    "21. website: домен вебсайта организации (много пропусков)\n",
    "22. reports: отчеты организации, поданные в Минюст РФ (утечка целевой переменной)\n",
    "23. socialMedia: сведения об учетных записях организации в соцсетях (много пропусков)\n",
    "24. egrulStatus: статус организации на основании данных ЕГРЮЛ (нужны данные в ретроспективе, а не текущий статус)\n",
    "25. foundersConfig: состав учредителей (признак скорее всего нужный, но мало заполненных строк; в рамках диплома исключаем)\n",
    "26. statusInfo: информация об ошибке регистрации (утечка целевой переменной)\n",
    "27. successors: преемники (нужны данные в ретроспективе)"
   ]
  },
  {
   "cell_type": "code",
   "execution_count": 5,
   "metadata": {},
   "outputs": [
    {
     "name": "stdout",
     "output_type": "stream",
     "text": [
      "<class 'pandas.core.frame.DataFrame'>\n",
      "RangeIndex: 752072 entries, 0 to 752071\n",
      "Data columns (total 13 columns):\n",
      " #   Column        Non-Null Count   Dtype  \n",
      "---  ------        --------------   -----  \n",
      " 0   addOkved      752072 non-null  object \n",
      " 1   address       752072 non-null  object \n",
      " 2   dateLiquid    406460 non-null  object \n",
      " 3   fullName      752072 non-null  object \n",
      " 4   mainOkved     752072 non-null  object \n",
      " 5   ogrn          752072 non-null  object \n",
      " 6   opf           752072 non-null  object \n",
      " 7   predecessors  752072 non-null  object \n",
      " 8   regionCode    752072 non-null  object \n",
      " 9   originDate    752072 non-null  object \n",
      " 10  opfType       752072 non-null  object \n",
      " 11  incomeTotal   752072 non-null  float64\n",
      " 12  incomeDetail  752072 non-null  object \n",
      "dtypes: float64(1), object(12)\n",
      "memory usage: 74.6+ MB\n"
     ]
    }
   ],
   "source": [
    "#Удаление столбцов/признаков, значение которых объективно не могут влияют на поставленную задачу, на целевой признак\n",
    "df_full = df_full.drop(['chiefs', 'email', 'shortName', 'inn', 'kpp', 'regionName', 'foundersConfig', 'minjustForm', 'website', 'dateOgrn',\n",
    "                        'statusDetail','minjustStatus','minjustRegNum','hasRegionalSupport','okato','oktmo', 'egrulStatus', 'okogu', 'okfs', 'successors',\n",
    "                        'okpo','dateReg', 'incomeRank', 'website_punycode', 'reports','socialMedia','statusInfo'], axis=1)\n",
    "df_full.info()"
   ]
  },
  {
   "cell_type": "markdown",
   "metadata": {},
   "source": [
    "<u>Вывод по Главе 1:</u>\n",
    "1. Количество строк 752072.\n",
    "2. Из первоначальных 40 признаков оставлены необходимые для дальнейшей работы 14.\n",
    "3. Пропущенные данные только у признака dateLiquid -  дата ликвидации юрлиц; это нормально: пропущенные значения - это действующие организации.\n",
    "4. Тип float только для суммы доходов - incomeTotal, у остальных - тип object."
   ]
  },
  {
   "cell_type": "markdown",
   "metadata": {},
   "source": [
    "## Глава 2. Анализ целевого признака"
   ]
  },
  {
   "cell_type": "markdown",
   "metadata": {},
   "source": [
    "Целевой признак в задаче - \"incomeTotal\" - общая сумма доходов из известных источников.  \n",
    "В анализ целевого признака входит:\n",
    "- рассмотрение статей доходов;\n",
    "- визуализация данных о целевом признаке;\n",
    "- количественные данные о целевом признаке. "
   ]
  },
  {
   "cell_type": "markdown",
   "metadata": {},
   "source": [
    "Сформируем признаки - статьи доходов:\n",
    "1. totalSumGrants (тип floats) - сумма грантов и субсидий\n",
    "2. totalSumContract (тип floats) - сумма контрактов\n",
    "\n",
    "Исходные данные для формирования признаков - признак incomeDetail.  \n",
    "incomeDetail - детализация сведений о доходах. \n",
    "   \n",
    "Формат incomDetail - словарь; пример: \n",
    "   \n",
    "\"incomeDetail\": {\"grants\": {\"totalCount\": 0, \"totalSum\": 0}, \"fedSubsidies\": {\"totalCount\": 0, \"totalSum\": 0},   \n",
    "\"contracts44\": {\"totalCount\": 0, \"totalSum\": 0}, \"contracts94\": {\"totalCount\": 0, \"totalSum\": 0},  \n",
    "\"contracts223\": {\"totalCount\": 0, \"totalSum\": 0}}"
   ]
  },
  {
   "cell_type": "code",
   "execution_count": 6,
   "metadata": {},
   "outputs": [],
   "source": [
    "df_full['incomeDetail'] = df_full['incomeDetail'].astype(str)\n",
    "\n",
    "# Функция для вычисления суммы totalSumGrants для \"grants\" и \"fedSubsidies\"\n",
    "def calculate_total_sum_grant(json_string):\n",
    "    #Аргумент \"json_string\" - строка с данными о сумме и количеству грантов, субсидий и контрактов\n",
    "    try:\n",
    "        # Преобразование JSON-строки        \n",
    "        income_detail_dict = eval(json_string)\n",
    "        # Получение значений totalSum для \"grants\" и \"fedSubsidies\"\n",
    "        grants_total_sum = income_detail_dict.get(\"grants\", {}).get(\"totalSum\", 0)\n",
    "        fed_subsidies_total_sum = income_detail_dict.get(\"fedSubsidies\", {}).get(\"totalSum\", 0) \n",
    "        # Возвращение суммы totalSumGrants типа float\n",
    "        return float(grants_total_sum) + float(fed_subsidies_total_sum)\n",
    "    except:\n",
    "        return 0\n",
    " \n",
    "\n",
    "# Функция для вычисления суммы totalSum для \"grants\" и \"fedSubsidies\"\n",
    "def calculate_total_sum_contract(json_string):\n",
    "    #Аргумент \"json_string\" - строка с данными о сумме и количеству грантов, субсидий и контрактов\n",
    "    try:\n",
    "        # Преобразование JSON-строки        \n",
    "        income_detail_dict = eval(json_string)\n",
    "        # Получение значений totalSum для контрактов: contracts44, contracts94, contracts223\n",
    "        total_sum_44 = income_detail_dict.get(\"contracts44\", {}).get(\"totalSum\", 0)\n",
    "        total_sum_94 = income_detail_dict.get(\"contracts94\", {}).get(\"totalSum\", 0)\n",
    "        total_sum_223 = income_detail_dict.get(\"contracts223\", {}).get(\"totalSum\", 0)\n",
    "        # Возвращение суммы totalSumContract типа float\n",
    "        return float(total_sum_44) + float(total_sum_94) + float(total_sum_223)\n",
    "    except:\n",
    "        return 0\n",
    "\n",
    "# Формирование признаков totalSumGrants и totalSumContract\n",
    "df_full['totalSumGrants'] = df_full['incomeDetail'].apply(calculate_total_sum_grant)\n",
    "df_full['totalSumContract'] = df_full['incomeDetail'].apply(calculate_total_sum_contract)"
   ]
  },
  {
   "cell_type": "code",
   "execution_count": 7,
   "metadata": {},
   "outputs": [
    {
     "data": {
      "image/png": "[encoded data removed]",
      "text/plain": [
       "<Figure size 640x480 with 1 Axes>"
      ]
     },
     "metadata": {},
     "output_type": "display_data"
    },
    {
     "data": {
      "image/png": "[encoded data removed]",
      "text/plain": [
       "<Figure size 640x480 with 1 Axes>"
      ]
     },
     "metadata": {},
     "output_type": "display_data"
    }
   ],
   "source": [
    "#Визуализация данных о распределении организаций по доходам\n",
    "\n",
    "# Распределение организаций по доходам\n",
    "df_full['без_дохода'] = df_full['incomeTotal'].apply(lambda x: 1 if x == 0 else 0)\n",
    "df_full['с_доходом'] = df_full['incomeTotal'].apply(lambda x: 1 if x > 0 else 0)\n",
    "\n",
    "ax = df_full[['без_дохода', 'с_доходом']].sum().plot(kind='bar')\n",
    "plt.xlabel('Категория организаций')\n",
    "plt.ylabel('Количество организаций')\n",
    "plt.title('Распределение организаций по доходам')\n",
    "\n",
    "for p in ax.patches:\n",
    "    ax.annotate(str(p.get_height()), (p.get_x() + p.get_width() / 2, p.get_height()), ha='center')\n",
    "\n",
    "plt.show()\n",
    "\n",
    "# Распределение по грантам и контрактам\n",
    "df_full['только_гранты'] = ((df_full['totalSumGrants'] > 0) & (df_full['totalSumContract'] == 0)).astype(int)\n",
    "df_full['только_контракты'] = ((df_full['totalSumGrants'] == 0) & (df_full['totalSumContract'] > 0)).astype(int)\n",
    "df_full['гранты_и_контракты'] = ((df_full['totalSumGrants'] > 0) & (df_full['totalSumContract'] > 0)).astype(int)\n",
    "\n",
    "ax = df_full[['только_гранты', 'только_контракты', 'гранты_и_контракты']].sum().plot(kind='bar')\n",
    "plt.xlabel('Категория организаций')\n",
    "plt.ylabel('Количество организаций')\n",
    "plt.title('Распределение по грантам и контрактам')\n",
    "\n",
    "for p in ax.patches:\n",
    "    ax.annotate(str(p.get_height()), (p.get_x() + p.get_width() / 2, p.get_height()), ha='center')\n",
    "\n",
    "plt.show()\n",
    "\n",
    "# Удаление временных столбцов\n",
    "df_full.drop(['без_дохода', 'с_доходом', 'только_гранты', 'только_контракты', 'гранты_и_контракты'], axis=1, inplace=True)"
   ]
  },
  {
   "cell_type": "markdown",
   "metadata": {},
   "source": [
    "<u>Вывод по Главе 2:</u>\n",
    "1. При 752072 организаций количество организаций с доходом - 34742 (4,62%).\n",
    "2. Распределение организаций с доходом и без дохода - неравномерно; это нужно учесть при разделени на тестовые и тренеровочные наборы.\n",
    "3. Большая часть доходов - контракты.\n",
    "4. При таком малом количестве организаций с доходом, лучше не разбивать организации по статьям.\n",
    "5. Целевой прихнак incomeTotal разбить на два класса организаций: 1 - с доходом, 0 - без дохода."
   ]
  },
  {
   "cell_type": "code",
   "execution_count": 7,
   "metadata": {},
   "outputs": [],
   "source": [
    "# заменим значения признака incomeTotal со значения суммы на бинарное значение: \n",
    "# 1 - организация с доходом, 0 - организация без дохода.\n",
    "df_full['incomeTotal'] = df_full['incomeTotal'].apply(lambda x: 1 if x > 0 else 0)"
   ]
  },
  {
   "cell_type": "code",
   "execution_count": 8,
   "metadata": {},
   "outputs": [
    {
     "name": "stdout",
     "output_type": "stream",
     "text": [
      "<class 'pandas.core.frame.DataFrame'>\n",
      "RangeIndex: 752072 entries, 0 to 752071\n",
      "Data columns (total 12 columns):\n",
      " #   Column        Non-Null Count   Dtype \n",
      "---  ------        --------------   ----- \n",
      " 0   addOkved      752072 non-null  object\n",
      " 1   address       752072 non-null  object\n",
      " 2   dateLiquid    406460 non-null  object\n",
      " 3   fullName      752072 non-null  object\n",
      " 4   mainOkved     752072 non-null  object\n",
      " 5   ogrn          752072 non-null  object\n",
      " 6   opf           752072 non-null  object\n",
      " 7   predecessors  752072 non-null  object\n",
      " 8   regionCode    752072 non-null  object\n",
      " 9   originDate    752072 non-null  object\n",
      " 10  opfType       752072 non-null  object\n",
      " 11  incomeTotal   752072 non-null  int64 \n",
      "dtypes: int64(1), object(11)\n",
      "memory usage: 68.9+ MB\n"
     ]
    }
   ],
   "source": [
    "# удаление признаков, связанных со статьями по доходам и далее не нужный признак incomeDetail.\n",
    "df_full = df_full.drop(['totalSumGrants', 'totalSumContract','incomeDetail'], axis=1)\n",
    "df_full.info()"
   ]
  },
  {
   "cell_type": "markdown",
   "metadata": {},
   "source": [
    "## Глава 3. Обработка признаков с типом object"
   ]
  },
  {
   "cell_type": "markdown",
   "metadata": {},
   "source": [
    "### 3.1. Обработка признака regionCode - код региона"
   ]
  },
  {
   "cell_type": "markdown",
   "metadata": {},
   "source": [
    "При анализировании признаков, связанных с регионом, видно:  \n",
    "- 25 строк имеют пропуски в наименовании региона;  \n",
    "- 25 строк имеют нулевые значения в коде региона."
   ]
  },
  {
   "cell_type": "code",
   "execution_count": 9,
   "metadata": {},
   "outputs": [
    {
     "data": {
      "text/html": [
       "<div>\n",
       "<style scoped>\n",
       "    .dataframe tbody tr th:only-of-type {\n",
       "        vertical-align: middle;\n",
       "    }\n",
       "\n",
       "    .dataframe tbody tr th {\n",
       "        vertical-align: top;\n",
       "    }\n",
       "\n",
       "    .dataframe thead th {\n",
       "        text-align: right;\n",
       "    }\n",
       "</style>\n",
       "<table border=\"1\" class=\"dataframe\">\n",
       "  <thead>\n",
       "    <tr style=\"text-align: right;\">\n",
       "      <th></th>\n",
       "      <th>regionCode</th>\n",
       "      <th>address</th>\n",
       "    </tr>\n",
       "  </thead>\n",
       "  <tbody>\n",
       "    <tr>\n",
       "      <th>101323</th>\n",
       "      <td>00</td>\n",
       "      <td>420108, РЕСПУБЛИКА ТАТАРСТАН, УЛИЦА АМИРХАНА, ...</td>\n",
       "    </tr>\n",
       "    <tr>\n",
       "      <th>102989</th>\n",
       "      <td>00</td>\n",
       "      <td>РЕСПУБЛИКА ТАТАРСТАН, УЛИЦА М.ДЖАЛИЛЯ, ДОМ 3</td>\n",
       "    </tr>\n",
       "    <tr>\n",
       "      <th>191591</th>\n",
       "      <td>00</td>\n",
       "      <td>420111, РЕСПУБЛИКА ТАТАРСТАН, УЛИЦА М.ДЖАЛИЛЯ,...</td>\n",
       "    </tr>\n",
       "    <tr>\n",
       "      <th>217069</th>\n",
       "      <td>00</td>\n",
       "      <td>420138, РЕСПУБЛИКА ТАТАРСТАН, УЛИЦА ПРОСПЕКТ П...</td>\n",
       "    </tr>\n",
       "    <tr>\n",
       "      <th>217070</th>\n",
       "      <td>00</td>\n",
       "      <td>420140, РЕСПУБЛИКА ТАТАРСТАН, УЛИЦА Ю.ФУЧИКА, ...</td>\n",
       "    </tr>\n",
       "    <tr>\n",
       "      <th>218430</th>\n",
       "      <td>00</td>\n",
       "      <td>420138, РЕСПУБЛИКА ТАТАРСТАН, УЛИЦА ПРОСПЕКТ П...</td>\n",
       "    </tr>\n",
       "    <tr>\n",
       "      <th>218468</th>\n",
       "      <td>00</td>\n",
       "      <td>420103, РЕСПУБЛИКА ТАТАРСТАН, УЛИЦА АМИРХАНА, ...</td>\n",
       "    </tr>\n",
       "    <tr>\n",
       "      <th>218475</th>\n",
       "      <td>00</td>\n",
       "      <td>420104, РЕСПУБЛИКА ТАТАРСТАН, УЛИЦА Р.ЗОРГЕ, Д...</td>\n",
       "    </tr>\n",
       "    <tr>\n",
       "      <th>218514</th>\n",
       "      <td>00</td>\n",
       "      <td>420087, РЕСПУБЛИКА ТАТАРСТАН, УЛИЦА Р.ЗОРГЕ, Д...</td>\n",
       "    </tr>\n",
       "    <tr>\n",
       "      <th>220009</th>\n",
       "      <td>00</td>\n",
       "      <td>420101, РЕСПУБЛИКА ТАТАРСТАН, УЛИЦА МАВЛЮТОВА,...</td>\n",
       "    </tr>\n",
       "    <tr>\n",
       "      <th>220059</th>\n",
       "      <td>00</td>\n",
       "      <td>420021, РЕСПУБЛИКА ТАТАРСТАН, УЛИЦА КАМАЛА ГАЛ...</td>\n",
       "    </tr>\n",
       "    <tr>\n",
       "      <th>220079</th>\n",
       "      <td>00</td>\n",
       "      <td>420133, РЕСПУБЛИКА ТАТАРСТАН, УЛИЦА ЛАВРЕНТЬЕВ...</td>\n",
       "    </tr>\n",
       "    <tr>\n",
       "      <th>305326</th>\n",
       "      <td>00</td>\n",
       "      <td>420015, РЕСПУБЛИКА ТАТАРСТАН, УЛИЦА К.МАРКСА, ...</td>\n",
       "    </tr>\n",
       "    <tr>\n",
       "      <th>348177</th>\n",
       "      <td>00</td>\n",
       "      <td>420045, РЕСПУБЛИКА ТАТАРСТАН, УЛИЦА Н.ЕРШОВА, ...</td>\n",
       "    </tr>\n",
       "    <tr>\n",
       "      <th>364286</th>\n",
       "      <td>00</td>\n",
       "      <td>420100, РЕСПУБЛИКА ТАТАРСТАН, УЛИЦА ПРОСПЕКТ П...</td>\n",
       "    </tr>\n",
       "    <tr>\n",
       "      <th>371864</th>\n",
       "      <td>00</td>\n",
       "      <td>420015, РЕСПУБЛИКА Татарстан, УЛИЦА К.МАРКСА, ...</td>\n",
       "    </tr>\n",
       "    <tr>\n",
       "      <th>429532</th>\n",
       "      <td>00</td>\n",
       "      <td>420140, РЕСПУБЛИКА ТАТАРСТАН, УЛИЦА ПРОСПЕКТ П...</td>\n",
       "    </tr>\n",
       "    <tr>\n",
       "      <th>506197</th>\n",
       "      <td>00</td>\n",
       "      <td>420044, РЕСПУБЛИКА ТАТАРСТАН, УЛИЦА ЯМАШЕВА, Д...</td>\n",
       "    </tr>\n",
       "    <tr>\n",
       "      <th>512455</th>\n",
       "      <td>00</td>\n",
       "      <td>420111, РЕСПУБЛИКА ТАТАРСТАН, УЛИЦА ПРАВОБУЛАЧ...</td>\n",
       "    </tr>\n",
       "    <tr>\n",
       "      <th>516285</th>\n",
       "      <td>00</td>\n",
       "      <td>420111, РЕСПУБЛИКА ТАТАРСТАН, УЛИЦА АМИРХАНА, ...</td>\n",
       "    </tr>\n",
       "    <tr>\n",
       "      <th>608821</th>\n",
       "      <td>00</td>\n",
       "      <td>РЕСПУБЛИКА ТАТАРСТАН, УЛИЦА Н.ЕРШОВА, ДОМ 28, ...</td>\n",
       "    </tr>\n",
       "    <tr>\n",
       "      <th>637762</th>\n",
       "      <td>00</td>\n",
       "      <td>РЕСПУБЛИКА ТАТАРСТАН, УЛИЦА ПРОСПЕКТ ПОБЕДЫ</td>\n",
       "    </tr>\n",
       "    <tr>\n",
       "      <th>639931</th>\n",
       "      <td>00</td>\n",
       "      <td>420021, РЕСПУБЛИКА ТАТАРСТАН, УЛИЦА К.ТИНЧУРИН...</td>\n",
       "    </tr>\n",
       "    <tr>\n",
       "      <th>642164</th>\n",
       "      <td>00</td>\n",
       "      <td>РЕСПУБЛИКА ТАТАРСТАН, УЛИЦА К.ТИНЧУРИНА, ДОМ 3</td>\n",
       "    </tr>\n",
       "    <tr>\n",
       "      <th>649479</th>\n",
       "      <td>00</td>\n",
       "      <td>420140, РЕСПУБЛИКА ТАТАРСТАН, УЛИЦА КАРАТАУ, Д...</td>\n",
       "    </tr>\n",
       "  </tbody>\n",
       "</table>\n",
       "</div>"
      ],
      "text/plain": [
       "       regionCode                                            address\n",
       "101323         00  420108, РЕСПУБЛИКА ТАТАРСТАН, УЛИЦА АМИРХАНА, ...\n",
       "102989         00       РЕСПУБЛИКА ТАТАРСТАН, УЛИЦА М.ДЖАЛИЛЯ, ДОМ 3\n",
       "191591         00  420111, РЕСПУБЛИКА ТАТАРСТАН, УЛИЦА М.ДЖАЛИЛЯ,...\n",
       "217069         00  420138, РЕСПУБЛИКА ТАТАРСТАН, УЛИЦА ПРОСПЕКТ П...\n",
       "217070         00  420140, РЕСПУБЛИКА ТАТАРСТАН, УЛИЦА Ю.ФУЧИКА, ...\n",
       "218430         00  420138, РЕСПУБЛИКА ТАТАРСТАН, УЛИЦА ПРОСПЕКТ П...\n",
       "218468         00  420103, РЕСПУБЛИКА ТАТАРСТАН, УЛИЦА АМИРХАНА, ...\n",
       "218475         00  420104, РЕСПУБЛИКА ТАТАРСТАН, УЛИЦА Р.ЗОРГЕ, Д...\n",
       "218514         00  420087, РЕСПУБЛИКА ТАТАРСТАН, УЛИЦА Р.ЗОРГЕ, Д...\n",
       "220009         00  420101, РЕСПУБЛИКА ТАТАРСТАН, УЛИЦА МАВЛЮТОВА,...\n",
       "220059         00  420021, РЕСПУБЛИКА ТАТАРСТАН, УЛИЦА КАМАЛА ГАЛ...\n",
       "220079         00  420133, РЕСПУБЛИКА ТАТАРСТАН, УЛИЦА ЛАВРЕНТЬЕВ...\n",
       "305326         00  420015, РЕСПУБЛИКА ТАТАРСТАН, УЛИЦА К.МАРКСА, ...\n",
       "348177         00  420045, РЕСПУБЛИКА ТАТАРСТАН, УЛИЦА Н.ЕРШОВА, ...\n",
       "364286         00  420100, РЕСПУБЛИКА ТАТАРСТАН, УЛИЦА ПРОСПЕКТ П...\n",
       "371864         00  420015, РЕСПУБЛИКА Татарстан, УЛИЦА К.МАРКСА, ...\n",
       "429532         00  420140, РЕСПУБЛИКА ТАТАРСТАН, УЛИЦА ПРОСПЕКТ П...\n",
       "506197         00  420044, РЕСПУБЛИКА ТАТАРСТАН, УЛИЦА ЯМАШЕВА, Д...\n",
       "512455         00  420111, РЕСПУБЛИКА ТАТАРСТАН, УЛИЦА ПРАВОБУЛАЧ...\n",
       "516285         00  420111, РЕСПУБЛИКА ТАТАРСТАН, УЛИЦА АМИРХАНА, ...\n",
       "608821         00  РЕСПУБЛИКА ТАТАРСТАН, УЛИЦА Н.ЕРШОВА, ДОМ 28, ...\n",
       "637762         00        РЕСПУБЛИКА ТАТАРСТАН, УЛИЦА ПРОСПЕКТ ПОБЕДЫ\n",
       "639931         00  420021, РЕСПУБЛИКА ТАТАРСТАН, УЛИЦА К.ТИНЧУРИН...\n",
       "642164         00     РЕСПУБЛИКА ТАТАРСТАН, УЛИЦА К.ТИНЧУРИНА, ДОМ 3\n",
       "649479         00  420140, РЕСПУБЛИКА ТАТАРСТАН, УЛИЦА КАРАТАУ, Д..."
      ]
     },
     "execution_count": 9,
     "metadata": {},
     "output_type": "execute_result"
    }
   ],
   "source": [
    "df_full[df_full['regionCode'] == '00'][['regionCode','address']]"
   ]
  },
  {
   "cell_type": "markdown",
   "metadata": {},
   "source": [
    "Нулевые значения в коде региона относятся к Республике Татарстан - код 16.  \n",
    "Заменим пропущенные значения в коде региона на соответствующий код.  \n",
    "Тип данных кода региона regionCode сделаем int."
   ]
  },
  {
   "cell_type": "code",
   "execution_count": 10,
   "metadata": {},
   "outputs": [
    {
     "name": "stdout",
     "output_type": "stream",
     "text": [
      "Количество строк с нулевым кодом региона: 0\n",
      "Количество уникальных кодов региона: 92\n"
     ]
    }
   ],
   "source": [
    "# Колиство строк, в котором код - нулевой, - 25. Во всех строках представлен регион - \"РЕСПУБЛИКА ТАТАРСТАН\".\n",
    "# Заменим нулевой код региона на значение 16 - \"РЕСПУБЛИКА ТАТАРСТАН\".\n",
    "# Тип данных кода региона regionCode сделаем int.\n",
    "\n",
    "df_full['regionCode'] = df_full['regionCode'].apply(lambda x: int(x))\n",
    "df_full['regionCode'] = df_full['regionCode'].apply(lambda x: 16 if x == 0 else x)\n",
    "regionCode_0 = df_full[df_full['regionCode'] == 0]['regionCode'].count()\n",
    "regionCode_nunique = df_full['regionCode'].nunique()\n",
    "print(f'Количество строк с нулевым кодом региона: {regionCode_0}')\n",
    "print(f'Количество уникальных кодов региона: {regionCode_nunique}')"
   ]
  },
  {
   "cell_type": "markdown",
   "metadata": {},
   "source": [
    "Количество уникальных кодов региона: 92.\n",
    "Чтобы увеличить зависимость вероятности получения грантов от регионов, объединим регионы в округа,   \n",
    "которых 8 плюс 1 - города федерального и республиканского значения.  \n",
    "  \n",
    "В итоге вместо 92 кодов останутся 9."
   ]
  },
  {
   "cell_type": "code",
   "execution_count": 11,
   "metadata": {},
   "outputs": [
    {
     "name": "stdout",
     "output_type": "stream",
     "text": [
      "Количество уникальных кодов региона: 9\n"
     ]
    }
   ],
   "source": [
    "#Регионы центрального федерального округа\n",
    "region_cfo = [31,32,33,36,37,40,44,46,48,50,57,62,67,68,69,71,76]\n",
    "#Регионы Северо-Западного федерального округа\n",
    "region_szfo = [10,11,29,35,39,47,51,53,60,83]\n",
    "#Регионы южного федерального округа\n",
    "region_ufo = [1,8,23,30,34,61,91,92]\n",
    "#Регионы Северо-Кавказского федерального округа\n",
    "region_skfo = [5,6,7,9,15,20,26]\n",
    "#Регионы Приволжского федерального округа\n",
    "region_pfo = [2,12,13,16,18,21,43,52,56,58,59,63,64,73,81]\n",
    "#Регионы Уральского федерального округа\n",
    "region_urfo = [45,66,72,74,86,89]\n",
    "#Регионы Сибирского федерального округа\n",
    "region_sfo = [4,17,19,22,24,38,42,54,55,70,75,80,84,85,88]\n",
    "#Регионы Дальневосточного федерального округа\n",
    "region_dfo = [3,14,25,27,28,41,49,65,75,79,82,87]\n",
    "#Города федерального и республиканского значения\n",
    "region_resp = [77,78,99]\n",
    "\n",
    "def region_def(region_cod):\n",
    "    if region_cod in region_cfo:\n",
    "        return 1\n",
    "    elif region_cod in region_szfo:\n",
    "        return 2\n",
    "    elif region_cod in region_ufo:\n",
    "        return 3\n",
    "    elif region_cod in region_skfo:\n",
    "        return 4\n",
    "    elif region_cod in region_pfo:\n",
    "        return 5\n",
    "    elif region_cod in region_urfo:\n",
    "        return 6\n",
    "    elif region_cod in region_sfo:\n",
    "        return 7\n",
    "    elif region_cod in region_dfo:\n",
    "        return 8\n",
    "    elif region_cod in region_resp:\n",
    "        return 9\n",
    "    else:\n",
    "        return 10\n",
    "\n",
    "df_full['regionCode'] = df_full['regionCode'].apply(lambda x: region_def(x))\n",
    "\n",
    "regionCode_nunique = df_full['regionCode'].nunique()\n",
    "print(f'Количество уникальных кодов региона: {regionCode_nunique}')"
   ]
  },
  {
   "cell_type": "markdown",
   "metadata": {},
   "source": [
    "Проанализируем, в каких ТОП5 регионах наибольший процент отношения организаций с доходом к общему количеству организаций региона."
   ]
  },
  {
   "cell_type": "code",
   "execution_count": 13,
   "metadata": {},
   "outputs": [
    {
     "name": "stdout",
     "output_type": "stream",
     "text": [
      "   regionCode  percentage\n",
      "8           9    7.050936\n",
      "6           7    4.671946\n",
      "5           6    4.622275\n",
      "1           2    4.375502\n",
      "4           5    4.339146\n",
      "7           8    4.258164\n",
      "3           4    4.173101\n",
      "2           3    3.934026\n",
      "0           1    3.545354\n"
     ]
    }
   ],
   "source": [
    "df_grouped = df_full.groupby('regionCode')['incomeTotal'].apply(lambda x: (x == 1).mean() * 100).reset_index(name='percentage')\n",
    "df_sorted = df_grouped.sort_values(by='percentage', ascending=False)\n",
    "print(df_sorted)"
   ]
  },
  {
   "cell_type": "markdown",
   "metadata": {},
   "source": [
    "В итоге, больший процент у городов федерального значения, у остальных округов процент проктически идентичен."
   ]
  },
  {
   "cell_type": "code",
   "execution_count": 14,
   "metadata": {},
   "outputs": [],
   "source": [
    "# удалим ненужные признаки\n",
    "df_full = df_full.drop(['address'], axis=1)"
   ]
  },
  {
   "cell_type": "markdown",
   "metadata": {},
   "source": [
    "### 3.2. Обработка признака mainOkved - ОКВЭД"
   ]
  },
  {
   "cell_type": "markdown",
   "metadata": {},
   "source": [
    "Формат признака mainOkved представляет собой словарь, у каждого из которых есть ключи code (ОКВЭД) и name (наименование ОКВЭД).\n",
    "Выделим из признака только код."
   ]
  },
  {
   "cell_type": "code",
   "execution_count": 15,
   "metadata": {},
   "outputs": [
    {
     "data": {
      "text/plain": [
       "0       74.1\n",
       "1    75.25.1\n",
       "2       None\n",
       "Name: mainOkved, dtype: object"
      ]
     },
     "execution_count": 15,
     "metadata": {},
     "output_type": "execute_result"
    }
   ],
   "source": [
    "#Обработка признака mainOkved\n",
    "\n",
    "#Функция для извлечения значений 'code' из словаря признака\n",
    "def code_dict(df_dict):\n",
    "    #аргумент df_dict: значение признака, представляет собой словарь; \n",
    "    #                             у каждого словаря есть ключи: code, name, version.    \n",
    "    #return: код признака\n",
    "    df_dict = str(df_dict)\n",
    "    df_dict = df_dict.replace(\"'\", '') #Удаление апострофов из значений в столбце\n",
    "    df_dict = df_dict[7:] #Удаление первых символов\n",
    "    df_dict = df_dict.split(',')[0] #Удаление всех символов после запятой включительно\n",
    "    return df_dict\n",
    "\n",
    "#Обработка mainOkved (сведения об основном ОКВЭД): выводим только код\n",
    "df_full['mainOkved'] = df_full['mainOkved'].apply(lambda x: code_dict(x))\n",
    "\n",
    "df_full['mainOkved'].head(3)\n"
   ]
  },
  {
   "cell_type": "markdown",
   "metadata": {},
   "source": [
    "Для повышения вероятности определения кода основного ОКВЭД  \n",
    "будем работать только с первой группой кода, т.е. до точки: например, 74.1.1 меняем на 74"
   ]
  },
  {
   "cell_type": "code",
   "execution_count": 16,
   "metadata": {},
   "outputs": [
    {
     "data": {
      "text/plain": [
       "0      74\n",
       "1      75\n",
       "2    None\n",
       "Name: mainOkved, dtype: object"
      ]
     },
     "execution_count": 16,
     "metadata": {},
     "output_type": "execute_result"
    }
   ],
   "source": [
    "df_full['mainOkved'] = df_full['mainOkved'].apply(lambda x: x.split('.')[0])\n",
    "df_full['mainOkved'].head(3)"
   ]
  },
  {
   "cell_type": "markdown",
   "metadata": {},
   "source": [
    "При анализе выявлено, что для ряда организаций ОКВЭД - None."
   ]
  },
  {
   "cell_type": "code",
   "execution_count": 17,
   "metadata": {},
   "outputs": [
    {
     "name": "stdout",
     "output_type": "stream",
     "text": [
      "Количество строк с отсутствующим ОКВЭД: 203032\n"
     ]
    }
   ],
   "source": [
    "# данные только с пропущенными значениями основнокго ОКВЭД\n",
    "df_none_mainOkved = df_full[df_full['mainOkved'] == 'None']['mainOkved'].count()\n",
    "print(f'Количество строк с отсутствующим ОКВЭД: {df_none_mainOkved}')"
   ]
  },
  {
   "cell_type": "markdown",
   "metadata": {},
   "source": [
    "Количество строк с отсуствующим ОКВЭД - 27%.  \n",
    "Вариант удаления данных строк - не допустимо, потеряется большое количество полезных данных.  \n",
    "Можно собрать по API данные с имеющихся сайтов/платформ, но платно; вариант для димлома не подойдет."
   ]
  },
  {
   "cell_type": "markdown",
   "metadata": {},
   "source": [
    "Для опредения отсутствующих ОКВЭД выдвенем гипотизу.  \n",
    "  \n",
    "Предположим, что основной ОКВЭД связан с:\n",
    "* кодом ОПФ и\n",
    "* названием организации.   \n",
    "\n",
    "Проверить связи ОКВЭД с кодом ОПФ можно протестировав по критерию \"КРИТЕРИЙ ХИ-КВАДРАТ\".  \n",
    "\n",
    "Для работы с названиями организаций можно использовать метод векторизации текста TfidfVectorizer,  \n",
    "основанный на теории TF-IDF (Term Frequency-Inverse Document Frequency).         \n",
    "Можно написать функцию, на выходе которого по данным матрицы TF-IDF,  \n",
    "а также вычислениям косинусного сходства между поисковым запросом и всеми названиями организации, вкючая код ОПФ,  \n",
    "будет код ОКВЭД.  \n",
    "Для проверки функции можно выделить 10 случайных подмножеств и проверим её качество.   \n",
    "\n",
    "Задача трудозатратная для лабораторного ноутбука, поэтому эта задач была выполнена в отдельном файле search_mainOkved.ipynb.   \n",
    "\n",
    "Последовательность действий:\n",
    "- сформировать файл search_mainOkved.csv - исходные данные для файла search_mainOkved.ipynb;\n",
    "- в фале search_mainOkved.ipynb проверить связь ОКВЭД с кодом ОПФ;\n",
    "- в фале search_mainOkved.ipynb проверить связь ОКВЭД с названием органиазции;\n",
    "- в фале search_mainOkved.ipynb при положительном варианте проверки сформировать ОКВЭД для соотвесттвующих организаций;\n",
    "- в фале search_mainOkved.ipynb сформировать файл full_init_data.csv - файл с данными по ОКВЭД;\n",
    "- загрузить в текущий файл данные из файла full_init_data.csv;\n",
    "- подгрузить в базу df_full отсутствующие данные по ОКВЭД.\n",
    "  \n",
    "Проверка по критерию \"КРИТЕРИЙ ХИ-КВАДРАТ\" показал, что \"Между признаками \"mainOkved\" и \"opf\" существует статистически значимая связь\".   \n",
    "Проверка связи ОКВЭД c названиями организации показал среднюю вероятность предсказаний - 64%.  \n",
    "Величина небольшая, но для диплома гипотизу возьмем за основу.  \n",
    "Для увеличения вероятнсти предсказания в основном файле проекта \"diplom_glazyrin.ipynb\" коды ОКВЭД объединим в группы по классификации ОКВЭД 2023 года."
   ]
  },
  {
   "cell_type": "code",
   "execution_count": 27,
   "metadata": {},
   "outputs": [],
   "source": [
    "# в качестве исходных данных для формирования ОКВЭД выделим следующие признаки: 'ogrn','fullName','mainOkved','opf'\n",
    "# cохранение DataFrame в файл CSV\n",
    "df_full[['ogrn','fullName','mainOkved','opf']].to_csv('data/search_mainOkved.csv', index=False)"
   ]
  },
  {
   "cell_type": "code",
   "execution_count": 18,
   "metadata": {},
   "outputs": [
    {
     "name": "stdout",
     "output_type": "stream",
     "text": [
      "<class 'pandas.core.frame.DataFrame'>\n",
      "RangeIndex: 203032 entries, 0 to 203031\n",
      "Data columns (total 2 columns):\n",
      " #   Column             Non-Null Count   Dtype\n",
      "---  ------             --------------   -----\n",
      " 0   ogrn               203032 non-null  int64\n",
      " 1   predict_mainOkved  203032 non-null  int64\n",
      "dtypes: int64(2)\n",
      "memory usage: 3.1 MB\n"
     ]
    }
   ],
   "source": [
    "# загрузим данные из файла full_init_data.csv\n",
    "df_mainOkved_none = pd.read_csv(\"data/full_init_data.csv\")\n",
    "df_mainOkved_none.info()"
   ]
  },
  {
   "cell_type": "markdown",
   "metadata": {},
   "source": [
    "Из файла full_init_data.csv были получены следующие данные:\n",
    "- ogrn - ОГРН органиазции;\n",
    "- predict_mainOkved - прогнозные значения ОКВЭД"
   ]
  },
  {
   "cell_type": "code",
   "execution_count": 19,
   "metadata": {},
   "outputs": [],
   "source": [
    "#Подготовим признак mainOkved базы df_full: обнулим пропущенные значения и поменяем тип данных на Int\n",
    "df_full['mainOkved'] = df_full['mainOkved'].apply(lambda x: '0' if x == 'None' else x)\n",
    "df_full['mainOkved'] = df_full['mainOkved'].apply(lambda x: int(x))"
   ]
  },
  {
   "cell_type": "code",
   "execution_count": 20,
   "metadata": {},
   "outputs": [
    {
     "data": {
      "text/plain": [
       "0    74\n",
       "1    75\n",
       "2    74\n",
       "3    91\n",
       "4    70\n",
       "Name: mainOkved, dtype: int64"
      ]
     },
     "execution_count": 20,
     "metadata": {},
     "output_type": "execute_result"
    }
   ],
   "source": [
    "#Заменим нулевые ОКВЭД на прогнозные значения для соответствующих организаций.\n",
    "\n",
    "def mainOkved_none_def(ogrn_arg):\n",
    "    #аргумент ogrn_arg: ОГРН организации    \n",
    "    #return: ОКВЭД\n",
    "    mainOkved_new = df_mainOkved_none[df_mainOkved_none['ogrn'] == int(ogrn_arg)]['predict_mainOkved'].values[0]\n",
    "    return mainOkved_new\n",
    "\n",
    "df_full['mainOkved'] = df_full.apply(lambda x: x['mainOkved'] if x['mainOkved'] > 0 else mainOkved_none_def(x['ogrn']), axis=1)\n",
    "\n",
    "df_full['mainOkved'].head(5)"
   ]
  },
  {
   "cell_type": "markdown",
   "metadata": {},
   "source": [
    "Для увеличения вероятнсти предсказания коды ОКВЭД объединим в группы по классификации ОКВЭД 2023 года."
   ]
  },
  {
   "cell_type": "code",
   "execution_count": 21,
   "metadata": {},
   "outputs": [
    {
     "data": {
      "text/plain": [
       "0    113\n",
       "1    113\n",
       "2    113\n",
       "Name: mainOkved, dtype: int64"
      ]
     },
     "execution_count": 21,
     "metadata": {},
     "output_type": "execute_result"
    }
   ],
   "source": [
    "#Обработка mainOkved\n",
    "\n",
    "#Словарь ОКВЭД\n",
    "mainOkved_dict = dict()\n",
    "mainOkved_dict = {101: ['01','02','03'], \n",
    "                  102: ['05','06','07','08','09'], \n",
    "                  103: ['10','11','12','13','14','15','16','17','18','19','20','21','22','23','24','25','26','27','28','29','30','31','32','33'],\n",
    "                  104: ['35'],                  \n",
    "                  105: ['36','37','38','39'],\n",
    "                  106: ['41','42','43'],\n",
    "                  107: ['45','46','47'],\n",
    "                  108: ['49','50','51','52','53'],\n",
    "                  109: ['55','56'],\n",
    "                  110: ['58','59','60','61','62','63'],\n",
    "                  111: ['64','65','66'],\n",
    "                  112: ['68'],\n",
    "                  113: ['69','70','71','72','73','74','75'],\n",
    "                  114: ['77','78','79','80','81','82'],\n",
    "                  115: ['84'],\n",
    "                  116: ['85'],\n",
    "                  117: ['86','87','88'],\n",
    "                  118: ['90','91','92','93'],\n",
    "                  119: ['94','95','96'],\n",
    "                  120: ['97','98'],\n",
    "                  121: ['99']}\n",
    "\n",
    "def mainOkved_def(mainOkved_cod):\n",
    "    #аргумент mainOkved_cod: ОКВЭД организации    \n",
    "    #return: код группы по классификации\n",
    "    for key, values in mainOkved_dict.items():\n",
    "        if mainOkved_cod in values:\n",
    "            return key\n",
    "    key_none = '10' + mainOkved_cod # Код для случая, если ОКВЭД отсутствует в словаре mainOkved_dict\n",
    "    return key_none\n",
    "\n",
    "#Оставляем только первый символ до точки\n",
    "df_full['mainOkved'] = df_full['mainOkved'].apply(lambda x: str(x))\n",
    "df_full['mainOkved'] = df_full['mainOkved'].apply(lambda x: mainOkved_def(x))\n",
    "df_full['mainOkved'] = df_full['mainOkved'].apply(lambda x: int(x))\n",
    "\n",
    "df_full['mainOkved'].head(3)"
   ]
  },
  {
   "cell_type": "markdown",
   "metadata": {},
   "source": [
    "Количество ОКВЭД заменили на группы: с 99 до 21.\n",
    "Проанализируем, в каких ТОП5 ОКВЭД наибольший процент отношения организаций с доходом к общему количеству организаций с данным ОКВЭД."
   ]
  },
  {
   "cell_type": "code",
   "execution_count": 22,
   "metadata": {},
   "outputs": [
    {
     "name": "stdout",
     "output_type": "stream",
     "text": [
      "ТОП5 групп ОКВЭД\n"
     ]
    },
    {
     "data": {
      "text/html": [
       "<div>\n",
       "<style scoped>\n",
       "    .dataframe tbody tr th:only-of-type {\n",
       "        vertical-align: middle;\n",
       "    }\n",
       "\n",
       "    .dataframe tbody tr th {\n",
       "        vertical-align: top;\n",
       "    }\n",
       "\n",
       "    .dataframe thead th {\n",
       "        text-align: right;\n",
       "    }\n",
       "</style>\n",
       "<table border=\"1\" class=\"dataframe\">\n",
       "  <thead>\n",
       "    <tr style=\"text-align: right;\">\n",
       "      <th></th>\n",
       "      <th>mainOkved</th>\n",
       "      <th>percentage</th>\n",
       "    </tr>\n",
       "  </thead>\n",
       "  <tbody>\n",
       "    <tr>\n",
       "      <th>8</th>\n",
       "      <td>109</td>\n",
       "      <td>25.729927</td>\n",
       "    </tr>\n",
       "    <tr>\n",
       "      <th>15</th>\n",
       "      <td>116</td>\n",
       "      <td>18.127544</td>\n",
       "    </tr>\n",
       "    <tr>\n",
       "      <th>16</th>\n",
       "      <td>117</td>\n",
       "      <td>13.424995</td>\n",
       "    </tr>\n",
       "    <tr>\n",
       "      <th>4</th>\n",
       "      <td>105</td>\n",
       "      <td>11.867583</td>\n",
       "    </tr>\n",
       "    <tr>\n",
       "      <th>6</th>\n",
       "      <td>107</td>\n",
       "      <td>10.099464</td>\n",
       "    </tr>\n",
       "  </tbody>\n",
       "</table>\n",
       "</div>"
      ],
      "text/plain": [
       "    mainOkved  percentage\n",
       "8         109   25.729927\n",
       "15        116   18.127544\n",
       "16        117   13.424995\n",
       "4         105   11.867583\n",
       "6         107   10.099464"
      ]
     },
     "execution_count": 22,
     "metadata": {},
     "output_type": "execute_result"
    }
   ],
   "source": [
    "df_grouped = df_full.groupby('mainOkved')['incomeTotal'].apply(lambda x: (x == 1).mean() * 100).reset_index(name='percentage')\n",
    "df_sorted = df_grouped.sort_values(by='percentage', ascending=False)\n",
    "print('ТОП5 групп ОКВЭД')\n",
    "df_sorted.head(5)\n"
   ]
  },
  {
   "cell_type": "code",
   "execution_count": 23,
   "metadata": {},
   "outputs": [],
   "source": [
    "# удалим не нужные признаки\n",
    "df_full = df_full.drop(['ogrn', 'fullName', 'fullName', 'opf'], axis=1)"
   ]
  },
  {
   "cell_type": "markdown",
   "metadata": {},
   "source": [
    "### 3.3. Обработка признаков с датами"
   ]
  },
  {
   "cell_type": "markdown",
   "metadata": {},
   "source": [
    "Признаки, связанные с датами\n",
    "1. originDate: дата регистрации организаций\n",
    "2. dateLiquid: дата ликвидации юрлица\n",
    "\n",
    "Создадим наиболее важный признак - возраст организации."
   ]
  },
  {
   "cell_type": "code",
   "execution_count": 24,
   "metadata": {},
   "outputs": [
    {
     "data": {
      "text/html": [
       "<div>\n",
       "<style scoped>\n",
       "    .dataframe tbody tr th:only-of-type {\n",
       "        vertical-align: middle;\n",
       "    }\n",
       "\n",
       "    .dataframe tbody tr th {\n",
       "        vertical-align: top;\n",
       "    }\n",
       "\n",
       "    .dataframe thead th {\n",
       "        text-align: right;\n",
       "    }\n",
       "</style>\n",
       "<table border=\"1\" class=\"dataframe\">\n",
       "  <thead>\n",
       "    <tr style=\"text-align: right;\">\n",
       "      <th></th>\n",
       "      <th>originDate</th>\n",
       "      <th>dateLiquid</th>\n",
       "      <th>diffYear</th>\n",
       "    </tr>\n",
       "  </thead>\n",
       "  <tbody>\n",
       "    <tr>\n",
       "      <th>count</th>\n",
       "      <td>752072.000000</td>\n",
       "      <td>752072.000000</td>\n",
       "      <td>752072.000000</td>\n",
       "    </tr>\n",
       "    <tr>\n",
       "      <th>mean</th>\n",
       "      <td>2004.349588</td>\n",
       "      <td>1087.709941</td>\n",
       "      <td>13.022774</td>\n",
       "    </tr>\n",
       "    <tr>\n",
       "      <th>std</th>\n",
       "      <td>9.207059</td>\n",
       "      <td>1003.001238</td>\n",
       "      <td>9.176799</td>\n",
       "    </tr>\n",
       "    <tr>\n",
       "      <th>min</th>\n",
       "      <td>1881.000000</td>\n",
       "      <td>0.000000</td>\n",
       "      <td>-2.000000</td>\n",
       "    </tr>\n",
       "    <tr>\n",
       "      <th>25%</th>\n",
       "      <td>1999.000000</td>\n",
       "      <td>0.000000</td>\n",
       "      <td>6.000000</td>\n",
       "    </tr>\n",
       "    <tr>\n",
       "      <th>50%</th>\n",
       "      <td>2004.000000</td>\n",
       "      <td>2006.000000</td>\n",
       "      <td>11.000000</td>\n",
       "    </tr>\n",
       "    <tr>\n",
       "      <th>75%</th>\n",
       "      <td>2011.000000</td>\n",
       "      <td>2013.000000</td>\n",
       "      <td>18.000000</td>\n",
       "    </tr>\n",
       "    <tr>\n",
       "      <th>max</th>\n",
       "      <td>2021.000000</td>\n",
       "      <td>2021.000000</td>\n",
       "      <td>138.000000</td>\n",
       "    </tr>\n",
       "  </tbody>\n",
       "</table>\n",
       "</div>"
      ],
      "text/plain": [
       "          originDate     dateLiquid       diffYear\n",
       "count  752072.000000  752072.000000  752072.000000\n",
       "mean     2004.349588    1087.709941      13.022774\n",
       "std         9.207059    1003.001238       9.176799\n",
       "min      1881.000000       0.000000      -2.000000\n",
       "25%      1999.000000       0.000000       6.000000\n",
       "50%      2004.000000    2006.000000      11.000000\n",
       "75%      2011.000000    2013.000000      18.000000\n",
       "max      2021.000000    2021.000000     138.000000"
      ]
     },
     "execution_count": 24,
     "metadata": {},
     "output_type": "execute_result"
    }
   ],
   "source": [
    "# обработка дат\n",
    "\n",
    "# признак dateLiquid имеет пропущенные значения для действующих организаций\n",
    "# для действующих организаций значение признака dateLiquid поставим в '0'\n",
    "df_full['dateLiquid'] = df_full['dateLiquid'].fillna('0')\n",
    "\n",
    "# функция для извлечения года из признака\n",
    "def date_dict(df_date):\n",
    "    #аргумент: значение признака, которое представляет собой дату следующего вида - {'$date': '2012-12-17T00:00:00.000Z'}\n",
    "    #return: год (тип float)    \n",
    "    if df_date != '0':\n",
    "        df_date = df_date.replace(\"'\", '') #Удаление апострофов из значений в столбце\n",
    "        df_date = df_date[7:] #Удаление первых символов\n",
    "        df_date = df_date.split('-')[0] #Удаление всех символов после запятой включительно\n",
    "        return int(df_date)\n",
    "    else:\n",
    "        return int(df_date)\n",
    "\n",
    "# признаки originDate и dateLiquid представим в виде года\n",
    "df_full['originDate'] = df_full['originDate'].apply(lambda x: date_dict(str(x)))\n",
    "df_full['dateLiquid'] = df_full['dateLiquid'].apply(lambda x: date_dict(str(x)))\n",
    "\n",
    "# функция для расчета нового значения diffYear\n",
    "def calculate_new_value(row):\n",
    "    #аргумент: строка DataFrmae df_full - данные от органиазции\n",
    "    #return: год (тип float) \n",
    "    if row['dateLiquid'] != 0: # для действующей организации\n",
    "        return row['dateLiquid'] - row['originDate']\n",
    "    else:\n",
    "        current_date = datetime.now().year\n",
    "        return int(str(current_date)) - row['originDate']\n",
    "\n",
    "# применяем функцию к каждой строке DataFrame и создаем новый столбец\n",
    "df_full['diffYear'] = df_full.apply(lambda row: calculate_new_value(row), axis=1)\n",
    "\n",
    "# проанализируем даты базы данных\n",
    "df_full[['originDate','dateLiquid','diffYear']].describe()"
   ]
  },
  {
   "cell_type": "markdown",
   "metadata": {},
   "source": [
    "Видно, что имеются неадекватные данные: возраст органиазции меньше нуля.  \n",
    "Удалим строки, у которых возраст организации меньше нуля."
   ]
  },
  {
   "cell_type": "code",
   "execution_count": 25,
   "metadata": {},
   "outputs": [
    {
     "data": {
      "text/html": [
       "<div>\n",
       "<style scoped>\n",
       "    .dataframe tbody tr th:only-of-type {\n",
       "        vertical-align: middle;\n",
       "    }\n",
       "\n",
       "    .dataframe tbody tr th {\n",
       "        vertical-align: top;\n",
       "    }\n",
       "\n",
       "    .dataframe thead th {\n",
       "        text-align: right;\n",
       "    }\n",
       "</style>\n",
       "<table border=\"1\" class=\"dataframe\">\n",
       "  <thead>\n",
       "    <tr style=\"text-align: right;\">\n",
       "      <th></th>\n",
       "      <th>originDate</th>\n",
       "      <th>dateLiquid</th>\n",
       "      <th>diffYear</th>\n",
       "    </tr>\n",
       "  </thead>\n",
       "  <tbody>\n",
       "    <tr>\n",
       "      <th>count</th>\n",
       "      <td>752068.000000</td>\n",
       "      <td>752068.000000</td>\n",
       "      <td>752068.000000</td>\n",
       "    </tr>\n",
       "    <tr>\n",
       "      <th>mean</th>\n",
       "      <td>2004.349571</td>\n",
       "      <td>1087.705059</td>\n",
       "      <td>13.022853</td>\n",
       "    </tr>\n",
       "    <tr>\n",
       "      <th>std</th>\n",
       "      <td>9.207080</td>\n",
       "      <td>1003.001671</td>\n",
       "      <td>9.176760</td>\n",
       "    </tr>\n",
       "    <tr>\n",
       "      <th>min</th>\n",
       "      <td>1881.000000</td>\n",
       "      <td>0.000000</td>\n",
       "      <td>0.000000</td>\n",
       "    </tr>\n",
       "    <tr>\n",
       "      <th>25%</th>\n",
       "      <td>1999.000000</td>\n",
       "      <td>0.000000</td>\n",
       "      <td>6.000000</td>\n",
       "    </tr>\n",
       "    <tr>\n",
       "      <th>50%</th>\n",
       "      <td>2004.000000</td>\n",
       "      <td>2006.000000</td>\n",
       "      <td>11.000000</td>\n",
       "    </tr>\n",
       "    <tr>\n",
       "      <th>75%</th>\n",
       "      <td>2011.000000</td>\n",
       "      <td>2013.000000</td>\n",
       "      <td>18.000000</td>\n",
       "    </tr>\n",
       "    <tr>\n",
       "      <th>max</th>\n",
       "      <td>2021.000000</td>\n",
       "      <td>2021.000000</td>\n",
       "      <td>138.000000</td>\n",
       "    </tr>\n",
       "  </tbody>\n",
       "</table>\n",
       "</div>"
      ],
      "text/plain": [
       "          originDate     dateLiquid       diffYear\n",
       "count  752068.000000  752068.000000  752068.000000\n",
       "mean     2004.349571    1087.705059      13.022853\n",
       "std         9.207080    1003.001671       9.176760\n",
       "min      1881.000000       0.000000       0.000000\n",
       "25%      1999.000000       0.000000       6.000000\n",
       "50%      2004.000000    2006.000000      11.000000\n",
       "75%      2011.000000    2013.000000      18.000000\n",
       "max      2021.000000    2021.000000     138.000000"
      ]
     },
     "execution_count": 25,
     "metadata": {},
     "output_type": "execute_result"
    }
   ],
   "source": [
    "# удалим строки, у которых возраст организации меньше нуля\n",
    "df_full = df_full[(df_full['diffYear'] >= 0)]\n",
    "df_full[['originDate','dateLiquid','diffYear']].describe()"
   ]
  },
  {
   "cell_type": "code",
   "execution_count": 26,
   "metadata": {},
   "outputs": [
    {
     "data": {
      "text/plain": [
       "Text(0, 0.5, '')"
      ]
     },
     "execution_count": 26,
     "metadata": {},
     "output_type": "execute_result"
    },
    {
     "data": {
      "text/plain": [
       "<Figure size 1500x600 with 0 Axes>"
      ]
     },
     "metadata": {},
     "output_type": "display_data"
    },
    {
     "data": {
      "image/png": "[encoded data removed]",
      "text/plain": [
       "<Figure size 1500x2000 with 3 Axes>"
      ]
     },
     "metadata": {},
     "output_type": "display_data"
    }
   ],
   "source": [
    "#Визиализируем данные\n",
    "\n",
    "# Установить размер графика\n",
    "plt.figure(figsize=(15, 6))\n",
    "\n",
    "fig, axes = plt.subplots(nrows=3, ncols=1, figsize=(15, 20))\n",
    "sns.histplot(\n",
    "    data=df_full,\n",
    "    x='diffYear',\n",
    "    bins=50,   \n",
    "    ax=axes[0]\n",
    ");\n",
    "axes[0].set_title('Гистограмма возраста')\n",
    "axes[0].set_xlabel('Возраст')\n",
    "axes[0].set_ylabel('')\n",
    "\n",
    "sns.boxplot(\n",
    "    data=df_full,\n",
    "    x='diffYear',\n",
    "    ax=axes[1]\n",
    ");\n",
    "axes[1].set_title('Распределение данных по возрасту')\n",
    "axes[1].set_xlabel('Возраст')\n",
    "\n",
    "sns.histplot(\n",
    "    data=df_full,\n",
    "    x='originDate',\n",
    "    bins=60,   \n",
    "    ax=axes[2]\n",
    ");\n",
    "axes[2].set_title('Гистограмма дат регистрации организаций')\n",
    "axes[2].set_xlabel('Возраст')\n",
    "axes[2].set_ylabel('')"
   ]
  },
  {
   "cell_type": "markdown",
   "metadata": {},
   "source": [
    "По визуализации видно:\n",
    "1. распределение возраста не является нормальным;\n",
    "2. верхний квартиль - 38 лет, далее - большое количество выбросов;\n",
    "3. регистрация организаций начинается с конца 19 века.\n",
    "  \n",
    "Заметим, что целевой признак класса 1 начинается с 1964 года.  \n",
    "С точки зрения получения грантов интерес будут представлять органиазции, регистрированные к концу 80-х годов 20 века."
   ]
  },
  {
   "cell_type": "code",
   "execution_count": 26,
   "metadata": {},
   "outputs": [
    {
     "data": {
      "text/plain": [
       "(733471, 9)"
      ]
     },
     "execution_count": 26,
     "metadata": {},
     "output_type": "execute_result"
    }
   ],
   "source": [
    "# удалим строки, регистрация органиазций которых старше 1987 года; \n",
    "# даленные данные - меньше 2,5%,\n",
    "# в том числе потеря строк с органиазциями, имеющими доход, - менее 1%.\n",
    "df_full = df_full[df_full['originDate'] > 1987]\n",
    "df_full.shape"
   ]
  },
  {
   "cell_type": "code",
   "execution_count": 30,
   "metadata": {},
   "outputs": [
    {
     "data": {
      "text/plain": [
       "Text(0, 0.5, '')"
      ]
     },
     "execution_count": 30,
     "metadata": {},
     "output_type": "execute_result"
    },
    {
     "data": {
      "image/png": "[encoded data removed]",
      "text/plain": [
       "<Figure size 1500x2000 with 3 Axes>"
      ]
     },
     "metadata": {},
     "output_type": "display_data"
    }
   ],
   "source": [
    "#Визиализируем данные\n",
    "\n",
    "# Установить размер графика\n",
    "fig, axes = plt.subplots(nrows=3, ncols=1, figsize=(15, 20))\n",
    "sns.histplot(\n",
    "    data=df_full,\n",
    "    x='diffYear',\n",
    "    bins=50,   \n",
    "    ax=axes[0]\n",
    ");\n",
    "axes[0].set_title('Гистограмма возраста')\n",
    "axes[0].set_xlabel('Возраст')\n",
    "axes[0].set_ylabel('')\n",
    "\n",
    "sns.boxplot(\n",
    "    data=df_full,\n",
    "    x='diffYear',\n",
    "    ax=axes[1]\n",
    ");\n",
    "axes[1].set_title('Распределение данных по возрасту')\n",
    "axes[1].set_xlabel('Возраст')\n",
    "\n",
    "sns.histplot(\n",
    "    data=df_full,\n",
    "    x='originDate',\n",
    "    bins=60,   \n",
    "    ax=axes[2]\n",
    ");\n",
    "axes[2].set_title('Гистограмма дат регистрации организаций')\n",
    "axes[2].set_xlabel('Возраст')\n",
    "axes[2].set_ylabel('')"
   ]
  },
  {
   "cell_type": "code",
   "execution_count": 27,
   "metadata": {},
   "outputs": [],
   "source": [
    "# удалим ненужные признаки\n",
    "df_full = df_full.drop(['originDate','dateLiquid'], axis=1)"
   ]
  },
  {
   "cell_type": "markdown",
   "metadata": {},
   "source": [
    "### 3.4. Обработка бинарных признаков"
   ]
  },
  {
   "cell_type": "markdown",
   "metadata": {},
   "source": [
    "Перевод значений признаков в бинарный тип:\n",
    "1. predecessors: предшественники; 1 - имеется, 0 - нет\n",
    "2. addOkved: дополнительный ОКВЭД - наличие дополнительных ОКВЭД: 1 - есть, 0 - нет"
   ]
  },
  {
   "cell_type": "code",
   "execution_count": 29,
   "metadata": {},
   "outputs": [
    {
     "data": {
      "text/html": [
       "<div>\n",
       "<style scoped>\n",
       "    .dataframe tbody tr th:only-of-type {\n",
       "        vertical-align: middle;\n",
       "    }\n",
       "\n",
       "    .dataframe tbody tr th {\n",
       "        vertical-align: top;\n",
       "    }\n",
       "\n",
       "    .dataframe thead th {\n",
       "        text-align: right;\n",
       "    }\n",
       "</style>\n",
       "<table border=\"1\" class=\"dataframe\">\n",
       "  <thead>\n",
       "    <tr style=\"text-align: right;\">\n",
       "      <th></th>\n",
       "      <th>predecessors</th>\n",
       "      <th>addOkved</th>\n",
       "    </tr>\n",
       "  </thead>\n",
       "  <tbody>\n",
       "    <tr>\n",
       "      <th>0</th>\n",
       "      <td>0</td>\n",
       "      <td>1</td>\n",
       "    </tr>\n",
       "    <tr>\n",
       "      <th>1</th>\n",
       "      <td>0</td>\n",
       "      <td>1</td>\n",
       "    </tr>\n",
       "    <tr>\n",
       "      <th>2</th>\n",
       "      <td>0</td>\n",
       "      <td>0</td>\n",
       "    </tr>\n",
       "    <tr>\n",
       "      <th>3</th>\n",
       "      <td>0</td>\n",
       "      <td>0</td>\n",
       "    </tr>\n",
       "    <tr>\n",
       "      <th>4</th>\n",
       "      <td>0</td>\n",
       "      <td>0</td>\n",
       "    </tr>\n",
       "  </tbody>\n",
       "</table>\n",
       "</div>"
      ],
      "text/plain": [
       "   predecessors  addOkved\n",
       "0             0         1\n",
       "1             0         1\n",
       "2             0         0\n",
       "3             0         0\n",
       "4             0         0"
      ]
     },
     "execution_count": 29,
     "metadata": {},
     "output_type": "execute_result"
    }
   ],
   "source": [
    "#Перевод значений признаков в бинарный тип\n",
    "\n",
    "# Функция для извлечения значений 'code' из списка словарей признака\n",
    "def code_list(df_list):\n",
    "    #аргумент: значение признака, представляет собой список, \n",
    "    #                             элементы которого словари; \n",
    "    #                             у каждого словаря есть ключи: code, name, version.\n",
    "    #return: 1 - список не пустой, 0 - список пустой\n",
    "    addOkved_list = ast.literal_eval(df_list)\n",
    "    if len(addOkved_list) > 0:\n",
    "        return 1\n",
    "    else:\n",
    "        return 0\n",
    "\n",
    "#Обработка addOkved (дополнительный ОКВЭД): наличие дополнительных ОКВЭД: 1 - есть, 0 - нет\n",
    "df_full['addOkved'] = df_full['addOkved'].apply(lambda x: code_list(str(x)))\n",
    "\n",
    "#predecessors: предшественники; 1 - имеется, 0 - нет\n",
    "df_full['predecessors'] = df_full['predecessors'].apply(lambda x: 0 if str(x) == '[]' else 1)\n",
    "\n",
    "df_full[['predecessors','addOkved']].head(5)"
   ]
  },
  {
   "cell_type": "markdown",
   "metadata": {},
   "source": [
    "### 3.5. Обработка признака opfType"
   ]
  },
  {
   "cell_type": "markdown",
   "metadata": {},
   "source": [
    "Признак opfType представляет собой название организационно-правовых форм.  \n",
    "Количество уникальных названий - 14.   \n",
    "Закодируем признак opfType на соответствующие коды ОКОПФ."
   ]
  },
  {
   "cell_type": "code",
   "execution_count": 30,
   "metadata": {},
   "outputs": [],
   "source": [
    "def opfType_def(arg):\n",
    "       opfType_dict = {'Некоммерческие партнерства': 20614, 'Ассоциации и бюро': 20600,\n",
    "              'Общественные организации': 20200, 'Кооперативы и товарищества': 30006,\n",
    "              'Учреждения': 75000, 'Фонды': 70400, 'Автономные некоммерческие организации': 71400,\n",
    "              'Профессиональные союзы': 20202, 'Некоммерческие организации': 70000, 'Другое': 0,\n",
    "              'Общины малочисленных народов': 21200, 'Религиозные организации': 71500,\n",
    "              'Политические партии': 20201, 'Казачьи общества': 21100}\n",
    "       return opfType_dict[arg]\n",
    "\n",
    "df_full['opfType'] = df_full['opfType'].apply(lambda x: opfType_def(x))"
   ]
  },
  {
   "cell_type": "code",
   "execution_count": 31,
   "metadata": {},
   "outputs": [
    {
     "name": "stdout",
     "output_type": "stream",
     "text": [
      "<class 'pandas.core.frame.DataFrame'>\n",
      "Int64Index: 733471 entries, 0 to 752071\n",
      "Data columns (total 7 columns):\n",
      " #   Column        Non-Null Count   Dtype\n",
      "---  ------        --------------   -----\n",
      " 0   addOkved      733471 non-null  int64\n",
      " 1   mainOkved     733471 non-null  int64\n",
      " 2   predecessors  733471 non-null  int64\n",
      " 3   regionCode    733471 non-null  int64\n",
      " 4   opfType       733471 non-null  int64\n",
      " 5   incomeTotal   733471 non-null  int64\n",
      " 6   diffYear      733471 non-null  int64\n",
      "dtypes: int64(7)\n",
      "memory usage: 44.8 MB\n"
     ]
    }
   ],
   "source": [
    "df_full.info()"
   ]
  },
  {
   "cell_type": "markdown",
   "metadata": {},
   "source": [
    "## Глава 4. Корреляционный анализ датасета"
   ]
  },
  {
   "cell_type": "markdown",
   "metadata": {},
   "source": [
    "Проведём корреляционный анализ датасета и используем для этого тепловую карту корреляций признаков."
   ]
  },
  {
   "cell_type": "code",
   "execution_count": 41,
   "metadata": {},
   "outputs": [
    {
     "data": {
      "text/plain": [
       "<AxesSubplot: >"
      ]
     },
     "execution_count": 41,
     "metadata": {},
     "output_type": "execute_result"
    },
    {
     "data": {
      "image/png": "[encoded data removed]",
      "text/plain": [
       "<Figure size 640x480 with 2 Axes>"
      ]
     },
     "metadata": {},
     "output_type": "display_data"
    }
   ],
   "source": [
    "sns.heatmap(df_full.corr(), annot=True)"
   ]
  },
  {
   "cell_type": "markdown",
   "metadata": {},
   "source": [
    "<u>Вывод по Главе 4:</u>  \n",
    "Все значения коэффициентов корреляции менее 0,3. По всем признакам - связь слабая, в том числе с целевым признаком."
   ]
  },
  {
   "cell_type": "markdown",
   "metadata": {},
   "source": [
    "## Глава 5. Кодирование признаков"
   ]
  },
  {
   "cell_type": "markdown",
   "metadata": {},
   "source": [
    "Кодировать будем следующие признаки: mainOkved, regionCode, opfType.  \n",
    "Все признаки - непорядкове.  \n",
    "Принято решение для кодирования использовать - ONE-HOT ENCODING."
   ]
  },
  {
   "cell_type": "markdown",
   "metadata": {},
   "source": [
    "Для анализа влияния кодирования выделим два датасета:\n",
    "- df_full - датасет без кодирования;\n",
    "- df_full_cod - датасет с кодированием."
   ]
  },
  {
   "cell_type": "code",
   "execution_count": null,
   "metadata": {},
   "outputs": [],
   "source": [
    "# сформируем датасет с кодированием\n",
    "df_full_cod = df_full.copy"
   ]
  },
  {
   "cell_type": "code",
   "execution_count": 36,
   "metadata": {},
   "outputs": [
    {
     "data": {
      "text/html": [
       "<div>\n",
       "<style scoped>\n",
       "    .dataframe tbody tr th:only-of-type {\n",
       "        vertical-align: middle;\n",
       "    }\n",
       "\n",
       "    .dataframe tbody tr th {\n",
       "        vertical-align: top;\n",
       "    }\n",
       "\n",
       "    .dataframe thead th {\n",
       "        text-align: right;\n",
       "    }\n",
       "</style>\n",
       "<table border=\"1\" class=\"dataframe\">\n",
       "  <thead>\n",
       "    <tr style=\"text-align: right;\">\n",
       "      <th></th>\n",
       "      <th>mainOkved_108.0</th>\n",
       "      <th>mainOkved_116.0</th>\n",
       "      <th>mainOkved_101.0</th>\n",
       "      <th>mainOkved_114.0</th>\n",
       "      <th>mainOkved_119.0</th>\n",
       "      <th>mainOkved_111.0</th>\n",
       "    </tr>\n",
       "  </thead>\n",
       "  <tbody>\n",
       "    <tr>\n",
       "      <th>0</th>\n",
       "      <td>0</td>\n",
       "      <td>0</td>\n",
       "      <td>0</td>\n",
       "      <td>0</td>\n",
       "      <td>0</td>\n",
       "      <td>0</td>\n",
       "    </tr>\n",
       "    <tr>\n",
       "      <th>1</th>\n",
       "      <td>0</td>\n",
       "      <td>0</td>\n",
       "      <td>0</td>\n",
       "      <td>0</td>\n",
       "      <td>0</td>\n",
       "      <td>0</td>\n",
       "    </tr>\n",
       "    <tr>\n",
       "      <th>2</th>\n",
       "      <td>0</td>\n",
       "      <td>0</td>\n",
       "      <td>0</td>\n",
       "      <td>0</td>\n",
       "      <td>0</td>\n",
       "      <td>0</td>\n",
       "    </tr>\n",
       "    <tr>\n",
       "      <th>3</th>\n",
       "      <td>0</td>\n",
       "      <td>0</td>\n",
       "      <td>0</td>\n",
       "      <td>0</td>\n",
       "      <td>0</td>\n",
       "      <td>0</td>\n",
       "    </tr>\n",
       "    <tr>\n",
       "      <th>4</th>\n",
       "      <td>0</td>\n",
       "      <td>0</td>\n",
       "      <td>0</td>\n",
       "      <td>0</td>\n",
       "      <td>0</td>\n",
       "      <td>0</td>\n",
       "    </tr>\n",
       "  </tbody>\n",
       "</table>\n",
       "</div>"
      ],
      "text/plain": [
       "   mainOkved_108.0  mainOkved_116.0  mainOkved_101.0  mainOkved_114.0  \\\n",
       "0                0                0                0                0   \n",
       "1                0                0                0                0   \n",
       "2                0                0                0                0   \n",
       "3                0                0                0                0   \n",
       "4                0                0                0                0   \n",
       "\n",
       "   mainOkved_119.0  mainOkved_111.0  \n",
       "0                0                0  \n",
       "1                0                0  \n",
       "2                0                0  \n",
       "3                0                0  \n",
       "4                0                0  "
      ]
     },
     "execution_count": 36,
     "metadata": {},
     "output_type": "execute_result"
    }
   ],
   "source": [
    "#Закодируем mainOkved\n",
    "\n",
    "encoder = ce.OneHotEncoder(cols=['mainOkved'], use_cat_names=True) # указываем столбец для кодирования\n",
    "type_bin = encoder.fit_transform(df_full_cod['mainOkved'])\n",
    "df_full_cod = pd.concat([df_full_cod, type_bin], axis=1)"
   ]
  },
  {
   "cell_type": "code",
   "execution_count": 37,
   "metadata": {},
   "outputs": [
    {
     "data": {
      "text/html": [
       "<div>\n",
       "<style scoped>\n",
       "    .dataframe tbody tr th:only-of-type {\n",
       "        vertical-align: middle;\n",
       "    }\n",
       "\n",
       "    .dataframe tbody tr th {\n",
       "        vertical-align: top;\n",
       "    }\n",
       "\n",
       "    .dataframe thead th {\n",
       "        text-align: right;\n",
       "    }\n",
       "</style>\n",
       "<table border=\"1\" class=\"dataframe\">\n",
       "  <thead>\n",
       "    <tr style=\"text-align: right;\">\n",
       "      <th></th>\n",
       "      <th>regionCode_2.0</th>\n",
       "      <th>regionCode_7.0</th>\n",
       "      <th>regionCode_3.0</th>\n",
       "      <th>regionCode_1.0</th>\n",
       "      <th>regionCode_6.0</th>\n",
       "      <th>regionCode_4.0</th>\n",
       "      <th>regionCode_8.0</th>\n",
       "    </tr>\n",
       "  </thead>\n",
       "  <tbody>\n",
       "    <tr>\n",
       "      <th>0</th>\n",
       "      <td>0</td>\n",
       "      <td>0</td>\n",
       "      <td>0</td>\n",
       "      <td>0</td>\n",
       "      <td>0</td>\n",
       "      <td>0</td>\n",
       "      <td>0</td>\n",
       "    </tr>\n",
       "    <tr>\n",
       "      <th>1</th>\n",
       "      <td>0</td>\n",
       "      <td>0</td>\n",
       "      <td>0</td>\n",
       "      <td>0</td>\n",
       "      <td>0</td>\n",
       "      <td>0</td>\n",
       "      <td>0</td>\n",
       "    </tr>\n",
       "    <tr>\n",
       "      <th>2</th>\n",
       "      <td>0</td>\n",
       "      <td>0</td>\n",
       "      <td>0</td>\n",
       "      <td>0</td>\n",
       "      <td>0</td>\n",
       "      <td>0</td>\n",
       "      <td>0</td>\n",
       "    </tr>\n",
       "    <tr>\n",
       "      <th>3</th>\n",
       "      <td>1</td>\n",
       "      <td>0</td>\n",
       "      <td>0</td>\n",
       "      <td>0</td>\n",
       "      <td>0</td>\n",
       "      <td>0</td>\n",
       "      <td>0</td>\n",
       "    </tr>\n",
       "    <tr>\n",
       "      <th>4</th>\n",
       "      <td>0</td>\n",
       "      <td>1</td>\n",
       "      <td>0</td>\n",
       "      <td>0</td>\n",
       "      <td>0</td>\n",
       "      <td>0</td>\n",
       "      <td>0</td>\n",
       "    </tr>\n",
       "  </tbody>\n",
       "</table>\n",
       "</div>"
      ],
      "text/plain": [
       "   regionCode_2.0  regionCode_7.0  regionCode_3.0  regionCode_1.0  \\\n",
       "0               0               0               0               0   \n",
       "1               0               0               0               0   \n",
       "2               0               0               0               0   \n",
       "3               1               0               0               0   \n",
       "4               0               1               0               0   \n",
       "\n",
       "   regionCode_6.0  regionCode_4.0  regionCode_8.0  \n",
       "0               0               0               0  \n",
       "1               0               0               0  \n",
       "2               0               0               0  \n",
       "3               0               0               0  \n",
       "4               0               0               0  "
      ]
     },
     "execution_count": 37,
     "metadata": {},
     "output_type": "execute_result"
    }
   ],
   "source": [
    "#Закодируем regionCode\n",
    "\n",
    "encoder = ce.OneHotEncoder(cols=['regionCode'], use_cat_names=True) # указываем столбец для кодирования\n",
    "type_bin = encoder.fit_transform(df_full_cod['regionCode'])\n",
    "df_full_cod = pd.concat([df_full_cod, type_bin], axis=1)"
   ]
  },
  {
   "cell_type": "code",
   "execution_count": 38,
   "metadata": {},
   "outputs": [],
   "source": [
    "#Закодируем opfType\n",
    "\n",
    "encoder = ce.OneHotEncoder(cols=['opfType'], use_cat_names=True) # указываем столбец для кодирования\n",
    "type_bin = encoder.fit_transform(df_full_cod['opfType'])\n",
    "df_full_cod = pd.concat([df_full_cod, type_bin], axis=1)"
   ]
  },
  {
   "cell_type": "code",
   "execution_count": 39,
   "metadata": {},
   "outputs": [
    {
     "name": "stdout",
     "output_type": "stream",
     "text": [
      "<class 'pandas.core.frame.DataFrame'>\n",
      "RangeIndex: 733471 entries, 0 to 733470\n",
      "Data columns (total 50 columns):\n",
      " #   Column            Non-Null Count   Dtype\n",
      "---  ------            --------------   -----\n",
      " 0   addOkved          733471 non-null  int64\n",
      " 1   predecessors      733471 non-null  int64\n",
      " 2   incomeTotal       733471 non-null  int64\n",
      " 3   diffYear          733471 non-null  int64\n",
      " 4   mainOkved_113.0   733471 non-null  int64\n",
      " 5   mainOkved_118.0   733471 non-null  int64\n",
      " 6   mainOkved_108.0   733471 non-null  int64\n",
      " 7   mainOkved_116.0   733471 non-null  int64\n",
      " 8   mainOkved_101.0   733471 non-null  int64\n",
      " 9   mainOkved_114.0   733471 non-null  int64\n",
      " 10  mainOkved_119.0   733471 non-null  int64\n",
      " 11  mainOkved_111.0   733471 non-null  int64\n",
      " 12  mainOkved_112.0   733471 non-null  int64\n",
      " 13  mainOkved_117.0   733471 non-null  int64\n",
      " 14  mainOkved_105.0   733471 non-null  int64\n",
      " 15  mainOkved_106.0   733471 non-null  int64\n",
      " 16  mainOkved_103.0   733471 non-null  int64\n",
      " 17  mainOkved_107.0   733471 non-null  int64\n",
      " 18  mainOkved_110.0   733471 non-null  int64\n",
      " 19  mainOkved_115.0   733471 non-null  int64\n",
      " 20  mainOkved_104.0   733471 non-null  int64\n",
      " 21  mainOkved_1067.0  733471 non-null  int64\n",
      " 22  mainOkved_1040.0  733471 non-null  int64\n",
      " 23  mainOkved_109.0   733471 non-null  int64\n",
      " 24  mainOkved_102.0   733471 non-null  int64\n",
      " 25  mainOkved_121.0   733471 non-null  int64\n",
      " 26  mainOkved_120.0   733471 non-null  int64\n",
      " 27  regionCode_5.0    733471 non-null  int64\n",
      " 28  regionCode_9.0    733471 non-null  int64\n",
      " 29  regionCode_2.0    733471 non-null  int64\n",
      " 30  regionCode_7.0    733471 non-null  int64\n",
      " 31  regionCode_3.0    733471 non-null  int64\n",
      " 32  regionCode_1.0    733471 non-null  int64\n",
      " 33  regionCode_6.0    733471 non-null  int64\n",
      " 34  regionCode_4.0    733471 non-null  int64\n",
      " 35  regionCode_8.0    733471 non-null  int64\n",
      " 36  opfType_20614.0   733471 non-null  int64\n",
      " 37  opfType_20600.0   733471 non-null  int64\n",
      " 38  opfType_20200.0   733471 non-null  int64\n",
      " 39  opfType_30006.0   733471 non-null  int64\n",
      " 40  opfType_75000.0   733471 non-null  int64\n",
      " 41  opfType_70400.0   733471 non-null  int64\n",
      " 42  opfType_71400.0   733471 non-null  int64\n",
      " 43  opfType_20202.0   733471 non-null  int64\n",
      " 44  opfType_70000.0   733471 non-null  int64\n",
      " 45  opfType_0.0       733471 non-null  int64\n",
      " 46  opfType_21200.0   733471 non-null  int64\n",
      " 47  opfType_71500.0   733471 non-null  int64\n",
      " 48  opfType_20201.0   733471 non-null  int64\n",
      " 49  opfType_21100.0   733471 non-null  int64\n",
      "dtypes: int64(50)\n",
      "memory usage: 279.8 MB\n"
     ]
    }
   ],
   "source": [
    "#Удаление столбцов/признаков, значение которых объективно не могут влияют на поставленную задачу, на целевой признак\n",
    "df_full_cod = df_full_cod.drop(['mainOkved','regionCode','opfType'], axis=1)"
   ]
  },
  {
   "cell_type": "code",
   "execution_count": null,
   "metadata": {},
   "outputs": [],
   "source": [
    "# датасет без кодирования\n",
    "df_full.info()"
   ]
  },
  {
   "cell_type": "code",
   "execution_count": null,
   "metadata": {},
   "outputs": [],
   "source": [
    "# датасет с кодированием\n",
    "df_full_cod.info()"
   ]
  },
  {
   "cell_type": "markdown",
   "metadata": {},
   "source": [
    "## Глава 7. Создание моделей машинного обучения"
   ]
  },
  {
   "cell_type": "markdown",
   "metadata": {},
   "source": [
    "Основной задачей диплома - проверить, есть ли зависимость вероятности получения грантов от ряда признаков.\n",
    "Решение задачи можно выполнить с помощью машинного обучения.\n",
    "Целевой признак incomeTotal имеет два класса 1 - организация с доходом и 0 - органиазция без дохода.\n",
    "Данные размечены.\n",
    "В данном случае решается задача классификации."
   ]
  },
  {
   "cell_type": "markdown",
   "metadata": {},
   "source": [
    "### 7.1. Выборки и метрика"
   ]
  },
  {
   "cell_type": "code",
   "execution_count": 4,
   "metadata": {},
   "outputs": [],
   "source": [
    "# зафксируем random_state\n",
    "random_state = 42"
   ]
  },
  {
   "cell_type": "markdown",
   "metadata": {},
   "source": [
    "Сформируем две пары выборок:\n",
    "1. ключевые признаки без кодирования: X_train, X_test, y_train, y_test\n",
    "2. ключевые признаки с кодированием: X_train_cod, X_test_cod, y_train, y_test"
   ]
  },
  {
   "cell_type": "code",
   "execution_count": 5,
   "metadata": {},
   "outputs": [
    {
     "name": "stdout",
     "output_type": "stream",
     "text": [
      "Размер обучающей выборки: (586776, 6)\n",
      "Размер тестовой выборки: (146695, 6)\n"
     ]
    }
   ],
   "source": [
    "# разделение на признаки и целевую переменную\n",
    "\n",
    "y = df_full['incomeTotal'] # Целевая переменная\n",
    "\n",
    "# признаки без кодирования\n",
    "X = df_full.drop('incomeTotal', axis=1)  # Признаки (все столбцы, кроме целевой переменной)\n",
    "# признаки c кодированием\n",
    "X_cod = df_full_cod.drop('incomeTotal', axis=1)  # Признаки (все столбцы, кроме целевой переменной)\n",
    "\n",
    "#Стратифицированное разделение на train и test выборки\n",
    "#Размер тестовой выборки составляет 20% от всего набора данных\n",
    "#Передаем параметр stratify=y,\n",
    "#   который указывает на использование стратификации на основе целевой переменной y,\n",
    "#   чтобы сохранить баланс классов в обоих выборках.\n",
    "\n",
    "# вариант без кодирования\n",
    "X_train, X_test, y_train, y_test = train_test_split(X, y, test_size=0.2, stratify=y, random_state=random_state)\n",
    "# вариант с кодированием\n",
    "X_train_cod, X_test_cod, y_train_cod, y_test_cod = train_test_split(X_cod, y, test_size=0.2, stratify=y, random_state=random_state)\n",
    "\n",
    "# Вывод размерностей полученных выборок\n",
    "print(f\"Размер обучающей выборки: {X_train.shape}\")\n",
    "print(f\"Размер тестовой выборки: {X_test.shape}\")"
   ]
  },
  {
   "cell_type": "markdown",
   "metadata": {},
   "source": [
    "В задаче диплома необходимо отделить класс 1 от класса 0.  \n",
    "Важно минимальное количество ложноположительных срабатываний модели.  \n",
    "Выбор метрики - Precision (точность)."
   ]
  },
  {
   "cell_type": "markdown",
   "metadata": {},
   "source": [
    "### 7.2. Наивный байесовский классификатор"
   ]
  },
  {
   "cell_type": "markdown",
   "metadata": {},
   "source": [
    "Первый вариант модели выполним на базе работы CategoricalNB.  \n",
    "CategoricalNB - это алгоритм классификации, основанный на теореме Байеса.   \n",
    "Он специально разработан для наборов данных с категориальными признаками."
   ]
  },
  {
   "cell_type": "code",
   "execution_count": 35,
   "metadata": {},
   "outputs": [
    {
     "name": "stdout",
     "output_type": "stream",
     "text": [
      "Precision для класса 1 по тестовой выборке: 0.44\n",
      "Precision для класса 1 по тренеровочной выборке: 0.41\n",
      "\n",
      "\n",
      "Три наиболее важных признака:\n",
      "Признак diffYear: важность 0.122\n",
      "Признак addOkved: важность 0.076\n",
      "Признак predecessors: важность 0.066\n"
     ]
    },
    {
     "data": {
      "text/html": [
       "\n",
       "    <style>\n",
       "    table.eli5-weights tr:hover {\n",
       "        filter: brightness(85%);\n",
       "    }\n",
       "</style>\n",
       "\n",
       "\n",
       "\n",
       "    \n",
       "\n",
       "    \n",
       "\n",
       "    \n",
       "\n",
       "    \n",
       "\n",
       "    \n",
       "\n",
       "    \n",
       "\n",
       "\n",
       "    \n",
       "\n",
       "    \n",
       "\n",
       "    \n",
       "\n",
       "    \n",
       "\n",
       "    \n",
       "\n",
       "    \n",
       "\n",
       "\n",
       "    \n",
       "\n",
       "    \n",
       "\n",
       "    \n",
       "\n",
       "    \n",
       "\n",
       "    \n",
       "        <table class=\"eli5-weights eli5-feature-importances\" style=\"border-collapse: collapse; border: none; margin-top: 0em; table-layout: auto;\">\n",
       "    <thead>\n",
       "    <tr style=\"border: none;\">\n",
       "        <th style=\"padding: 0 1em 0 0.5em; text-align: right; border: none;\">Weight</th>\n",
       "        <th style=\"padding: 0 0.5em 0 0.5em; text-align: left; border: none;\">Feature</th>\n",
       "    </tr>\n",
       "    </thead>\n",
       "    <tbody>\n",
       "    \n",
       "        <tr style=\"background-color: hsl(120, 100.00%, 80.00%); border: none;\">\n",
       "            <td style=\"padding: 0 1em 0 0.5em; text-align: right; border: none;\">\n",
       "                0.0005\n",
       "                \n",
       "                    &plusmn; 0.0001\n",
       "                \n",
       "            </td>\n",
       "            <td style=\"padding: 0 0.5em 0 0.5em; text-align: left; border: none;\">\n",
       "                diffYear\n",
       "            </td>\n",
       "        </tr>\n",
       "    \n",
       "        <tr style=\"background-color: hsl(120, 100.00%, 93.07%); border: none;\">\n",
       "            <td style=\"padding: 0 1em 0 0.5em; text-align: right; border: none;\">\n",
       "                0.0001\n",
       "                \n",
       "                    &plusmn; 0.0001\n",
       "                \n",
       "            </td>\n",
       "            <td style=\"padding: 0 0.5em 0 0.5em; text-align: left; border: none;\">\n",
       "                addOkved\n",
       "            </td>\n",
       "        </tr>\n",
       "    \n",
       "        <tr style=\"background-color: hsl(120, 100.00%, 96.63%); border: none;\">\n",
       "            <td style=\"padding: 0 1em 0 0.5em; text-align: right; border: none;\">\n",
       "                0.0000\n",
       "                \n",
       "                    &plusmn; 0.0001\n",
       "                \n",
       "            </td>\n",
       "            <td style=\"padding: 0 0.5em 0 0.5em; text-align: left; border: none;\">\n",
       "                predecessors\n",
       "            </td>\n",
       "        </tr>\n",
       "    \n",
       "        <tr style=\"background-color: hsl(0, 100.00%, 90.95%); border: none;\">\n",
       "            <td style=\"padding: 0 1em 0 0.5em; text-align: right; border: none;\">\n",
       "                -0.0002\n",
       "                \n",
       "                    &plusmn; 0.0001\n",
       "                \n",
       "            </td>\n",
       "            <td style=\"padding: 0 0.5em 0 0.5em; text-align: left; border: none;\">\n",
       "                regionCode\n",
       "            </td>\n",
       "        </tr>\n",
       "    \n",
       "        <tr style=\"background-color: hsl(0, 100.00%, 88.28%); border: none;\">\n",
       "            <td style=\"padding: 0 1em 0 0.5em; text-align: right; border: none;\">\n",
       "                -0.0002\n",
       "                \n",
       "                    &plusmn; 0.0000\n",
       "                \n",
       "            </td>\n",
       "            <td style=\"padding: 0 0.5em 0 0.5em; text-align: left; border: none;\">\n",
       "                mainOkved\n",
       "            </td>\n",
       "        </tr>\n",
       "    \n",
       "        <tr style=\"background-color: hsl(0, 100.00%, 87.20%); border: none;\">\n",
       "            <td style=\"padding: 0 1em 0 0.5em; text-align: right; border: none;\">\n",
       "                -0.0003\n",
       "                \n",
       "                    &plusmn; 0.0001\n",
       "                \n",
       "            </td>\n",
       "            <td style=\"padding: 0 0.5em 0 0.5em; text-align: left; border: none;\">\n",
       "                opfType\n",
       "            </td>\n",
       "        </tr>\n",
       "    \n",
       "    \n",
       "    </tbody>\n",
       "</table>\n",
       "    \n",
       "\n",
       "    \n",
       "\n",
       "\n",
       "    \n",
       "\n",
       "    \n",
       "\n",
       "    \n",
       "\n",
       "    \n",
       "\n",
       "    \n",
       "\n",
       "    \n",
       "\n",
       "\n",
       "\n"
      ],
      "text/plain": [
       "<IPython.core.display.HTML object>"
      ]
     },
     "execution_count": 35,
     "metadata": {},
     "output_type": "execute_result"
    }
   ],
   "source": [
    "#Вариант: ключевые признаки без кодирования\n",
    "\n",
    "# обучение модели\n",
    "model_NB = CategoricalNB()\n",
    "model_NB.fit(X_train, y_train)\n",
    "\n",
    "# прогноз\n",
    "y_pred_test = model_NB.predict(X_test)\n",
    "y_pred_train = model_NB.predict(X_train)\n",
    "\n",
    "# значение метрики\n",
    "precision_test = precision_score(y_test, y_pred_test, pos_label=1)\n",
    "precision_train = precision_score(y_train, y_pred_train, pos_label=1)\n",
    "print(\"Precision для класса 1 по тестовой выборке:\", round(precision_test,2))\n",
    "print(\"Precision для класса 1 по тренеровочной выборке:\", round(precision_train,2))\n",
    "\n",
    "#Определим важность признаков\n",
    "perm = PermutationImportance(model_NB, random_state=random_state).fit(X_test,y_test)\n",
    "eli5.show_weights(perm, feature_names = X_test.columns.tolist())"
   ]
  },
  {
   "cell_type": "code",
   "execution_count": 36,
   "metadata": {},
   "outputs": [
    {
     "name": "stdout",
     "output_type": "stream",
     "text": [
      "Precision для класса 1 по тестовой выборке: 0.29\n",
      "Precision для класса 1 по тренеровочной выборке: 0.28\n",
      "\n",
      "\n",
      "Три наиболее важных признака:\n",
      "Признак diffYear: важность 0.053\n",
      "Признак addOkved: важность 0.041\n",
      "Признак mainOkved_116.0: важность 0.013\n"
     ]
    },
    {
     "data": {
      "text/html": [
       "\n",
       "    <style>\n",
       "    table.eli5-weights tr:hover {\n",
       "        filter: brightness(85%);\n",
       "    }\n",
       "</style>\n",
       "\n",
       "\n",
       "\n",
       "    \n",
       "\n",
       "    \n",
       "\n",
       "    \n",
       "\n",
       "    \n",
       "\n",
       "    \n",
       "\n",
       "    \n",
       "\n",
       "\n",
       "    \n",
       "\n",
       "    \n",
       "\n",
       "    \n",
       "\n",
       "    \n",
       "\n",
       "    \n",
       "\n",
       "    \n",
       "\n",
       "\n",
       "    \n",
       "\n",
       "    \n",
       "\n",
       "    \n",
       "\n",
       "    \n",
       "\n",
       "    \n",
       "        <table class=\"eli5-weights eli5-feature-importances\" style=\"border-collapse: collapse; border: none; margin-top: 0em; table-layout: auto;\">\n",
       "    <thead>\n",
       "    <tr style=\"border: none;\">\n",
       "        <th style=\"padding: 0 1em 0 0.5em; text-align: right; border: none;\">Weight</th>\n",
       "        <th style=\"padding: 0 0.5em 0 0.5em; text-align: left; border: none;\">Feature</th>\n",
       "    </tr>\n",
       "    </thead>\n",
       "    <tbody>\n",
       "    \n",
       "        <tr style=\"background-color: hsl(120, 100.00%, 80.00%); border: none;\">\n",
       "            <td style=\"padding: 0 1em 0 0.5em; text-align: right; border: none;\">\n",
       "                0.0041\n",
       "                \n",
       "                    &plusmn; 0.0003\n",
       "                \n",
       "            </td>\n",
       "            <td style=\"padding: 0 0.5em 0 0.5em; text-align: left; border: none;\">\n",
       "                diffYear\n",
       "            </td>\n",
       "        </tr>\n",
       "    \n",
       "        <tr style=\"background-color: hsl(120, 100.00%, 91.61%); border: none;\">\n",
       "            <td style=\"padding: 0 1em 0 0.5em; text-align: right; border: none;\">\n",
       "                0.0012\n",
       "                \n",
       "                    &plusmn; 0.0002\n",
       "                \n",
       "            </td>\n",
       "            <td style=\"padding: 0 0.5em 0 0.5em; text-align: left; border: none;\">\n",
       "                mainOkved_119.0\n",
       "            </td>\n",
       "        </tr>\n",
       "    \n",
       "        <tr style=\"background-color: hsl(120, 100.00%, 93.91%); border: none;\">\n",
       "            <td style=\"padding: 0 1em 0 0.5em; text-align: right; border: none;\">\n",
       "                0.0008\n",
       "                \n",
       "                    &plusmn; 0.0002\n",
       "                \n",
       "            </td>\n",
       "            <td style=\"padding: 0 0.5em 0 0.5em; text-align: left; border: none;\">\n",
       "                opfType_20200.0\n",
       "            </td>\n",
       "        </tr>\n",
       "    \n",
       "        <tr style=\"background-color: hsl(120, 100.00%, 97.32%); border: none;\">\n",
       "            <td style=\"padding: 0 1em 0 0.5em; text-align: right; border: none;\">\n",
       "                0.0002\n",
       "                \n",
       "                    &plusmn; 0.0000\n",
       "                \n",
       "            </td>\n",
       "            <td style=\"padding: 0 0.5em 0 0.5em; text-align: left; border: none;\">\n",
       "                predecessors\n",
       "            </td>\n",
       "        </tr>\n",
       "    \n",
       "        <tr style=\"background-color: hsl(120, 100.00%, 97.82%); border: none;\">\n",
       "            <td style=\"padding: 0 1em 0 0.5em; text-align: right; border: none;\">\n",
       "                0.0002\n",
       "                \n",
       "                    &plusmn; 0.0001\n",
       "                \n",
       "            </td>\n",
       "            <td style=\"padding: 0 0.5em 0 0.5em; text-align: left; border: none;\">\n",
       "                mainOkved_107.0\n",
       "            </td>\n",
       "        </tr>\n",
       "    \n",
       "        <tr style=\"background-color: hsl(120, 100.00%, 98.71%); border: none;\">\n",
       "            <td style=\"padding: 0 1em 0 0.5em; text-align: right; border: none;\">\n",
       "                0.0001\n",
       "                \n",
       "                    &plusmn; 0.0001\n",
       "                \n",
       "            </td>\n",
       "            <td style=\"padding: 0 0.5em 0 0.5em; text-align: left; border: none;\">\n",
       "                mainOkved_103.0\n",
       "            </td>\n",
       "        </tr>\n",
       "    \n",
       "        <tr style=\"background-color: hsl(120, 100.00%, 98.79%); border: none;\">\n",
       "            <td style=\"padding: 0 1em 0 0.5em; text-align: right; border: none;\">\n",
       "                0.0001\n",
       "                \n",
       "                    &plusmn; 0.0001\n",
       "                \n",
       "            </td>\n",
       "            <td style=\"padding: 0 0.5em 0 0.5em; text-align: left; border: none;\">\n",
       "                opfType_0.0\n",
       "            </td>\n",
       "        </tr>\n",
       "    \n",
       "        <tr style=\"background-color: hsl(120, 100.00%, 98.88%); border: none;\">\n",
       "            <td style=\"padding: 0 1em 0 0.5em; text-align: right; border: none;\">\n",
       "                0.0001\n",
       "                \n",
       "                    &plusmn; 0.0001\n",
       "                \n",
       "            </td>\n",
       "            <td style=\"padding: 0 0.5em 0 0.5em; text-align: left; border: none;\">\n",
       "                opfType_70400.0\n",
       "            </td>\n",
       "        </tr>\n",
       "    \n",
       "        <tr style=\"background-color: hsl(120, 100.00%, 99.17%); border: none;\">\n",
       "            <td style=\"padding: 0 1em 0 0.5em; text-align: right; border: none;\">\n",
       "                0.0000\n",
       "                \n",
       "                    &plusmn; 0.0000\n",
       "                \n",
       "            </td>\n",
       "            <td style=\"padding: 0 0.5em 0 0.5em; text-align: left; border: none;\">\n",
       "                regionCode_7.0\n",
       "            </td>\n",
       "        </tr>\n",
       "    \n",
       "        <tr style=\"background-color: hsl(120, 100.00%, 99.30%); border: none;\">\n",
       "            <td style=\"padding: 0 1em 0 0.5em; text-align: right; border: none;\">\n",
       "                0.0000\n",
       "                \n",
       "                    &plusmn; 0.0000\n",
       "                \n",
       "            </td>\n",
       "            <td style=\"padding: 0 0.5em 0 0.5em; text-align: left; border: none;\">\n",
       "                opfType_20600.0\n",
       "            </td>\n",
       "        </tr>\n",
       "    \n",
       "        <tr style=\"background-color: hsl(120, 100.00%, 99.36%); border: none;\">\n",
       "            <td style=\"padding: 0 1em 0 0.5em; text-align: right; border: none;\">\n",
       "                0.0000\n",
       "                \n",
       "                    &plusmn; 0.0000\n",
       "                \n",
       "            </td>\n",
       "            <td style=\"padding: 0 0.5em 0 0.5em; text-align: left; border: none;\">\n",
       "                regionCode_4.0\n",
       "            </td>\n",
       "        </tr>\n",
       "    \n",
       "        <tr style=\"background-color: hsl(120, 100.00%, 99.36%); border: none;\">\n",
       "            <td style=\"padding: 0 1em 0 0.5em; text-align: right; border: none;\">\n",
       "                0.0000\n",
       "                \n",
       "                    &plusmn; 0.0001\n",
       "                \n",
       "            </td>\n",
       "            <td style=\"padding: 0 0.5em 0 0.5em; text-align: left; border: none;\">\n",
       "                mainOkved_110.0\n",
       "            </td>\n",
       "        </tr>\n",
       "    \n",
       "        <tr style=\"background-color: hsl(120, 100.00%, 99.40%); border: none;\">\n",
       "            <td style=\"padding: 0 1em 0 0.5em; text-align: right; border: none;\">\n",
       "                0.0000\n",
       "                \n",
       "                    &plusmn; 0.0000\n",
       "                \n",
       "            </td>\n",
       "            <td style=\"padding: 0 0.5em 0 0.5em; text-align: left; border: none;\">\n",
       "                mainOkved_105.0\n",
       "            </td>\n",
       "        </tr>\n",
       "    \n",
       "        <tr style=\"background-color: hsl(120, 100.00%, 99.49%); border: none;\">\n",
       "            <td style=\"padding: 0 1em 0 0.5em; text-align: right; border: none;\">\n",
       "                0.0000\n",
       "                \n",
       "                    &plusmn; 0.0000\n",
       "                \n",
       "            </td>\n",
       "            <td style=\"padding: 0 0.5em 0 0.5em; text-align: left; border: none;\">\n",
       "                mainOkved_115.0\n",
       "            </td>\n",
       "        </tr>\n",
       "    \n",
       "        <tr style=\"background-color: hsl(120, 100.00%, 99.66%); border: none;\">\n",
       "            <td style=\"padding: 0 1em 0 0.5em; text-align: right; border: none;\">\n",
       "                0.0000\n",
       "                \n",
       "                    &plusmn; 0.0000\n",
       "                \n",
       "            </td>\n",
       "            <td style=\"padding: 0 0.5em 0 0.5em; text-align: left; border: none;\">\n",
       "                mainOkved_114.0\n",
       "            </td>\n",
       "        </tr>\n",
       "    \n",
       "        <tr style=\"background-color: hsl(120, 100.00%, 99.74%); border: none;\">\n",
       "            <td style=\"padding: 0 1em 0 0.5em; text-align: right; border: none;\">\n",
       "                0.0000\n",
       "                \n",
       "                    &plusmn; 0.0000\n",
       "                \n",
       "            </td>\n",
       "            <td style=\"padding: 0 0.5em 0 0.5em; text-align: left; border: none;\">\n",
       "                regionCode_6.0\n",
       "            </td>\n",
       "        </tr>\n",
       "    \n",
       "        <tr style=\"background-color: hsl(120, 100.00%, 99.88%); border: none;\">\n",
       "            <td style=\"padding: 0 1em 0 0.5em; text-align: right; border: none;\">\n",
       "                0.0000\n",
       "                \n",
       "                    &plusmn; 0.0000\n",
       "                \n",
       "            </td>\n",
       "            <td style=\"padding: 0 0.5em 0 0.5em; text-align: left; border: none;\">\n",
       "                mainOkved_109.0\n",
       "            </td>\n",
       "        </tr>\n",
       "    \n",
       "        <tr style=\"background-color: hsl(120, 100.00%, 99.88%); border: none;\">\n",
       "            <td style=\"padding: 0 1em 0 0.5em; text-align: right; border: none;\">\n",
       "                0.0000\n",
       "                \n",
       "                    &plusmn; 0.0000\n",
       "                \n",
       "            </td>\n",
       "            <td style=\"padding: 0 0.5em 0 0.5em; text-align: left; border: none;\">\n",
       "                opfType_21100.0\n",
       "            </td>\n",
       "        </tr>\n",
       "    \n",
       "        <tr style=\"background-color: hsl(0, 100.00%, 100.00%); border: none;\">\n",
       "            <td style=\"padding: 0 1em 0 0.5em; text-align: right; border: none;\">\n",
       "                0\n",
       "                \n",
       "                    &plusmn; 0.0000\n",
       "                \n",
       "            </td>\n",
       "            <td style=\"padding: 0 0.5em 0 0.5em; text-align: left; border: none;\">\n",
       "                mainOkved_120.0\n",
       "            </td>\n",
       "        </tr>\n",
       "    \n",
       "        <tr style=\"background-color: hsl(0, 100.00%, 100.00%); border: none;\">\n",
       "            <td style=\"padding: 0 1em 0 0.5em; text-align: right; border: none;\">\n",
       "                0\n",
       "                \n",
       "                    &plusmn; 0.0000\n",
       "                \n",
       "            </td>\n",
       "            <td style=\"padding: 0 0.5em 0 0.5em; text-align: left; border: none;\">\n",
       "                mainOkved_121.0\n",
       "            </td>\n",
       "        </tr>\n",
       "    \n",
       "    \n",
       "        \n",
       "            <tr style=\"background-color: hsl(0, 100.00%, 100.00%); border: none;\">\n",
       "                <td colspan=\"2\" style=\"padding: 0 0.5em 0 0.5em; text-align: center; border: none; white-space: nowrap;\">\n",
       "                    <i>&hellip; 29 more &hellip;</i>\n",
       "                </td>\n",
       "            </tr>\n",
       "        \n",
       "    \n",
       "    </tbody>\n",
       "</table>\n",
       "    \n",
       "\n",
       "    \n",
       "\n",
       "\n",
       "    \n",
       "\n",
       "    \n",
       "\n",
       "    \n",
       "\n",
       "    \n",
       "\n",
       "    \n",
       "\n",
       "    \n",
       "\n",
       "\n",
       "\n"
      ],
      "text/plain": [
       "<IPython.core.display.HTML object>"
      ]
     },
     "execution_count": 36,
     "metadata": {},
     "output_type": "execute_result"
    }
   ],
   "source": [
    "#Вариант: ключевые признаки с кодированием\n",
    "\n",
    "# обучение модели\n",
    "model_NB_cod = CategoricalNB()\n",
    "model_NB_cod.fit(X_train_cod, y_train_cod)\n",
    "\n",
    "# прогноз\n",
    "y_pred_test = model_NB_cod.predict(X_test_cod)\n",
    "y_pred_train = model_NB_cod.predict(X_train_cod)\n",
    "\n",
    "# значение метрики\n",
    "precision_test = precision_score(y_test_cod, y_pred_test, pos_label=1)\n",
    "precision_train = precision_score(y_train_cod, y_pred_train, pos_label=1)\n",
    "print(\"Precision для класса 1 по тестовой выборке:\", round(precision_test,2))\n",
    "print(\"Precision для класса 1 по тренеровочной выборке:\", round(precision_train,2))\n",
    "\n",
    "#Определим важность признаков\n",
    "perm = PermutationImportance(model_NB_cod, random_state=random_state).fit(X_test_cod,y_test_cod)\n",
    "eli5.show_weights(perm, feature_names = X_test_cod.columns.tolist())"
   ]
  },
  {
   "cell_type": "markdown",
   "metadata": {},
   "source": [
    "<u>Вывод по подразделу 7.2:</u>\n",
    "1. Обе модели показали низкий результат по метрике: модель недообучена.\n",
    "2. Лучший результат показала модель, для которой не было кодирования ключевых признаков.\n",
    "3. Наиболее важными признаками, с точки зрения моделей, были: возраст и наличие дополнительных ОКВЭД."
   ]
  },
  {
   "cell_type": "markdown",
   "metadata": {},
   "source": [
    "### 7.3. Логистическая регрессия"
   ]
  },
  {
   "cell_type": "markdown",
   "metadata": {},
   "source": [
    "Модедь логистической регрессии на датасете без кодирования не предсказывает ни одного образца для расчета метрик.  \n",
    "Поэтому для создания модели используются данные с кодированием."
   ]
  },
  {
   "cell_type": "markdown",
   "metadata": {},
   "source": [
    "<center> РЕЗУЛЬТАТЫ БЕЗ ПРЕДВАРИТЕЛЬНЫХ НАСТРОЕК"
   ]
  },
  {
   "cell_type": "code",
   "execution_count": 37,
   "metadata": {},
   "outputs": [
    {
     "name": "stderr",
     "output_type": "stream",
     "text": [
      "c:\\Users\\glaz\\AppData\\Local\\Programs\\Python\\Python39\\lib\\site-packages\\sklearn\\metrics\\_classification.py:1344: UndefinedMetricWarning: Precision is ill-defined and being set to 0.0 due to no predicted samples. Use `zero_division` parameter to control this behavior.\n",
      "  _warn_prf(average, modifier, msg_start, len(result))\n",
      "c:\\Users\\glaz\\AppData\\Local\\Programs\\Python\\Python39\\lib\\site-packages\\sklearn\\metrics\\_classification.py:1344: UndefinedMetricWarning: Precision is ill-defined and being set to 0.0 due to no predicted samples. Use `zero_division` parameter to control this behavior.\n",
      "  _warn_prf(average, modifier, msg_start, len(result))\n"
     ]
    },
    {
     "name": "stdout",
     "output_type": "stream",
     "text": [
      "Precision для класса 1 по тестовой выборке: 0.0\n",
      "Precision для класса 1 по тренеровочной выборке: 0.0\n"
     ]
    },
    {
     "name": "stderr",
     "output_type": "stream",
     "text": [
      "c:\\Users\\glaz\\AppData\\Local\\Programs\\Python\\Python39\\lib\\site-packages\\eli5\\formatters\\html.py:233: RuntimeWarning: invalid value encountered in scalar divide\n",
      "  rel_weight = (abs(weight) / weight_range) ** 0.7\n"
     ]
    },
    {
     "data": {
      "text/html": [
       "\n",
       "    <style>\n",
       "    table.eli5-weights tr:hover {\n",
       "        filter: brightness(85%);\n",
       "    }\n",
       "</style>\n",
       "\n",
       "\n",
       "\n",
       "    \n",
       "\n",
       "    \n",
       "\n",
       "    \n",
       "\n",
       "    \n",
       "\n",
       "    \n",
       "\n",
       "    \n",
       "\n",
       "\n",
       "    \n",
       "\n",
       "    \n",
       "\n",
       "    \n",
       "\n",
       "    \n",
       "\n",
       "    \n",
       "\n",
       "    \n",
       "\n",
       "\n",
       "    \n",
       "\n",
       "    \n",
       "\n",
       "    \n",
       "\n",
       "    \n",
       "\n",
       "    \n",
       "        <table class=\"eli5-weights eli5-feature-importances\" style=\"border-collapse: collapse; border: none; margin-top: 0em; table-layout: auto;\">\n",
       "    <thead>\n",
       "    <tr style=\"border: none;\">\n",
       "        <th style=\"padding: 0 1em 0 0.5em; text-align: right; border: none;\">Weight</th>\n",
       "        <th style=\"padding: 0 0.5em 0 0.5em; text-align: left; border: none;\">Feature</th>\n",
       "    </tr>\n",
       "    </thead>\n",
       "    <tbody>\n",
       "    \n",
       "        <tr style=\"background-color: hsl(0, 100.00%, nan%); border: none;\">\n",
       "            <td style=\"padding: 0 1em 0 0.5em; text-align: right; border: none;\">\n",
       "                0\n",
       "                \n",
       "                    &plusmn; 0.0000\n",
       "                \n",
       "            </td>\n",
       "            <td style=\"padding: 0 0.5em 0 0.5em; text-align: left; border: none;\">\n",
       "                diffYear\n",
       "            </td>\n",
       "        </tr>\n",
       "    \n",
       "        <tr style=\"background-color: hsl(0, 100.00%, nan%); border: none;\">\n",
       "            <td style=\"padding: 0 1em 0 0.5em; text-align: right; border: none;\">\n",
       "                0\n",
       "                \n",
       "                    &plusmn; 0.0000\n",
       "                \n",
       "            </td>\n",
       "            <td style=\"padding: 0 0.5em 0 0.5em; text-align: left; border: none;\">\n",
       "                opfType\n",
       "            </td>\n",
       "        </tr>\n",
       "    \n",
       "        <tr style=\"background-color: hsl(0, 100.00%, nan%); border: none;\">\n",
       "            <td style=\"padding: 0 1em 0 0.5em; text-align: right; border: none;\">\n",
       "                0\n",
       "                \n",
       "                    &plusmn; 0.0000\n",
       "                \n",
       "            </td>\n",
       "            <td style=\"padding: 0 0.5em 0 0.5em; text-align: left; border: none;\">\n",
       "                regionCode\n",
       "            </td>\n",
       "        </tr>\n",
       "    \n",
       "        <tr style=\"background-color: hsl(0, 100.00%, nan%); border: none;\">\n",
       "            <td style=\"padding: 0 1em 0 0.5em; text-align: right; border: none;\">\n",
       "                0\n",
       "                \n",
       "                    &plusmn; 0.0000\n",
       "                \n",
       "            </td>\n",
       "            <td style=\"padding: 0 0.5em 0 0.5em; text-align: left; border: none;\">\n",
       "                predecessors\n",
       "            </td>\n",
       "        </tr>\n",
       "    \n",
       "        <tr style=\"background-color: hsl(0, 100.00%, nan%); border: none;\">\n",
       "            <td style=\"padding: 0 1em 0 0.5em; text-align: right; border: none;\">\n",
       "                0\n",
       "                \n",
       "                    &plusmn; 0.0000\n",
       "                \n",
       "            </td>\n",
       "            <td style=\"padding: 0 0.5em 0 0.5em; text-align: left; border: none;\">\n",
       "                mainOkved\n",
       "            </td>\n",
       "        </tr>\n",
       "    \n",
       "        <tr style=\"background-color: hsl(0, 100.00%, nan%); border: none;\">\n",
       "            <td style=\"padding: 0 1em 0 0.5em; text-align: right; border: none;\">\n",
       "                0\n",
       "                \n",
       "                    &plusmn; 0.0000\n",
       "                \n",
       "            </td>\n",
       "            <td style=\"padding: 0 0.5em 0 0.5em; text-align: left; border: none;\">\n",
       "                addOkved\n",
       "            </td>\n",
       "        </tr>\n",
       "    \n",
       "    \n",
       "    </tbody>\n",
       "</table>\n",
       "    \n",
       "\n",
       "    \n",
       "\n",
       "\n",
       "    \n",
       "\n",
       "    \n",
       "\n",
       "    \n",
       "\n",
       "    \n",
       "\n",
       "    \n",
       "\n",
       "    \n",
       "\n",
       "\n",
       "\n"
      ],
      "text/plain": [
       "<IPython.core.display.HTML object>"
      ]
     },
     "execution_count": 37,
     "metadata": {},
     "output_type": "execute_result"
    }
   ],
   "source": [
    "#Вариант: ключевые признаки c кодированием\n",
    "\n",
    "#Создаем объект класса логистическая регрессия\n",
    "log_reg = linear_model.LogisticRegression(random_state=random_state, max_iter=2000)\n",
    "#Обучаем модель\n",
    "log_reg.fit(X_train_cod, y_train_cod)\n",
    "\n",
    "# прогноз\n",
    "y_pred = log_reg.predict(X_test_cod)\n",
    "y_pred_train = log_reg.predict(X_train_cod)\n",
    "\n",
    "# значение метрики\n",
    "precision = precision_score(y_test_cod, y_pred, pos_label=1)\n",
    "precision_train = precision_score(y_train_cod, y_pred_train, pos_label=1)\n",
    "print(\"Precision для класса 1 по тестовой выборке:\", round(precision,2))\n",
    "print(\"Precision для класса 1 по тренеровочной выборке:\", round(precision_train,2))\n",
    "\n",
    "#Определим важность признаков\n",
    "perm = PermutationImportance(log_reg, random_state=random_state).fit(X_test_cod,y_test_cod)\n",
    "eli5.show_weights(perm, feature_names = X_test_cod.columns.tolist())"
   ]
  },
  {
   "cell_type": "markdown",
   "metadata": {},
   "source": [
    "<center> РЕЗУЛЬТАТЫ C НАСТРОЙКАМИ"
   ]
  },
  {
   "cell_type": "code",
   "execution_count": 10,
   "metadata": {},
   "outputs": [],
   "source": [
    "#Параметры для логистической регрессии\n",
    "penalty_choice = ('l2', 'none')\n",
    "solver_choice = ('lbfgs', 'sag')\n",
    "C_choice = (0.05, 0.06)\n",
    "\n",
    "\n",
    "param_grid_lr = {'penalty': penalty_choice , # тип регуляризации\n",
    "              'solver': solver_choice, # алгоритм оптимизации\n",
    "               'C': C_choice # уровень силы регурялизации\n",
    "                }"
   ]
  },
  {
   "cell_type": "code",
   "execution_count": 11,
   "metadata": {},
   "outputs": [
    {
     "name": "stdout",
     "output_type": "stream",
     "text": [
      "CPU times: total: 2min 34s\n",
      "Wall time: 26min 44s\n",
      "Наилучшие значения гиперпараметров: {'C': 0.05, 'penalty': 'l2', 'solver': 'lbfgs'}\n",
      "Precision для класса 1 по тестовой выборке:: 0.55\n",
      "Precision для класса 1 по тренеровочной выборке: 0.53\n",
      "              precision    recall  f1-score   support\n",
      "\n",
      "           0       0.95      1.00      0.98    139805\n",
      "           1       0.55      0.04      0.07      6890\n",
      "\n",
      "    accuracy                           0.95    146695\n",
      "   macro avg       0.75      0.52      0.52    146695\n",
      "weighted avg       0.94      0.95      0.93    146695\n",
      "\n"
     ]
    }
   ],
   "source": [
    "#ЛОГИСТИЧЕСКАЯ РЕГРЕССИЯ + GridSearchCV\n",
    "\n",
    "grid_search = GridSearchCV(\n",
    "    estimator=linear_model.LogisticRegression(random_state=random_state, max_iter=2000), \n",
    "    param_grid=param_grid_lr, \n",
    "    cv=3, \n",
    "    n_jobs = -1\n",
    ")  \n",
    "%time grid_search.fit(X_train_cod, y_train_cod) \n",
    "\n",
    "# Получаем лучшую модель с лучшими гиперпараметрами\n",
    "best_model_log_reg = grid_search.best_estimator_\n",
    "\n",
    "# Получаем прогнозы на тестовой выборке\n",
    "y_pred_test_log_reg = best_model_log_reg.predict(X_test_cod)\n",
    "y_pred_train_log_reg = best_model_log_reg.predict(X_train_cod)\n",
    "\n",
    "print(\"Наилучшие значения гиперпараметров: {}\".format(grid_search.best_params_))\n",
    "\n",
    "print('Precision для класса 1 по тестовой выборке:: {:.2f}'.format(metrics.precision_score(y_test_cod, y_pred_test_log_reg, pos_label=1)))\n",
    "print('Precision для класса 1 по тренеровочной выборке: {:.2f}'.format(metrics.precision_score(y_train_cod, y_pred_train_log_reg, pos_label=1)))\n",
    "\n",
    "#Определим важность признаков\n",
    "perm = PermutationImportance(best_model_log_reg, random_state=random_state).fit(X_test_cod,y_test_cod)\n",
    "eli5.show_weights(perm, feature_names = X_test_cod.columns.tolist())"
   ]
  },
  {
   "cell_type": "markdown",
   "metadata": {},
   "source": [
    "### 7.4. Случайный лес"
   ]
  },
  {
   "cell_type": "markdown",
   "metadata": {},
   "source": [
    "Модедь \"Случайный лес\" на датасете без кодирования не предсказывает ни одного образца для расчета метрик.  \n",
    "Поэтому для создания модели используются данные с кодированием."
   ]
  },
  {
   "cell_type": "markdown",
   "metadata": {},
   "source": [
    "<center> РЕЗУЛЬТАТЫ БЕЗ ПРЕДВАРИТЕЛЬНЫХ НАСТРОЕК"
   ]
  },
  {
   "cell_type": "code",
   "execution_count": 6,
   "metadata": {},
   "outputs": [
    {
     "name": "stdout",
     "output_type": "stream",
     "text": [
      "Precision for class 1: 0.42773817239144524\n",
      "precision_train for class 1: 0.7418336752406501\n",
      "              precision    recall  f1-score   support\n",
      "\n",
      "           0       0.96      0.99      0.98    139805\n",
      "           1       0.43      0.10      0.16      6890\n",
      "\n",
      "    accuracy                           0.95    146695\n",
      "   macro avg       0.69      0.54      0.57    146695\n",
      "weighted avg       0.93      0.95      0.94    146695\n",
      "\n"
     ]
    }
   ],
   "source": [
    "# создаём объект класса RandomForestClassifier\n",
    "rf_clf = ensemble.RandomForestClassifier(\n",
    "    random_state=random_state #генератор случайных чисел\n",
    ")\n",
    "# обучаем модель \n",
    "rf_clf.fit(X_train_cod, y_train_cod)\n",
    "\n",
    "y_pred = rf_clf.predict(X_test_cod)\n",
    "y_pred_train = rf_clf.predict(X_train_cod)\n",
    "\n",
    "# выводим значения метрики\n",
    "precision = precision_score(y_test_cod, y_pred, pos_label=1)\n",
    "precision_train = precision_score(y_train_cod, y_pred_train, pos_label=1)\n",
    "print(\"Precision for class 1:\", precision)\n",
    "print(\"precision_train for class 1:\", precision_train)\n",
    "\n",
    "# Изучим среднее значение параметров максимальной глубины и листьев\n",
    "# получение списка деревьев случайного леса\n",
    "trees = rf_clf.estimators_\n",
    "# Получение глубины каждого дерева\n",
    "depths = [tree.tree_.max_depth for tree in trees]\n",
    "# получение количества листьев в каждом дереве\n",
    "leaves_counts = [tree.tree_.n_leaves for tree in trees]\n",
    "# средние значения параметров\n",
    "max_depth_mean = sum(depths)/len(depths)\n",
    "leaves_mean = sum(leaves_counts)/len(leaves_counts)\n",
    "print(f'Среднее значение глубины: {max_depth_mean}')\n",
    "print(f'Среднее значение количества листьев: {leaves_mean}')\n",
    "\n",
    "#Определим важность признаков\n",
    "perm = PermutationImportance(best_model_log_reg, random_state=random_state).fit(X_test_cod,y_test_cod)\n",
    "eli5.show_weights(perm, feature_names = X_test_cod.columns.tolist())"
   ]
  },
  {
   "cell_type": "markdown",
   "metadata": {},
   "source": [
    "<center> РЕЗУЛЬТАТЫ C НАСТРОЙКАМИ"
   ]
  },
  {
   "cell_type": "code",
   "execution_count": 14,
   "metadata": {},
   "outputs": [],
   "source": [
    "#Параметры для случайного леса\n",
    "param_grid_rfc = {'min_samples_leaf': list(np.linspace(10, 40, 4, dtype=int)),\n",
    "              'max_depth': list(np.linspace(8, 20, 4, dtype=int))\n",
    "                }"
   ]
  },
  {
   "cell_type": "code",
   "execution_count": 15,
   "metadata": {},
   "outputs": [],
   "source": [
    "#СЛУЧАЙНЫЕ ЛЕС + GridSearchCV\n",
    "            \n",
    "grid_search_tree = GridSearchCV(\n",
    "    estimator=ensemble.RandomForestClassifier(random_state=random_state, n_estimators = 50), \n",
    "    param_grid=param_grid_rfc, \n",
    "    cv=3, \n",
    "    n_jobs = -1\n",
    ")  \n",
    "%time grid_search_tree.fit(X_train_cod, y_train_cod) \n",
    "\n",
    "# получаем лучшую модель с лучшими гиперпараметрами\n",
    "best_model_rfc = grid_search.best_estimator_\n",
    "\n",
    "# получаем прогнозы на тестовой выборке\n",
    "y_pred_test_rfc = best_model_rfc.predict(X_test_cod)\n",
    "y_pred_train_rfc = best_model_rfc.predict(X_train_cod)\n",
    "\n",
    "print(\"Наилучшие значения гиперпараметров: {}\".format(grid_search.best_params_))\n",
    "\n",
    "print('Precision на тестовом наборе для класса 1: {:.2f}'.format(metrics.precision_score(y_test_cod, y_pred_test_rfc, pos_label=1)))\n",
    "print('Precision на тренеровочном наборе для класса 1: {:.2f}'.format(metrics.precision_score(y_train_cod, y_pred_train_rfc, pos_label=1)))"
   ]
  },
  {
   "cell_type": "code",
   "execution_count": null,
   "metadata": {},
   "outputs": [],
   "source": [
    "# Определим важность признаков двумя способами\n",
    "\n",
    "# способ 1: feature_importances_\n",
    "# Получаем значения важности признаков\n",
    "importances = best_model_rfc.feature_importances_\n",
    "# Создаем список признаков и их важностей\n",
    "features_importance = list(zip(X_train.columns, importances))\n",
    "# Сортируем список по важности признаков в порядке убывания\n",
    "features_importance.sort(key=lambda x: x[1], reverse=True)\n",
    "# Получаем десять лучших признаков\n",
    "top_features = [x[0] for x in features_importance[:11]]\n",
    "# Выводим результат\n",
    "print(\"Десять лучших признака:\", top_features)\n",
    "\n",
    "# способ 2: PermutationImportance\n",
    "perm = PermutationImportance(best_model_rfc, random_state=random_state).fit(X_test_cod,y_test_cod)\n",
    "eli5.show_weights(perm, feature_names = X_test_cod.columns.tolist())"
   ]
  }
 ],
 "metadata": {
  "kernelspec": {
   "display_name": "Python 3",
   "language": "python",
   "name": "python3"
  },
  "language_info": {
   "codemirror_mode": {
    "name": "ipython",
    "version": 3
   },
   "file_extension": ".py",
   "mimetype": "text/x-python",
   "name": "python",
   "nbconvert_exporter": "python",
   "pygments_lexer": "ipython3",
   "version": "3.9.10"
  }
 },
 "nbformat": 4,
 "nbformat_minor": 2
}
