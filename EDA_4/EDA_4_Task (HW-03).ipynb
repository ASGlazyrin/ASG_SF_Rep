{
 "cells": [
  {
   "attachments": {},
   "cell_type": "markdown",
   "metadata": {},
   "source": [
    "# Домашнее задание"
   ]
  },
  {
   "attachments": {},
   "cell_type": "markdown",
   "metadata": {},
   "source": [
    "Используя информацию по мидиям Петербурга и Магадана, которые представлены в виде двух массивов petersburg и magadan в разделе ANOVA тест, проверьте данные на нормальность и на наличие корреляции. Для этого объедините 2 массива в DataFrame. Обоснуйте выбор теста на корреляцию. Сделайте вывод по гипотезе.\n",
    " \n",
    " \n",
    "Также ответьте на вопрос:\n",
    "Какова разница в среднем размере мидии в зависимости от города-производителя. Обоснуйте выбор теста. Сделайте вывод по гипотезе."
   ]
  },
  {
   "cell_type": "code",
   "execution_count": 1,
   "metadata": {},
   "outputs": [],
   "source": [
    "import pandas as pd\n",
    "import numpy as np\n",
    "from scipy.stats import shapiro\n",
    "from scipy.stats import spearmanr\n",
    "from scipy.stats import ranksums"
   ]
  },
  {
   "cell_type": "code",
   "execution_count": 2,
   "metadata": {},
   "outputs": [],
   "source": [
    "#Исходные данные\n",
    "petersburg = [0.0974, 0.1352, 0.0817, 0.1016, 0.0968, 0.1064, 0.105]\n",
    "magadan = [0.1033, 0.0915, 0.0781, 0.0685, 0.0677, 0.0697, 0.0764, 0.0689]"
   ]
  },
  {
   "attachments": {},
   "cell_type": "markdown",
   "metadata": {},
   "source": [
    "### Объединение двух массивов"
   ]
  },
  {
   "cell_type": "code",
   "execution_count": 3,
   "metadata": {},
   "outputs": [
    {
     "data": {
      "text/html": [
       "<div>\n",
       "<style scoped>\n",
       "    .dataframe tbody tr th:only-of-type {\n",
       "        vertical-align: middle;\n",
       "    }\n",
       "\n",
       "    .dataframe tbody tr th {\n",
       "        vertical-align: top;\n",
       "    }\n",
       "\n",
       "    .dataframe thead th {\n",
       "        text-align: right;\n",
       "    }\n",
       "</style>\n",
       "<table border=\"1\" class=\"dataframe\">\n",
       "  <thead>\n",
       "    <tr style=\"text-align: right;\">\n",
       "      <th></th>\n",
       "      <th>petersburg</th>\n",
       "      <th>magadan</th>\n",
       "    </tr>\n",
       "  </thead>\n",
       "  <tbody>\n",
       "    <tr>\n",
       "      <th>0</th>\n",
       "      <td>0.0974</td>\n",
       "      <td>0.1033</td>\n",
       "    </tr>\n",
       "    <tr>\n",
       "      <th>1</th>\n",
       "      <td>0.1352</td>\n",
       "      <td>0.0915</td>\n",
       "    </tr>\n",
       "    <tr>\n",
       "      <th>2</th>\n",
       "      <td>0.0817</td>\n",
       "      <td>0.0781</td>\n",
       "    </tr>\n",
       "    <tr>\n",
       "      <th>3</th>\n",
       "      <td>0.1016</td>\n",
       "      <td>0.0685</td>\n",
       "    </tr>\n",
       "    <tr>\n",
       "      <th>4</th>\n",
       "      <td>0.0968</td>\n",
       "      <td>0.0677</td>\n",
       "    </tr>\n",
       "    <tr>\n",
       "      <th>5</th>\n",
       "      <td>0.1064</td>\n",
       "      <td>0.0697</td>\n",
       "    </tr>\n",
       "    <tr>\n",
       "      <th>6</th>\n",
       "      <td>0.1050</td>\n",
       "      <td>0.0764</td>\n",
       "    </tr>\n",
       "    <tr>\n",
       "      <th>7</th>\n",
       "      <td>NaN</td>\n",
       "      <td>0.0689</td>\n",
       "    </tr>\n",
       "  </tbody>\n",
       "</table>\n",
       "</div>"
      ],
      "text/plain": [
       "   petersburg  magadan\n",
       "0      0.0974   0.1033\n",
       "1      0.1352   0.0915\n",
       "2      0.0817   0.0781\n",
       "3      0.1016   0.0685\n",
       "4      0.0968   0.0677\n",
       "5      0.1064   0.0697\n",
       "6      0.1050   0.0764\n",
       "7         NaN   0.0689"
      ]
     },
     "metadata": {},
     "output_type": "display_data"
    }
   ],
   "source": [
    "#Так как длина массива \"magadan\" на один элемент больше, чем у \"petersburg\", добавим в список \"petersburg\" элемент \"NaN\"\n",
    "df_petersburg = petersburg.copy()\n",
    "df_petersburg.append(np.nan)\n",
    "\n",
    "#Объединим два массива в DataFrame\n",
    "data = pd.DataFrame({'petersburg': df_petersburg, 'magadan': magadan})\n",
    "display(data)"
   ]
  },
  {
   "attachments": {},
   "cell_type": "markdown",
   "metadata": {},
   "source": [
    "### Проверка данных на нормальность"
   ]
  },
  {
   "cell_type": "code",
   "execution_count": 4,
   "metadata": {},
   "outputs": [
    {
     "data": {
      "text/plain": [
       "\"Проверка данных массива 'petersburg'\""
      ]
     },
     "metadata": {},
     "output_type": "display_data"
    },
    {
     "data": {
      "text/plain": [
       "'p=0.242'"
      ]
     },
     "metadata": {},
     "output_type": "display_data"
    },
    {
     "data": {
      "text/plain": [
       "'Данные распределены нормально'"
      ]
     },
     "metadata": {},
     "output_type": "display_data"
    },
    {
     "data": {
      "text/plain": [
       "'-----------------'"
      ]
     },
     "metadata": {},
     "output_type": "display_data"
    },
    {
     "data": {
      "text/plain": [
       "\"Проверка данных массива 'magadan'\""
      ]
     },
     "metadata": {},
     "output_type": "display_data"
    },
    {
     "data": {
      "text/plain": [
       "'p=0.036'"
      ]
     },
     "metadata": {},
     "output_type": "display_data"
    },
    {
     "data": {
      "text/plain": [
       "'Данные не распределены нормально (мы отвергаем H0)'"
      ]
     },
     "metadata": {},
     "output_type": "display_data"
    }
   ],
   "source": [
    "#Формулирование гипотиз\n",
    "H0 = 'Данные распределены нормально'\n",
    "Ha = 'Данные не распределены нормально (мы отвергаем H0)'\n",
    "\n",
    "#Установим уровень значимости\n",
    "alpha = 0.05\n",
    "\n",
    "#Для проверки данных кажого массива на нормальность используем Тест Шапиро-Уилк, \n",
    "#так как Тест является надежным и количество данных небольшое\n",
    "\n",
    "#Проверка данных массива \"petersburg\"\n",
    "display(\"Проверка данных массива 'petersburg'\")\n",
    "_, p = shapiro(petersburg)\n",
    "display('p=%.3f' % p)\n",
    "if p > alpha:\n",
    "\tdisplay(H0)\n",
    "else:\n",
    "\tdisplay(Ha)\n",
    "\n",
    "#Проверка данных массива \"magadan\"\n",
    "display('-----------------')\n",
    "display(\"Проверка данных массива 'magadan'\")\n",
    "_, p = shapiro(magadan)\n",
    "display('p=%.3f' % p)\n",
    "if p > alpha:\n",
    "\tdisplay(H0)\n",
    "else:\n",
    "\tdisplay(Ha)"
   ]
  },
  {
   "attachments": {},
   "cell_type": "markdown",
   "metadata": {},
   "source": [
    "Вывод по проверке данных на нормальность:\n",
    "1. Данные массива \"petersburg\" распределены нормально\n",
    "2. Данные массива \"magadan\" не распределены нормально"
   ]
  },
  {
   "attachments": {},
   "cell_type": "markdown",
   "metadata": {},
   "source": [
    "### Тест на корреляцию"
   ]
  },
  {
   "attachments": {},
   "cell_type": "markdown",
   "metadata": {},
   "source": [
    "Так как переменные (размеры мидий) являются велечиной количественной, а данные одного из массивов не распределены нормально,\n",
    "данные на наличие корреляции будем проверять по Тесту Спирмена."
   ]
  },
  {
   "cell_type": "code",
   "execution_count": 5,
   "metadata": {},
   "outputs": [
    {
     "data": {
      "text/plain": [
       "'Величина коэффициента корреляции: 0.143'"
      ]
     },
     "metadata": {},
     "output_type": "display_data"
    },
    {
     "data": {
      "text/plain": [
       "'Величина p-value: 0.760'"
      ]
     },
     "metadata": {},
     "output_type": "display_data"
    },
    {
     "data": {
      "text/plain": [
       "'Отсутсвие зависимости между переменными в разных городах'"
      ]
     },
     "metadata": {},
     "output_type": "display_data"
    }
   ],
   "source": [
    "#Формулирование гипотиз\n",
    "H0 = 'Отсутсвие зависимости между переменными в разных городах'\n",
    "Ha = 'Есть зависимость между переменными в разных городах'\n",
    "\n",
    "#Установим уровень значимости\n",
    "alpha = 0.05\n",
    "\n",
    "corr, p = spearmanr(data['petersburg'], data['magadan'], nan_policy='omit')\n",
    "display('Величина коэффициента корреляции: %.3f' % corr)\n",
    "display('Величина p-value: %.3f' % p)\n",
    "if p > alpha:\n",
    "\tdisplay(H0)\n",
    "else:\n",
    "\tdisplay(Ha)\n"
   ]
  },
  {
   "attachments": {},
   "cell_type": "markdown",
   "metadata": {},
   "source": [
    "Вывод: Тест Спирмена показал очень слабую корреляцию. \n",
    "Мы не можем отвергнуть нулевую гипотезу: \"Отсутсвие зависимости между переменными в разных городах\""
   ]
  },
  {
   "attachments": {},
   "cell_type": "markdown",
   "metadata": {},
   "source": [
    "### Какова разница в среднем размере мидии в зависимости от города-производителя."
   ]
  },
  {
   "attachments": {},
   "cell_type": "markdown",
   "metadata": {},
   "source": [
    "Так как данные одного из массивов не распределены нормально, зависимая переменная (размер мидий) является количественной, а группы происходят из разных (двух) совокупностей, следовательно, мы используем тест \"Сумма рангов Уилкоксона\"."
   ]
  },
  {
   "cell_type": "code",
   "execution_count": 6,
   "metadata": {},
   "outputs": [
    {
     "data": {
      "text/plain": [
       "\"*** Результаты теста 'Сумма рангов Уилкоксона' ***\""
      ]
     },
     "metadata": {},
     "output_type": "display_data"
    },
    {
     "name": "stdout",
     "output_type": "stream",
     "text": [
      "0.008 <= 0.05. Мы отвергаем нулевую гипотезу. Есть значимая разница между размерами мидий в разных городах-производителях.\n"
     ]
    }
   ],
   "source": [
    "#Формулирование гипотиз\n",
    "H0 = 'Нет значимой разницы между размерами мидий в разных городах-производителях.'\n",
    "Ha = 'Есть значимая разница между размерами мидий в разных городах-производителях.'\n",
    "\n",
    "#Установим уровень значимости\n",
    "alpha = 0.05\n",
    "\n",
    "#Результаты независимого T-теста\n",
    "display(\"*** Результаты теста 'Сумма рангов Уилкоксона' ***\")\n",
    "test_results = ranksums(data['petersburg'], data['magadan'], nan_policy='omit')\n",
    "p = round(test_results[1],3)\n",
    "\n",
    "if p>alpha:\n",
    "    print(f\"{p} > {alpha}. Мы не можем отвергнуть нулевую гипотезу. {H0}\")\n",
    "else:\n",
    "    print(f\"{p} <= {alpha}. Мы отвергаем нулевую гипотезу. {Ha}\")"
   ]
  },
  {
   "attachments": {},
   "cell_type": "markdown",
   "metadata": {},
   "source": [
    "Вывод: Мы отвергаем нулевую гипотезу. Есть значимая разница между размерами мидий в разных городах-производителях."
   ]
  }
 ],
 "metadata": {
  "kernelspec": {
   "display_name": "Python 3",
   "language": "python",
   "name": "python3"
  },
  "language_info": {
   "codemirror_mode": {
    "name": "ipython",
    "version": 3
   },
   "file_extension": ".py",
   "mimetype": "text/x-python",
   "name": "python",
   "nbconvert_exporter": "python",
   "pygments_lexer": "ipython3",
   "version": "3.9.10"
  },
  "orig_nbformat": 4
 },
 "nbformat": 4,
 "nbformat_minor": 2
}
