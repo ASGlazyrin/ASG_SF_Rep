{
 "cells": [
  {
   "attachments": {},
   "cell_type": "markdown",
   "metadata": {},
   "source": [
    "## <center> ML-7. ПРОГНОЗИРОВАНИЕ БИОЛОГИЧЕСКОГО ОТВЕТА (HW-3)"
   ]
  },
  {
   "cell_type": "code",
   "execution_count": 154,
   "metadata": {},
   "outputs": [],
   "source": [
    "#импорт библиотек\n",
    "import numpy as np #для матричных вычислений\n",
    "import pandas as pd #для анализа и предобработки данных\n",
    "import matplotlib.pyplot as plt #для визуализации\n",
    "import seaborn as sns #для визуализации\n",
    "\n",
    "from sklearn import linear_model #линейные моделиё\n",
    "from sklearn import tree #деревья решений\n",
    "from sklearn import ensemble #ансамбли\n",
    "from sklearn import metrics #метрики\n",
    "from sklearn import preprocessing #предобработка\n",
    "from sklearn.model_selection import train_test_split #сплитование выборки\n",
    "\n",
    "%matplotlib inline\n",
    "plt.style.use('seaborn')\n",
    "\n",
    "from sklearn.model_selection import cross_val_score\n",
    "import hyperopt\n",
    "from hyperopt import hp, fmin, tpe, Trials\n",
    "\n",
    "import warnings\n",
    "warnings.filterwarnings(\"ignore\")"
   ]
  },
  {
   "cell_type": "code",
   "execution_count": 155,
   "metadata": {},
   "outputs": [
    {
     "data": {
      "text/html": [
       "<div>\n",
       "<style scoped>\n",
       "    .dataframe tbody tr th:only-of-type {\n",
       "        vertical-align: middle;\n",
       "    }\n",
       "\n",
       "    .dataframe tbody tr th {\n",
       "        vertical-align: top;\n",
       "    }\n",
       "\n",
       "    .dataframe thead th {\n",
       "        text-align: right;\n",
       "    }\n",
       "</style>\n",
       "<table border=\"1\" class=\"dataframe\">\n",
       "  <thead>\n",
       "    <tr style=\"text-align: right;\">\n",
       "      <th></th>\n",
       "      <th>Activity</th>\n",
       "      <th>D1</th>\n",
       "      <th>D2</th>\n",
       "      <th>D3</th>\n",
       "      <th>D4</th>\n",
       "      <th>D5</th>\n",
       "      <th>D6</th>\n",
       "      <th>D7</th>\n",
       "      <th>D8</th>\n",
       "      <th>D9</th>\n",
       "      <th>...</th>\n",
       "      <th>D1767</th>\n",
       "      <th>D1768</th>\n",
       "      <th>D1769</th>\n",
       "      <th>D1770</th>\n",
       "      <th>D1771</th>\n",
       "      <th>D1772</th>\n",
       "      <th>D1773</th>\n",
       "      <th>D1774</th>\n",
       "      <th>D1775</th>\n",
       "      <th>D1776</th>\n",
       "    </tr>\n",
       "  </thead>\n",
       "  <tbody>\n",
       "    <tr>\n",
       "      <th>0</th>\n",
       "      <td>1</td>\n",
       "      <td>0.000000</td>\n",
       "      <td>0.497009</td>\n",
       "      <td>0.10</td>\n",
       "      <td>0.0</td>\n",
       "      <td>0.132956</td>\n",
       "      <td>0.678031</td>\n",
       "      <td>0.273166</td>\n",
       "      <td>0.585445</td>\n",
       "      <td>0.743663</td>\n",
       "      <td>...</td>\n",
       "      <td>0</td>\n",
       "      <td>0</td>\n",
       "      <td>0</td>\n",
       "      <td>0</td>\n",
       "      <td>0</td>\n",
       "      <td>0</td>\n",
       "      <td>0</td>\n",
       "      <td>0</td>\n",
       "      <td>0</td>\n",
       "      <td>0</td>\n",
       "    </tr>\n",
       "    <tr>\n",
       "      <th>1</th>\n",
       "      <td>1</td>\n",
       "      <td>0.366667</td>\n",
       "      <td>0.606291</td>\n",
       "      <td>0.05</td>\n",
       "      <td>0.0</td>\n",
       "      <td>0.111209</td>\n",
       "      <td>0.803455</td>\n",
       "      <td>0.106105</td>\n",
       "      <td>0.411754</td>\n",
       "      <td>0.836582</td>\n",
       "      <td>...</td>\n",
       "      <td>1</td>\n",
       "      <td>1</td>\n",
       "      <td>1</td>\n",
       "      <td>1</td>\n",
       "      <td>0</td>\n",
       "      <td>1</td>\n",
       "      <td>0</td>\n",
       "      <td>0</td>\n",
       "      <td>1</td>\n",
       "      <td>0</td>\n",
       "    </tr>\n",
       "    <tr>\n",
       "      <th>2</th>\n",
       "      <td>1</td>\n",
       "      <td>0.033300</td>\n",
       "      <td>0.480124</td>\n",
       "      <td>0.00</td>\n",
       "      <td>0.0</td>\n",
       "      <td>0.209791</td>\n",
       "      <td>0.610350</td>\n",
       "      <td>0.356453</td>\n",
       "      <td>0.517720</td>\n",
       "      <td>0.679051</td>\n",
       "      <td>...</td>\n",
       "      <td>0</td>\n",
       "      <td>0</td>\n",
       "      <td>0</td>\n",
       "      <td>0</td>\n",
       "      <td>0</td>\n",
       "      <td>0</td>\n",
       "      <td>0</td>\n",
       "      <td>0</td>\n",
       "      <td>0</td>\n",
       "      <td>0</td>\n",
       "    </tr>\n",
       "    <tr>\n",
       "      <th>3</th>\n",
       "      <td>1</td>\n",
       "      <td>0.000000</td>\n",
       "      <td>0.538825</td>\n",
       "      <td>0.00</td>\n",
       "      <td>0.5</td>\n",
       "      <td>0.196344</td>\n",
       "      <td>0.724230</td>\n",
       "      <td>0.235606</td>\n",
       "      <td>0.288764</td>\n",
       "      <td>0.805110</td>\n",
       "      <td>...</td>\n",
       "      <td>0</td>\n",
       "      <td>0</td>\n",
       "      <td>0</td>\n",
       "      <td>0</td>\n",
       "      <td>0</td>\n",
       "      <td>0</td>\n",
       "      <td>0</td>\n",
       "      <td>0</td>\n",
       "      <td>0</td>\n",
       "      <td>0</td>\n",
       "    </tr>\n",
       "    <tr>\n",
       "      <th>4</th>\n",
       "      <td>0</td>\n",
       "      <td>0.100000</td>\n",
       "      <td>0.517794</td>\n",
       "      <td>0.00</td>\n",
       "      <td>0.0</td>\n",
       "      <td>0.494734</td>\n",
       "      <td>0.781422</td>\n",
       "      <td>0.154361</td>\n",
       "      <td>0.303809</td>\n",
       "      <td>0.812646</td>\n",
       "      <td>...</td>\n",
       "      <td>0</td>\n",
       "      <td>0</td>\n",
       "      <td>0</td>\n",
       "      <td>0</td>\n",
       "      <td>0</td>\n",
       "      <td>0</td>\n",
       "      <td>0</td>\n",
       "      <td>0</td>\n",
       "      <td>0</td>\n",
       "      <td>0</td>\n",
       "    </tr>\n",
       "  </tbody>\n",
       "</table>\n",
       "<p>5 rows × 1777 columns</p>\n",
       "</div>"
      ],
      "text/plain": [
       "   Activity        D1        D2    D3   D4        D5        D6        D7  \\\n",
       "0         1  0.000000  0.497009  0.10  0.0  0.132956  0.678031  0.273166   \n",
       "1         1  0.366667  0.606291  0.05  0.0  0.111209  0.803455  0.106105   \n",
       "2         1  0.033300  0.480124  0.00  0.0  0.209791  0.610350  0.356453   \n",
       "3         1  0.000000  0.538825  0.00  0.5  0.196344  0.724230  0.235606   \n",
       "4         0  0.100000  0.517794  0.00  0.0  0.494734  0.781422  0.154361   \n",
       "\n",
       "         D8        D9  ...  D1767  D1768  D1769  D1770  D1771  D1772  D1773  \\\n",
       "0  0.585445  0.743663  ...      0      0      0      0      0      0      0   \n",
       "1  0.411754  0.836582  ...      1      1      1      1      0      1      0   \n",
       "2  0.517720  0.679051  ...      0      0      0      0      0      0      0   \n",
       "3  0.288764  0.805110  ...      0      0      0      0      0      0      0   \n",
       "4  0.303809  0.812646  ...      0      0      0      0      0      0      0   \n",
       "\n",
       "   D1774  D1775  D1776  \n",
       "0      0      0      0  \n",
       "1      0      1      0  \n",
       "2      0      0      0  \n",
       "3      0      0      0  \n",
       "4      0      0      0  \n",
       "\n",
       "[5 rows x 1777 columns]"
      ]
     },
     "execution_count": 155,
     "metadata": {},
     "output_type": "execute_result"
    }
   ],
   "source": [
    "data = pd.read_csv('_train_sem09 (1).csv')\n",
    "data.head()"
   ]
  },
  {
   "cell_type": "code",
   "execution_count": 156,
   "metadata": {},
   "outputs": [],
   "source": [
    "#Создаем матрицу наблюдений X и вектор ответов y\n",
    "X = data.drop(['Activity'], axis=1)\n",
    "y = data['Activity']\n",
    "\n",
    "#Разделяем выборку на тренировочную и тестовую в соотношении 80/20. Для сохранения соотношений целевого признака используем параметр stratify (стратифицированное разбиение).\n",
    "X_train, X_test, y_train, y_test = train_test_split(X, y, stratify=y, random_state = 1, test_size = 0.2)"
   ]
  },
  {
   "attachments": {},
   "cell_type": "markdown",
   "metadata": {},
   "source": [
    "<center> РЕЗУЛЬТАТЫ БЕЗ ПРЕДВАРИТЕЛЬНЫХ НАСТРОЕК"
   ]
  },
  {
   "cell_type": "code",
   "execution_count": 157,
   "metadata": {},
   "outputs": [],
   "source": [
    "# зафксируем random_state\n",
    "random_state = 42\n",
    "# зафксируем max_iter\n",
    "max_iter = 50"
   ]
  },
  {
   "cell_type": "code",
   "execution_count": 158,
   "metadata": {},
   "outputs": [
    {
     "name": "stdout",
     "output_type": "stream",
     "text": [
      "F1 score: 0.79\n"
     ]
    }
   ],
   "source": [
    "#Создаем объект класса логистическая регрессия\n",
    "log_reg = linear_model.LogisticRegression(random_state=random_state, max_iter = max_iter)\n",
    "#Обучаем модель\n",
    "log_reg.fit(X_train, y_train)\n",
    "y_test_pred = log_reg.predict(X_test)\n",
    "print('F1 score: {:.2f}'.format(metrics.f1_score(y_test, y_test_pred)))"
   ]
  },
  {
   "cell_type": "code",
   "execution_count": 159,
   "metadata": {},
   "outputs": [
    {
     "name": "stdout",
     "output_type": "stream",
     "text": [
      "F1 score: 0.81\n"
     ]
    }
   ],
   "source": [
    "#Создаём объект класса RandomForestClassifier\n",
    "rf_clf = ensemble.RandomForestClassifier(\n",
    "    random_state=random_state #генератор случайных чисел\n",
    ")\n",
    "#Обучаем модель \n",
    "rf_clf.fit(X_train, y_train)\n",
    "y_test_pred = rf_clf.predict(X_test)\n",
    "print('F1 score: {:.2f}'.format(metrics.f1_score(y_test, y_test_pred)))"
   ]
  },
  {
   "attachments": {},
   "cell_type": "markdown",
   "metadata": {},
   "source": [
    "<center> ПАРАМЕТРЫ"
   ]
  },
  {
   "cell_type": "code",
   "execution_count": 160,
   "metadata": {},
   "outputs": [],
   "source": [
    "#Параметры для логистической регрессии\n",
    "penalty_choice = ('l2', 'none')\n",
    "solver_choice = ('lbfgs', 'sag')\n",
    "C_choice = (0.1, 0.5, 1)\n",
    "\n",
    "param_grid_lr = {'penalty': penalty_choice , # тип регуляризации\n",
    "              'solver': solver_choice, # алгоритм оптимизации\n",
    "               'C': C_choice # уровень силы регурялизации\n",
    "                }\n",
    "\n",
    "space_lr = {'penalty': hp.choice('penalty', penalty_choice) , # тип регуляризации\n",
    "          'solver': hp.choice('solver', solver_choice), # алгоритм оптимизации\n",
    "          'C': hp.choice('C', C_choice) # уровень силы регурялизации\n",
    "          }\n",
    "\n",
    "#Параметры для сдучайного леса\n",
    "param_grid_rfc = {'min_samples_leaf': list(np.linspace(5, 100, 10, dtype=int)),\n",
    "              'max_depth': list(np.linspace(1, 30, 10, dtype=int)),\n",
    "              'criterion':['entropy','gini']\n",
    "                }\n",
    "\n",
    "criterion_choice = ('entropy','gini')\n",
    "\n",
    "space_rfc={'n_estimators': hp.quniform('n_estimators', 100, 200, 1),\n",
    "      'max_depth' : hp.quniform('max_depth', 1, 30, 1),\n",
    "      'min_samples_leaf': hp.quniform('min_samples_leaf', 5, 100, 10),\n",
    "      'criterion': hp.choice('criterion', criterion_choice)\n",
    "      }"
   ]
  },
  {
   "attachments": {},
   "cell_type": "markdown",
   "metadata": {},
   "source": [
    "### <center> **GridSearchCV**"
   ]
  },
  {
   "cell_type": "code",
   "execution_count": 161,
   "metadata": {},
   "outputs": [],
   "source": [
    "from sklearn.model_selection import GridSearchCV"
   ]
  },
  {
   "cell_type": "code",
   "execution_count": 162,
   "metadata": {},
   "outputs": [
    {
     "name": "stdout",
     "output_type": "stream",
     "text": [
      "CPU times: total: 1.67 s\n",
      "Wall time: 23.9 s\n",
      "f1_score на тестовом наборе: 0.79\n",
      "Наилучшие значения гиперпараметров: {'C': 0.1, 'penalty': 'l2', 'solver': 'lbfgs'}\n"
     ]
    }
   ],
   "source": [
    "#ЛОГИСТИЧЕСКАЯ РЕГРЕССИЯ + GridSearchCV\n",
    "\n",
    "grid_search = GridSearchCV(\n",
    "    estimator=linear_model.LogisticRegression(random_state=random_state, max_iter=max_iter), \n",
    "    param_grid=param_grid_lr, \n",
    "    cv=5, \n",
    "    n_jobs = -1\n",
    ")  \n",
    "%time grid_search.fit(X_train, y_train) \n",
    "y_test_pred = grid_search.predict(X_test)\n",
    "print('f1_score на тестовом наборе: {:.2f}'.format(metrics.f1_score(y_test, y_test_pred)))\n",
    "print(\"Наилучшие значения гиперпараметров: {}\".format(grid_search.best_params_))"
   ]
  },
  {
   "cell_type": "code",
   "execution_count": 163,
   "metadata": {},
   "outputs": [
    {
     "name": "stdout",
     "output_type": "stream",
     "text": [
      "CPU times: total: 8.62 s\n",
      "Wall time: 3min 26s\n",
      "f1_score на тестовом наборе: 0.82\n",
      "Наилучшие значения гиперпараметров: {'criterion': 'entropy', 'max_depth': 13, 'min_samples_leaf': 5}\n"
     ]
    }
   ],
   "source": [
    "#СЛУЧАЙНЫЕ ЛЕС + GridSearchCV\n",
    "            \n",
    "grid_search_tree = GridSearchCV(\n",
    "    estimator=ensemble.RandomForestClassifier(random_state=random_state), \n",
    "    param_grid=param_grid_rfc, \n",
    "    cv=5, \n",
    "    n_jobs = -1\n",
    ")  \n",
    "%time grid_search_tree.fit(X_train, y_train) \n",
    "y_test_pred = grid_search_tree.predict(X_test)\n",
    "print('f1_score на тестовом наборе: {:.2f}'.format(metrics.f1_score(y_test, y_test_pred)))\n",
    "print(\"Наилучшие значения гиперпараметров: {}\".format(grid_search_tree.best_params_))"
   ]
  },
  {
   "attachments": {},
   "cell_type": "markdown",
   "metadata": {},
   "source": [
    "### <center> **RANDOMIZEDSEARCHCV**"
   ]
  },
  {
   "cell_type": "code",
   "execution_count": 164,
   "metadata": {},
   "outputs": [],
   "source": [
    "from sklearn.model_selection import RandomizedSearchCV"
   ]
  },
  {
   "cell_type": "code",
   "execution_count": 165,
   "metadata": {},
   "outputs": [
    {
     "name": "stdout",
     "output_type": "stream",
     "text": [
      "CPU times: total: 1.78 s\n",
      "Wall time: 21.4 s\n",
      "f1_score на тестовом наборе: 0.79\n",
      "Наилучшие значения гиперпараметров: {'solver': 'lbfgs', 'penalty': 'l2', 'C': 0.1}\n"
     ]
    }
   ],
   "source": [
    "#ЛОГИСТИЧЕСКАЯ РЕГРЕССИЯ + RandomizedSearchCV\n",
    "\n",
    "random_search = RandomizedSearchCV(\n",
    "    estimator=linear_model.LogisticRegression(random_state=random_state, max_iter=max_iter), \n",
    "    param_distributions=param_grid_lr, \n",
    "    cv=5, \n",
    "    n_iter = 10, \n",
    "    n_jobs = -1\n",
    ")\n",
    "%time random_search.fit(X_train, y_train) \n",
    "y_test_pred = random_search.predict(X_test)\n",
    "print('f1_score на тестовом наборе: {:.2f}'.format(metrics.f1_score(y_test, y_test_pred)))\n",
    "print(\"Наилучшие значения гиперпараметров: {}\".format(random_search.best_params_))"
   ]
  },
  {
   "cell_type": "code",
   "execution_count": 166,
   "metadata": {},
   "outputs": [
    {
     "name": "stdout",
     "output_type": "stream",
     "text": [
      "CPU times: total: 1.58 s\n",
      "Wall time: 12.5 s\n",
      "f1_score на тестовом наборе: 0.79\n",
      "Наилучшие значения гиперпараметров: {'min_samples_leaf': 36, 'max_depth': 20, 'criterion': 'entropy'}\n"
     ]
    }
   ],
   "source": [
    "#СЛУЧАЙНЫЕ ЛЕС + RandomizedSearchCV\n",
    "            \n",
    "random_search_tree = RandomizedSearchCV(\n",
    "    estimator=ensemble.RandomForestClassifier(random_state=random_state), \n",
    "    param_distributions=param_grid_rfc, \n",
    "    cv=5,\n",
    "    n_iter = 10,\n",
    "    n_jobs = -1\n",
    ")  \n",
    "%time random_search_tree.fit(X_train, y_train) \n",
    "y_test_pred = random_search_tree.predict(X_test)\n",
    "print('f1_score на тестовом наборе: {:.2f}'.format(metrics.f1_score(y_test, y_test_pred)))\n",
    "print(\"Наилучшие значения гиперпараметров: {}\".format(random_search_tree.best_params_))"
   ]
  },
  {
   "attachments": {},
   "cell_type": "markdown",
   "metadata": {},
   "source": [
    "### <center> **HYPEROPT**"
   ]
  },
  {
   "attachments": {},
   "cell_type": "markdown",
   "metadata": {},
   "source": [
    "ЛОГИСТИЧЕСКАЯ РЕГРЕССИЯ + HYPEROPT"
   ]
  },
  {
   "cell_type": "code",
   "execution_count": 167,
   "metadata": {},
   "outputs": [],
   "source": [
    "def hyperopt_lr(params, cv=5, X=X_train, y=y_train, random_state=random_state):\n",
    "    # функция получает комбинацию гиперпараметров в \"params\"\n",
    "    params = {'penalty': params['penalty'], \n",
    "            'solver': params['solver'],\n",
    "            'C': params['C']             \n",
    "            }\n",
    "  \n",
    "    # используем эту комбинацию для построения модели\n",
    "    model_lr = linear_model.LogisticRegression(**params, random_state=random_state, max_iter=max_iter)\n",
    "\n",
    "    # обучаем модель\n",
    "    model_lr.fit(X, y)\n",
    "    score = metrics.f1_score(y, model_lr.predict(X))\n",
    "    \n",
    "    # обучать модель можно также с помощью кросс-валидации\n",
    "    # применим  cross validation с тем же количеством фолдов\n",
    "    # score = cross_val_score(model, X, y, cv=cv, scoring=\"f1\", n_jobs=-1).mean()\n",
    "\n",
    "    # метрику необходимо минимизировать, поэтому ставим знак минус\n",
    "    return -score"
   ]
  },
  {
   "cell_type": "code",
   "execution_count": 168,
   "metadata": {},
   "outputs": [
    {
     "name": "stdout",
     "output_type": "stream",
     "text": [
      "  0%|          | 0/20 [00:00<?, ?trial/s, best loss=?]"
     ]
    },
    {
     "name": "stdout",
     "output_type": "stream",
     "text": [
      "100%|██████████| 20/20 [00:31<00:00,  1.57s/trial, best loss: -0.8775698066891684]\n",
      "Наилучшие значения гиперпараметров - penalty: none, solver: lbfgs, C: 0.5\n",
      "CPU times: total: 41.5 s\n",
      "Wall time: 31.5 s\n"
     ]
    }
   ],
   "source": [
    "%%time\n",
    "\n",
    "trials_lr = Trials() # используется для логирования результатов\n",
    "\n",
    "best=fmin(hyperopt_lr, # наша функция \n",
    "          space=space_lr, # пространство гиперпараметров\n",
    "          algo=tpe.suggest, # алгоритм оптимизации, установлен по умолчанию, задавать необязательно\n",
    "          max_evals=20, # максимальное количество итераций\n",
    "          trials=trials_lr, # логирование результатов\n",
    "          rstate=np.random.default_rng(random_state)# фиксируем для повторяемости результата\n",
    "         )\n",
    "print(\"Наилучшие значения гиперпараметров - penalty: {}, solver: {}, C: {}\".format(\n",
    "                                            penalty_choice[best['penalty']], solver_choice[best['solver']], C_choice[best['C']]))"
   ]
  },
  {
   "cell_type": "code",
   "execution_count": 169,
   "metadata": {},
   "outputs": [
    {
     "name": "stdout",
     "output_type": "stream",
     "text": [
      "f1_score на тестовом наборе: 0.78\n"
     ]
    }
   ],
   "source": [
    "# рассчитаем точность для тестовой выборки\n",
    "model_lr = linear_model.LogisticRegression(\n",
    "    random_state=random_state,\n",
    "    max_iter=max_iter,     \n",
    "    penalty=penalty_choice[best['penalty']],\n",
    "    solver=solver_choice[best['solver']],\n",
    "    C=C_choice[best['C']]\n",
    ")\n",
    "model_lr.fit(X_train, y_train)\n",
    "y_test_pred = model_lr.predict(X_test)\n",
    "print('f1_score на тестовом наборе: {:.2f}'.format(metrics.f1_score(y_test, y_test_pred)))"
   ]
  },
  {
   "attachments": {},
   "cell_type": "markdown",
   "metadata": {},
   "source": [
    "ЛОГИСТИЧЕСКАЯ РЕГРЕССИЯ + HYPEROPT + cross validation"
   ]
  },
  {
   "cell_type": "code",
   "execution_count": 170,
   "metadata": {},
   "outputs": [],
   "source": [
    "def hyperopt_lr_cv(params, cv=5, X=X_train, y=y_train, random_state=random_state):\n",
    "    # функция получает комбинацию гиперпараметров в \"params\"\n",
    "    params = {'penalty': params['penalty'], \n",
    "             'solver': params['solver'],\n",
    "             'C': params['C']             \n",
    "              }\n",
    "  \n",
    "    # используем эту комбинацию для построения модели\n",
    "    model_lr_cv = linear_model.LogisticRegression(**params, random_state=random_state, max_iter=max_iter)\n",
    "\n",
    "    # обучаем модель\n",
    "    model_lr_cv.fit(X, y)\n",
    "    \n",
    "    # применим  cross validation с тем же количеством фолдов\n",
    "    score = cross_val_score(model_lr_cv, X, y, cv=cv, scoring=\"f1\", n_jobs=-1).mean()\n",
    "\n",
    "    # метрику необходимо минимизировать, поэтому ставим знак минус\n",
    "    return -score"
   ]
  },
  {
   "cell_type": "code",
   "execution_count": 171,
   "metadata": {},
   "outputs": [
    {
     "name": "stdout",
     "output_type": "stream",
     "text": [
      "  0%|          | 0/20 [00:00<?, ?trial/s, best loss=?]"
     ]
    },
    {
     "name": "stdout",
     "output_type": "stream",
     "text": [
      "100%|██████████| 20/20 [01:27<00:00,  4.39s/trial, best loss: -0.7818644393726433]\n",
      "Наилучшие значения гиперпараметров - penalty: l2, solver: lbfgs, C: 0.1\n",
      "CPU times: total: 40.8 s\n",
      "Wall time: 1min 27s\n"
     ]
    }
   ],
   "source": [
    "%%time\n",
    "\n",
    "trials_lr_cv = Trials() # используется для логирования результатов\n",
    "\n",
    "best=fmin(hyperopt_lr_cv, # наша функция \n",
    "          space=space_lr, # пространство гиперпараметров\n",
    "          algo=tpe.suggest, # алгоритм оптимизации, установлен по умолчанию, задавать необязательно\n",
    "          max_evals=20, # максимальное количество итераций\n",
    "          trials=trials_lr_cv, # логирование результатов\n",
    "          rstate=np.random.default_rng(random_state)# фиксируем для повторяемости результата\n",
    "         )\n",
    "print(\"Наилучшие значения гиперпараметров - penalty: {}, solver: {}, C: {}\".format(penalty_choice[best['penalty']], solver_choice[best['solver']], C_choice[best['C']]))"
   ]
  },
  {
   "cell_type": "code",
   "execution_count": 172,
   "metadata": {},
   "outputs": [
    {
     "name": "stdout",
     "output_type": "stream",
     "text": [
      "f1_score на тестовом наборе: 0.79\n"
     ]
    }
   ],
   "source": [
    "# рассчитаем точность для тестовой выборки\n",
    "model_lr_cv = linear_model.LogisticRegression(\n",
    "    random_state=random_state,\n",
    "    max_iter=max_iter,     \n",
    "    penalty=penalty_choice[best['penalty']],\n",
    "    solver=solver_choice[best['solver']],\n",
    "    C=C_choice[best['C']]\n",
    ")\n",
    "model_lr_cv.fit(X_train, y_train)\n",
    "y_test_pred = model_lr_cv.predict(X_test)\n",
    "print('f1_score на тестовом наборе: {:.2f}'.format(metrics.f1_score(y_test, y_test_pred)))"
   ]
  },
  {
   "attachments": {},
   "cell_type": "markdown",
   "metadata": {},
   "source": [
    "СЛУЧАЙНЫЕ ЛЕС + HYPEROPT"
   ]
  },
  {
   "cell_type": "code",
   "execution_count": 173,
   "metadata": {},
   "outputs": [],
   "source": [
    "# зафксируем random_state\n",
    "def hyperopt_rf(params, cv=5, X=X_train, y=y_train, random_state=random_state):\n",
    "    # функция получает комбинацию гиперпараметров в \"params\"\n",
    "    params = {'n_estimators': int(params['n_estimators']), \n",
    "              'max_depth': int(params['max_depth']), \n",
    "             'min_samples_leaf': int(params['min_samples_leaf']),\n",
    "             'criterion': params['criterion']             \n",
    "              }\n",
    "  \n",
    "    # используем эту комбинацию для построения модели\n",
    "    model_rfc = ensemble.RandomForestClassifier(**params, random_state=random_state)\n",
    "\n",
    "    # обучаем модель\n",
    "    model_rfc.fit(X, y)\n",
    "    score = metrics.f1_score(y, model_rfc.predict(X))\n",
    "    \n",
    "    # обучать модель можно также с помощью кросс-валидации\n",
    "    # применим  cross validation с тем же количеством фолдов\n",
    "    # score = cross_val_score(model, X, y, cv=cv, scoring=\"f1\", n_jobs=-1).mean()\n",
    "\n",
    "    # метрику необходимо минимизировать, поэтому ставим знак минус\n",
    "    return -score"
   ]
  },
  {
   "cell_type": "code",
   "execution_count": 174,
   "metadata": {},
   "outputs": [
    {
     "name": "stdout",
     "output_type": "stream",
     "text": [
      "  0%|          | 0/20 [00:00<?, ?trial/s, best loss=?]"
     ]
    },
    {
     "name": "stdout",
     "output_type": "stream",
     "text": [
      "100%|██████████| 20/20 [00:31<00:00,  1.57s/trial, best loss: -0.9022970903522205]\n",
      "Наилучшие значения гиперпараметров - criterion: gini, max_depth: 19.0, min_samples_leaf: 10.0, n_estimators: 115.0\n",
      "CPU times: total: 31.2 s\n",
      "Wall time: 31.4 s\n"
     ]
    }
   ],
   "source": [
    "%%time\n",
    "\n",
    "trials_rfc = Trials() # используется для логирования результатов\n",
    "\n",
    "best=fmin(hyperopt_rf, # наша функция \n",
    "          space=space_rfc, # пространство гиперпараметров\n",
    "          algo=tpe.suggest, # алгоритм оптимизации, установлен по умолчанию, задавать необязательно\n",
    "          max_evals=20, # максимальное количество итераций\n",
    "          trials=trials_rfc, # логирование результатов\n",
    "          rstate=np.random.default_rng(random_state)# фиксируем для повторяемости результата\n",
    "         )\n",
    "print(\"Наилучшие значения гиперпараметров - criterion: {}, max_depth: {}, min_samples_leaf: {}, n_estimators: {}\".format(\n",
    "                                            criterion_choice[best['criterion']], best['max_depth'], best['min_samples_leaf'], best['n_estimators']))"
   ]
  },
  {
   "cell_type": "code",
   "execution_count": 175,
   "metadata": {},
   "outputs": [
    {
     "name": "stdout",
     "output_type": "stream",
     "text": [
      "f1_score на тестовом наборе: 0.82\n"
     ]
    }
   ],
   "source": [
    "# рассчитаем точность для тестовой выборки\n",
    "model_rfc = ensemble.RandomForestClassifier(\n",
    "    random_state=random_state, \n",
    "    n_estimators=int(best['n_estimators']),\n",
    "    max_depth=int(best['max_depth']),\n",
    "    min_samples_leaf=int(best['min_samples_leaf']),\n",
    "    criterion=criterion_choice[best['criterion']]\n",
    ")\n",
    "model_rfc.fit(X_train, y_train)\n",
    "y_test_pred = model_rfc.predict(X_test)\n",
    "print('f1_score на тестовом наборе: {:.2f}'.format(metrics.f1_score(y_test, y_test_pred)))"
   ]
  },
  {
   "attachments": {},
   "cell_type": "markdown",
   "metadata": {},
   "source": [
    "СЛУЧАЙНЫЕ ЛЕС + HYPEROPT + cross validation"
   ]
  },
  {
   "cell_type": "code",
   "execution_count": 176,
   "metadata": {},
   "outputs": [],
   "source": [
    "# зафксируем random_state\n",
    "def c(params, cv=5, X=X_train, y=y_train, random_state=random_state):\n",
    "    # функция получает комбинацию гиперпараметров в \"params\"\n",
    "    params = {'n_estimators': int(params['n_estimators']), \n",
    "              'max_depth': int(params['max_depth']), \n",
    "             'min_samples_leaf': int(params['min_samples_leaf']),\n",
    "             'criterion': params['criterion']             \n",
    "              }\n",
    "  \n",
    "    # используем эту комбинацию для построения модели\n",
    "    model_rfc_cv = ensemble.RandomForestClassifier(**params, random_state=random_state)\n",
    "\n",
    "    # обучаем модель\n",
    "    model_rfc_cv.fit(X, y)\n",
    "    \n",
    "    # применим  cross validation с тем же количеством фолдов\n",
    "    score = cross_val_score(model_rfc_cv, X, y, cv=cv, scoring=\"f1\", n_jobs=-1).mean()\n",
    "\n",
    "    # метрику необходимо минимизировать, поэтому ставим знак минус\n",
    "    return -score"
   ]
  },
  {
   "cell_type": "code",
   "execution_count": 177,
   "metadata": {},
   "outputs": [
    {
     "name": "stdout",
     "output_type": "stream",
     "text": [
      "100%|██████████| 20/20 [01:10<00:00,  3.54s/trial, best loss: -0.7889298298777034]\n",
      "Наилучшие значения гиперпараметров - criterion: gini, max_depth: 19.0, min_samples_leaf: 10.0, n_estimators: 115.0\n",
      "CPU times: total: 30.8 s\n",
      "Wall time: 1min 10s\n"
     ]
    }
   ],
   "source": [
    "%%time\n",
    "\n",
    "trials_rfc_cv = Trials() # используется для логирования результатов\n",
    "\n",
    "best=fmin(hyperopt_rf_cv, # наша функция \n",
    "          space=space_rfc, # пространство гиперпараметров\n",
    "          algo=tpe.suggest, # алгоритм оптимизации, установлен по умолчанию, задавать необязательно\n",
    "          max_evals=20, # максимальное количество итераций\n",
    "          trials=trials_rfc_cv, # логирование результатов\n",
    "          rstate=np.random.default_rng(random_state)# фиксируем для повторяемости результата\n",
    "         )\n",
    "print(\"Наилучшие значения гиперпараметров - criterion: {}, max_depth: {}, min_samples_leaf: {}, n_estimators: {}\".format(\n",
    "                                            criterion_choice[best['criterion']], best['max_depth'], best['min_samples_leaf'], best['n_estimators']))"
   ]
  },
  {
   "cell_type": "code",
   "execution_count": 178,
   "metadata": {},
   "outputs": [
    {
     "name": "stdout",
     "output_type": "stream",
     "text": [
      "f1_score на тестовом наборе: 0.82\n"
     ]
    }
   ],
   "source": [
    "# рассчитаем точность для тестовой выборки\n",
    "model_rfc_cv = ensemble.RandomForestClassifier(\n",
    "    random_state=random_state, \n",
    "    n_estimators=int(best['n_estimators']),\n",
    "    max_depth=int(best['max_depth']),\n",
    "    min_samples_leaf=int(best['min_samples_leaf']),\n",
    "    criterion=criterion_choice[best['criterion']]\n",
    ")\n",
    "model_rfc_cv.fit(X_train, y_train)\n",
    "y_test_pred = model_rfc_cv.predict(X_test)\n",
    "print('f1_score на тестовом наборе: {:.2f}'.format(metrics.f1_score(y_test, y_test_pred)))"
   ]
  },
  {
   "attachments": {},
   "cell_type": "markdown",
   "metadata": {},
   "source": [
    "### <center> **OPTUNA**"
   ]
  },
  {
   "cell_type": "code",
   "execution_count": 179,
   "metadata": {},
   "outputs": [],
   "source": [
    "import optuna"
   ]
  },
  {
   "attachments": {},
   "cell_type": "markdown",
   "metadata": {},
   "source": [
    "ЛОГИСТИЧЕСКАЯ РЕГРЕССИЯ + OPTUNA"
   ]
  },
  {
   "cell_type": "code",
   "execution_count": 180,
   "metadata": {},
   "outputs": [],
   "source": [
    "def optuna_lr(trial):\n",
    "  # задаем пространства поиска гиперпараметров\n",
    "  penalty = trial.suggest_categorical('penalty', penalty_choice)\n",
    "  solver = trial.suggest_categorical('solver', solver_choice)\n",
    "  C = trial.suggest_categorical('C', C_choice)\n",
    "\n",
    "  # создаем модель\n",
    "  model_lr = linear_model.LogisticRegression(random_state=random_state,\n",
    "                                             max_iter=max_iter,\n",
    "                                             penalty = penalty,\n",
    "                                             solver = solver,\n",
    "                                             C = C)\n",
    "  \n",
    "  # обучаем модель\n",
    "  model_lr.fit(X_train, y_train)\n",
    "  score = metrics.f1_score(y_train, model_lr.predict(X_train))\n",
    "\n",
    "  return score"
   ]
  },
  {
   "cell_type": "code",
   "execution_count": 181,
   "metadata": {},
   "outputs": [
    {
     "name": "stderr",
     "output_type": "stream",
     "text": [
      "[I 2023-06-22 20:45:33,725] A new study created in memory with name: LogisticRegression\n",
      "[I 2023-06-22 20:45:34,189] Trial 0 finished with value: 0.8483009708737865 and parameters: {'penalty': 'l2', 'solver': 'lbfgs', 'C': 0.1}. Best is trial 0 with value: 0.8483009708737865.\n",
      "[I 2023-06-22 20:45:34,603] Trial 1 finished with value: 0.8708891595615104 and parameters: {'penalty': 'l2', 'solver': 'lbfgs', 'C': 1}. Best is trial 1 with value: 0.8708891595615104.\n",
      "[I 2023-06-22 20:45:35,029] Trial 2 finished with value: 0.8682598039215687 and parameters: {'penalty': 'l2', 'solver': 'lbfgs', 'C': 0.5}. Best is trial 1 with value: 0.8708891595615104.\n",
      "[I 2023-06-22 20:45:37,757] Trial 3 finished with value: 0.8690330477356182 and parameters: {'penalty': 'l2', 'solver': 'sag', 'C': 1}. Best is trial 1 with value: 0.8708891595615104.\n",
      "[I 2023-06-22 20:45:40,576] Trial 4 finished with value: 0.8661369193154035 and parameters: {'penalty': 'l2', 'solver': 'sag', 'C': 0.5}. Best is trial 1 with value: 0.8708891595615104.\n",
      "[I 2023-06-22 20:45:43,149] Trial 5 finished with value: 0.8493482873598059 and parameters: {'penalty': 'l2', 'solver': 'sag', 'C': 0.1}. Best is trial 1 with value: 0.8708891595615104.\n",
      "[I 2023-06-22 20:45:43,551] Trial 6 finished with value: 0.8775698066891684 and parameters: {'penalty': 'none', 'solver': 'lbfgs', 'C': 0.5}. Best is trial 6 with value: 0.8775698066891684.\n",
      "[I 2023-06-22 20:45:46,117] Trial 7 finished with value: 0.8727050183598531 and parameters: {'penalty': 'none', 'solver': 'sag', 'C': 0.1}. Best is trial 6 with value: 0.8775698066891684.\n",
      "[I 2023-06-22 20:45:48,536] Trial 8 finished with value: 0.8690330477356182 and parameters: {'penalty': 'l2', 'solver': 'sag', 'C': 1}. Best is trial 6 with value: 0.8775698066891684.\n",
      "[I 2023-06-22 20:45:51,028] Trial 9 finished with value: 0.8690330477356182 and parameters: {'penalty': 'l2', 'solver': 'sag', 'C': 1}. Best is trial 6 with value: 0.8775698066891684.\n",
      "[I 2023-06-22 20:45:51,417] Trial 10 finished with value: 0.8775698066891684 and parameters: {'penalty': 'none', 'solver': 'lbfgs', 'C': 0.5}. Best is trial 6 with value: 0.8775698066891684.\n",
      "[I 2023-06-22 20:45:51,848] Trial 11 finished with value: 0.8775698066891684 and parameters: {'penalty': 'none', 'solver': 'lbfgs', 'C': 0.5}. Best is trial 6 with value: 0.8775698066891684.\n",
      "[I 2023-06-22 20:45:52,267] Trial 12 finished with value: 0.8775698066891684 and parameters: {'penalty': 'none', 'solver': 'lbfgs', 'C': 0.5}. Best is trial 6 with value: 0.8775698066891684.\n",
      "[I 2023-06-22 20:45:52,694] Trial 13 finished with value: 0.8775698066891684 and parameters: {'penalty': 'none', 'solver': 'lbfgs', 'C': 0.5}. Best is trial 6 with value: 0.8775698066891684.\n",
      "[I 2023-06-22 20:45:53,123] Trial 14 finished with value: 0.8775698066891684 and parameters: {'penalty': 'none', 'solver': 'lbfgs', 'C': 0.5}. Best is trial 6 with value: 0.8775698066891684.\n",
      "[I 2023-06-22 20:45:53,619] Trial 15 finished with value: 0.8775698066891684 and parameters: {'penalty': 'none', 'solver': 'lbfgs', 'C': 0.5}. Best is trial 6 with value: 0.8775698066891684.\n",
      "[I 2023-06-22 20:45:54,032] Trial 16 finished with value: 0.8775698066891684 and parameters: {'penalty': 'none', 'solver': 'lbfgs', 'C': 0.5}. Best is trial 6 with value: 0.8775698066891684.\n",
      "[I 2023-06-22 20:45:54,432] Trial 17 finished with value: 0.8775698066891684 and parameters: {'penalty': 'none', 'solver': 'lbfgs', 'C': 0.5}. Best is trial 6 with value: 0.8775698066891684.\n",
      "[I 2023-06-22 20:45:54,813] Trial 18 finished with value: 0.8775698066891684 and parameters: {'penalty': 'none', 'solver': 'lbfgs', 'C': 0.5}. Best is trial 6 with value: 0.8775698066891684.\n",
      "[I 2023-06-22 20:45:55,210] Trial 19 finished with value: 0.8775698066891684 and parameters: {'penalty': 'none', 'solver': 'lbfgs', 'C': 0.1}. Best is trial 6 with value: 0.8775698066891684.\n"
     ]
    },
    {
     "name": "stdout",
     "output_type": "stream",
     "text": [
      "CPU times: total: 35.3 s\n",
      "Wall time: 21.5 s\n"
     ]
    }
   ],
   "source": [
    "%%time\n",
    "# cоздаем объект исследования\n",
    "# можем напрямую указать, что нам необходимо максимизировать метрику direction=\"maximize\"\n",
    "study = optuna.create_study(study_name=\"LogisticRegression\", direction=\"maximize\")\n",
    "# ищем лучшую комбинацию гиперпараметров n_trials раз\n",
    "study.optimize(optuna_lr, n_trials=20)"
   ]
  },
  {
   "cell_type": "code",
   "execution_count": 182,
   "metadata": {},
   "outputs": [
    {
     "name": "stdout",
     "output_type": "stream",
     "text": [
      "Наилучшие значения гиперпараметров {'penalty': 'none', 'solver': 'lbfgs', 'C': 0.5}\n",
      "f1_score на тестовом наборе: 0.78\n"
     ]
    }
   ],
   "source": [
    "# выводим результаты на обучающей выборке\n",
    "print(\"Наилучшие значения гиперпараметров {}\".format(study.best_params))\n",
    "\n",
    "# рассчитаем точность для тестовой выборки\n",
    "model_lr = linear_model.LogisticRegression(**study.best_params,random_state=random_state, max_iter=max_iter)\n",
    "model_lr.fit(X_train, y_train)\n",
    "y_test_pred = model_lr.predict(X_test)\n",
    "print('f1_score на тестовом наборе: {:.2f}'.format(metrics.f1_score(y_test, y_test_pred)))"
   ]
  },
  {
   "attachments": {},
   "cell_type": "markdown",
   "metadata": {},
   "source": [
    "СЛУЧАЙНЫЕ ЛЕС + OPTUNA"
   ]
  },
  {
   "cell_type": "code",
   "execution_count": 183,
   "metadata": {},
   "outputs": [],
   "source": [
    "def optuna_rfc(trial):\n",
    "  # задаем пространства поиска гиперпараметров\n",
    "  n_estimators = trial.suggest_int('n_estimators', 100, 200, 1)\n",
    "  max_depth = trial.suggest_int('max_depth', 1, 30, 1)\n",
    "  min_samples_leaf = trial.suggest_int('min_samples_leaf', 5, 100, 10)\n",
    "  criterion = trial.suggest_categorical('criterion', criterion_choice)\n",
    "\n",
    "  # создаем модель\n",
    "  model_rfc = ensemble.RandomForestClassifier(n_estimators=n_estimators,\n",
    "                                          max_depth=max_depth,\n",
    "                                          min_samples_leaf=min_samples_leaf,\n",
    "                                          criterion = criterion,\n",
    "                                          random_state=random_state)\n",
    "  # обучаем модель\n",
    "  model_rfc.fit(X_train, y_train)\n",
    "  score = metrics.f1_score(y_train, model_rfc.predict(X_train))\n",
    "\n",
    "  return score"
   ]
  },
  {
   "cell_type": "code",
   "execution_count": 184,
   "metadata": {},
   "outputs": [
    {
     "name": "stderr",
     "output_type": "stream",
     "text": [
      "[I 2023-06-22 20:45:55,629] A new study created in memory with name: RandomForestClassifier\n",
      "[I 2023-06-22 20:45:57,254] Trial 0 finished with value: 0.7811080835603997 and parameters: {'n_estimators': 162, 'max_depth': 22, 'min_samples_leaf': 85, 'criterion': 'entropy'}. Best is trial 0 with value: 0.7811080835603997.\n",
      "[I 2023-06-22 20:45:59,675] Trial 1 finished with value: 0.8392802683745044 and parameters: {'n_estimators': 163, 'max_depth': 23, 'min_samples_leaf': 25, 'criterion': 'entropy'}. Best is trial 1 with value: 0.8392802683745044.\n",
      "[I 2023-06-22 20:46:00,682] Trial 2 finished with value: 0.7897590361445783 and parameters: {'n_estimators': 108, 'max_depth': 20, 'min_samples_leaf': 75, 'criterion': 'gini'}. Best is trial 1 with value: 0.8392802683745044.\n",
      "[I 2023-06-22 20:46:02,203] Trial 3 finished with value: 0.8204031765424558 and parameters: {'n_estimators': 113, 'max_depth': 17, 'min_samples_leaf': 35, 'criterion': 'entropy'}. Best is trial 1 with value: 0.8392802683745044.\n",
      "[I 2023-06-22 20:46:03,953] Trial 4 finished with value: 0.7968273337400854 and parameters: {'n_estimators': 152, 'max_depth': 28, 'min_samples_leaf': 55, 'criterion': 'gini'}. Best is trial 1 with value: 0.8392802683745044.\n",
      "[I 2023-06-22 20:46:05,073] Trial 5 finished with value: 0.7926350739511018 and parameters: {'n_estimators': 105, 'max_depth': 19, 'min_samples_leaf': 65, 'criterion': 'gini'}. Best is trial 1 with value: 0.8392802683745044.\n",
      "[I 2023-06-22 20:46:06,842] Trial 6 finished with value: 0.7784867821330902 and parameters: {'n_estimators': 197, 'max_depth': 8, 'min_samples_leaf': 85, 'criterion': 'gini'}. Best is trial 1 with value: 0.8392802683745044.\n",
      "[I 2023-06-22 20:46:08,577] Trial 7 finished with value: 0.7954960438222763 and parameters: {'n_estimators': 157, 'max_depth': 23, 'min_samples_leaf': 55, 'criterion': 'entropy'}. Best is trial 1 with value: 0.8392802683745044.\n",
      "[I 2023-06-22 20:46:10,623] Trial 8 finished with value: 0.8190709046454766 and parameters: {'n_estimators': 172, 'max_depth': 14, 'min_samples_leaf': 35, 'criterion': 'gini'}. Best is trial 1 with value: 0.8392802683745044.\n",
      "[I 2023-06-22 20:46:12,120] Trial 9 finished with value: 0.7951219512195122 and parameters: {'n_estimators': 135, 'max_depth': 17, 'min_samples_leaf': 55, 'criterion': 'gini'}. Best is trial 1 with value: 0.8392802683745044.\n",
      "[I 2023-06-22 20:46:16,501] Trial 10 finished with value: 0.9523518631643251 and parameters: {'n_estimators': 186, 'max_depth': 30, 'min_samples_leaf': 5, 'criterion': 'entropy'}. Best is trial 10 with value: 0.9523518631643251.\n",
      "[I 2023-06-22 20:46:20,996] Trial 11 finished with value: 0.9526428353192791 and parameters: {'n_estimators': 186, 'max_depth': 29, 'min_samples_leaf': 5, 'criterion': 'entropy'}. Best is trial 11 with value: 0.9526428353192791.\n",
      "[I 2023-06-22 20:46:25,626] Trial 12 finished with value: 0.9526717557251908 and parameters: {'n_estimators': 195, 'max_depth': 30, 'min_samples_leaf': 5, 'criterion': 'entropy'}. Best is trial 12 with value: 0.9526717557251908.\n",
      "[I 2023-06-22 20:46:30,127] Trial 13 finished with value: 0.952119548642879 and parameters: {'n_estimators': 196, 'max_depth': 27, 'min_samples_leaf': 5, 'criterion': 'entropy'}. Best is trial 12 with value: 0.9526717557251908.\n",
      "[I 2023-06-22 20:46:33,012] Trial 14 finished with value: 0.8682836966533619 and parameters: {'n_estimators': 180, 'max_depth': 11, 'min_samples_leaf': 15, 'criterion': 'entropy'}. Best is trial 12 with value: 0.9526717557251908.\n",
      "[I 2023-06-22 20:46:34,255] Trial 15 finished with value: 0.7725190839694657 and parameters: {'n_estimators': 141, 'max_depth': 4, 'min_samples_leaf': 25, 'criterion': 'entropy'}. Best is trial 12 with value: 0.9526717557251908.\n",
      "[I 2023-06-22 20:46:38,555] Trial 16 finished with value: 0.9520610687022901 and parameters: {'n_estimators': 186, 'max_depth': 26, 'min_samples_leaf': 5, 'criterion': 'entropy'}. Best is trial 12 with value: 0.9526717557251908.\n",
      "[I 2023-06-22 20:46:41,136] Trial 17 finished with value: 0.8212648945921174 and parameters: {'n_estimators': 198, 'max_depth': 30, 'min_samples_leaf': 35, 'criterion': 'entropy'}. Best is trial 12 with value: 0.9526717557251908.\n",
      "[I 2023-06-22 20:46:44,154] Trial 18 finished with value: 0.8738574040219379 and parameters: {'n_estimators': 178, 'max_depth': 26, 'min_samples_leaf': 15, 'criterion': 'entropy'}. Best is trial 12 with value: 0.9526717557251908.\n",
      "[I 2023-06-22 20:46:46,358] Trial 19 finished with value: 0.873816070882982 and parameters: {'n_estimators': 124, 'max_depth': 13, 'min_samples_leaf': 15, 'criterion': 'entropy'}. Best is trial 12 with value: 0.9526717557251908.\n"
     ]
    },
    {
     "name": "stdout",
     "output_type": "stream",
     "text": [
      "CPU times: total: 50.5 s\n",
      "Wall time: 50.7 s\n"
     ]
    }
   ],
   "source": [
    "%%time\n",
    "# cоздаем объект исследования\n",
    "# можем напрямую указать, что нам необходимо максимизировать метрику direction=\"maximize\"\n",
    "study = optuna.create_study(study_name=\"RandomForestClassifier\", direction=\"maximize\")\n",
    "# ищем лучшую комбинацию гиперпараметров n_trials раз\n",
    "study.optimize(optuna_rfc, n_trials=20)"
   ]
  },
  {
   "cell_type": "code",
   "execution_count": 185,
   "metadata": {},
   "outputs": [
    {
     "name": "stdout",
     "output_type": "stream",
     "text": [
      "Наилучшие значения гиперпараметров {'n_estimators': 195, 'max_depth': 30, 'min_samples_leaf': 5, 'criterion': 'entropy'}\n",
      "f1_score на тестовом наборе: 0.82\n"
     ]
    }
   ],
   "source": [
    "# выводим результаты на обучающей выборке\n",
    "print(\"Наилучшие значения гиперпараметров {}\".format(study.best_params))\n",
    "\n",
    "# рассчитаем точность для тестовой выборки\n",
    "model_rfc = ensemble.RandomForestClassifier(**study.best_params,random_state=random_state)\n",
    "model_rfc.fit(X_train, y_train)\n",
    "y_test_pred = model_rfc.predict(X_test)\n",
    "print('f1_score на тестовом наборе: {:.2f}'.format(metrics.f1_score(y_test, y_test_pred)))"
   ]
  }
 ],
 "metadata": {
  "kernelspec": {
   "display_name": "Python 3",
   "language": "python",
   "name": "python3"
  },
  "language_info": {
   "codemirror_mode": {
    "name": "ipython",
    "version": 3
   },
   "file_extension": ".py",
   "mimetype": "text/x-python",
   "name": "python",
   "nbconvert_exporter": "python",
   "pygments_lexer": "ipython3",
   "version": "3.9.10"
  },
  "orig_nbformat": 4
 },
 "nbformat": 4,
 "nbformat_minor": 2
}
